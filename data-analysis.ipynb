{
 "cells": [
  {
   "cell_type": "code",
   "execution_count": 1,
   "metadata": {},
   "outputs": [],
   "source": [
    "%config Completer.use_jedi = False\n",
    "import os, mne\n",
    "import numpy as np\n",
    "import pandas as pd\n",
    "from matplotlib import pyplot as plt\n",
    "from matplotlib import gridspec\n",
    "import seaborn as sns\n",
    "from datetime import datetime\n",
    "from tqdm import tqdm\n",
    "import json\n",
    "from copy import deepcopy\n",
    "\n",
    "plt.rc('text', usetex=True) \n",
    "\n",
    "font = {'family' : 'serif',\n",
    "        'size'   : '20',\n",
    "        'serif' : ['Computer Modern'],\n",
    "        'sans-serif' : ['Computer Modern']}  \n",
    "\n",
    "plt.rc('font', **font)\n",
    "plt.rc('axes', titlesize=28, labelsize=20)\n",
    "plt.rc('xtick', labelsize=16)\n",
    "plt.rc('ytick', labelsize=16)\n",
    "plt.rc('legend', fontsize=16)  \n",
    "\n",
    "save_dir = 'C:/Users/andersgm/Documents/Courses/02466 Project work F21/Project/Plots/'\n",
    "\n",
    "#sns.set_style(\"whitegrid\")"
   ]
  },
  {
   "cell_type": "code",
   "execution_count": 2,
   "metadata": {},
   "outputs": [],
   "source": [
    "#01_tcp_ar"
   ]
  },
  {
   "cell_type": "markdown",
   "metadata": {},
   "source": [
    "### Patient Statistics"
   ]
  },
  {
   "cell_type": "code",
   "execution_count": 3,
   "metadata": {},
   "outputs": [],
   "source": [
    "edfs = []\n",
    "for root, dirs, files in os.walk(r\"C:\\Users\\andersgm\\Documents\\Courses\\02466 Project work F21\\Project\\Experiment\\artifact_dataset\"):\n",
    "    for file in files:\n",
    "        if file.endswith(\".edf\"):\n",
    "             edfs.append(root + \"\\\\\" + file)\n",
    "\n",
    "\n",
    "session_lengths = []\n",
    "sfreqs = []\n",
    "nchans = []\n",
    "years = []\n",
    "\n",
    "for edf in edfs:\n",
    "    data = mne.io.read_raw_edf(edf, verbose=False)\n",
    "    if edf.split('\\\\')[-1] == '00010158_s001_t001.edf': #Fix EDF date mistake\n",
    "        data.info['meas_date'] = datetime(2013, 1, 1)\n",
    "    \n",
    "    session_lengths.append(data.n_times / data.info['sfreq'])\n",
    "    sfreqs.append(data.info['sfreq'])\n",
    "    nchans.append(data.info['nchan'])\n",
    "    years.append(data.info['meas_date'].year)"
   ]
  },
  {
   "cell_type": "code",
   "execution_count": 4,
   "metadata": {},
   "outputs": [],
   "source": [
    "txts = []\n",
    "for root, dirs, files in os.walk(r\"C:\\Users\\andersgm\\Documents\\Courses\\02466 Project work F21\\Project\\Experiment\\artifact_dataset\"):\n",
    "    for file in files:\n",
    "        if file.endswith(\".txt\"):\n",
    "             txts.append(root + \"\\\\\" + file)\n",
    "\n",
    "age = []\n",
    "for txt in txts:\n",
    "    with open(txt, \"rb\") as file:\n",
    "        s = file.read().decode('latin-1').lower()\n",
    "        try:\n",
    "            if s.find('year') != -1:\n",
    "                index = s.find('year')\n",
    "                age.append(int(\"\".join(filter(str.isdigit, s[index-10: index]))))\n",
    "            elif s.find('yr') != -1:\n",
    "                index = s.find('yr')\n",
    "                age.append(int(\"\".join(filter(str.isdigit, s[index-10: index]))))\n",
    "            elif s.find('yo ') != -1:\n",
    "                index = s.find('yo ')\n",
    "                age.append(int(\"\".join(filter(str.isdigit, s[index-10: index]))))\n",
    "        except:\n",
    "            pass"
   ]
  },
  {
   "cell_type": "code",
   "execution_count": 5,
   "metadata": {},
   "outputs": [
    {
     "name": "stdout",
     "output_type": "stream",
     "text": [
      "Average session length: 1161.084\n"
     ]
    }
   ],
   "source": [
    "print(\"Average session length: {:.3f}\".format(np.mean(session_lengths)))"
   ]
  },
  {
   "cell_type": "code",
   "execution_count": 6,
   "metadata": {},
   "outputs": [
    {
     "data": {
      "image/png": "[encoded data removed]",
      "text/plain": [
       "<Figure size 864x216 with 3 Axes>"
      ]
     },
     "metadata": {
      "needs_background": "light"
     },
     "output_type": "display_data"
    }
   ],
   "source": [
    "fig, ax = plt.subplots(nrows=1, ncols=3, figsize=(12,3))\n",
    "\n",
    "ax[0].hist(session_lengths, bins=20, rwidth=0.90, color=\"#990000\")\n",
    "ax[0].grid(axis='y')\n",
    "ax[0].set_ylabel(r'{Count}', size=18)\n",
    "ax[0].set_xlabel(r'{Session length}', size=18)\n",
    "#ax[0].set_yscale('log')\n",
    "ax[1].hist(years, bins=8, rwidth=0.90, color=\"#990000\")\n",
    "ax[1].grid(axis='y')\n",
    "ax[1].set_xlabel(r'{Year of recording}', size=18)\n",
    "ax[2].hist(age, bins=20, rwidth=0.90, color=\"#990000\")\n",
    "ax[2].grid(axis='y')\n",
    "ax[2].set_xlabel(r'{Age of patient}', size=18)\n",
    "#plt.tight_layout()\n",
    "plt.savefig(save_dir + \"patient_statistics.png\", dpi=1000, bbox_inches = 'tight')\n",
    "plt.show()"
   ]
  },
  {
   "cell_type": "markdown",
   "metadata": {},
   "source": [
    "### Artifact Statistics"
   ]
  },
  {
   "cell_type": "code",
   "execution_count": 7,
   "metadata": {},
   "outputs": [],
   "source": [
    "df = pd.read_pickle(r\"C:\\Users\\andersgm\\Documents\\Courses\\02466 Project work F21\\Project\\dataframe_float32.pkl\")"
   ]
  },
  {
   "cell_type": "code",
   "execution_count": 8,
   "metadata": {},
   "outputs": [],
   "source": [
    "label_dict = {'chew': 0, 'elpp': 1, 'eyem': 2, 'musc': 3, 'shiv': 4, 'null': 5}"
   ]
  },
  {
   "cell_type": "code",
   "execution_count": 9,
   "metadata": {},
   "outputs": [],
   "source": [
    "with open(r\"C:\\Users\\andersgm\\Documents\\Courses\\02466 Project work F21\\Project\\artifacts.json\") as file:\n",
    "    artifacts = json.load(file)"
   ]
  },
  {
   "cell_type": "code",
   "execution_count": 10,
   "metadata": {},
   "outputs": [],
   "source": [
    "artifact_lengths = [[], [], [], [], [], []]\n",
    "for patient in artifacts.values():\n",
    "    for session in patient.values():\n",
    "        for start, end, label in session:\n",
    "            artifact_lengths[label_dict[label]].append(end-start)"
   ]
  },
  {
   "cell_type": "code",
   "execution_count": 11,
   "metadata": {},
   "outputs": [
    {
     "name": "stdout",
     "output_type": "stream",
     "text": [
      "[16.070947959183677, 5.685153776435045, 6.179934807149574, 13.429267518248166, 4.256044927536232, 128.0338426829268]\n"
     ]
    }
   ],
   "source": [
    "print([np.mean(lengths) for lengths in artifact_lengths])"
   ]
  },
  {
   "cell_type": "code",
   "execution_count": 12,
   "metadata": {},
   "outputs": [],
   "source": [
    "color_dict = {0: \"#f5cf40\", 1: \"#e63f47\", 2: \"#0ed280\", 3: \"#fc7323\", 4: \"#79218f\", 5: \"#828bf2\"} "
   ]
  },
  {
   "cell_type": "code",
   "execution_count": 26,
   "metadata": {
    "scrolled": false
   },
   "outputs": [
    {
     "data": {
      "image/png": "[encoded data removed]",
      "text/plain": [
       "<Figure size 1008x360 with 6 Axes>"
      ]
     },
     "metadata": {
      "needs_background": "light"
     },
     "output_type": "display_data"
    }
   ],
   "source": [
    "fig, ax = plt.subplots(nrows=2, ncols=3, figsize=(14,5))\n",
    "\n",
    "gen_bins = lambda a, n: np.power(10, np.linspace(0, np.log10(np.max(a)), n))\n",
    "\n",
    "ax[0,0].hist(artifact_lengths[0], bins=gen_bins(artifact_lengths[0], 15), rwidth=0.80, color=color_dict[0])\n",
    "ax[0,0].grid(axis='y')\n",
    "ax[0,0].set_xscale('log')\n",
    "ax[0,0].set_ylabel('Count')\n",
    "ax[0,0].yaxis.set_major_locator(plt.MaxNLocator(5))\n",
    "ax[0,0].title.set_text(r'{\\huge {Chewing}')\n",
    "\n",
    "ax[0,1].hist(artifact_lengths[1], bins=gen_bins(artifact_lengths[1], 15), rwidth=0.80, color=color_dict[1])\n",
    "ax[0,1].grid(axis='y')\n",
    "ax[0,1].set_xscale('log')\n",
    "ax[0,1].yaxis.set_major_locator(plt.MaxNLocator(5))\n",
    "ax[0,1].title.set_text(r'{\\huge {Electrode pop}')\n",
    "\n",
    "ax[0,2].hist(artifact_lengths[2], bins=gen_bins(artifact_lengths[2], 15), rwidth=0.80, color=color_dict[2])\n",
    "ax[0,2].grid(axis='y')\n",
    "ax[0,2].set_xscale('log')\n",
    "ax[0,2].yaxis.set_major_locator(plt.MaxNLocator(5))\n",
    "ax[0,2].title.set_text(r'{\\huge {Eye movement}')\n",
    "\n",
    "ax[1,0].hist(artifact_lengths[3], bins=gen_bins(artifact_lengths[3], 15), rwidth=0.80, color=color_dict[3])\n",
    "ax[1,0].grid(axis='y')\n",
    "ax[1,0].set_xscale('log')\n",
    "ax[1,0].set_ylabel('Count')\n",
    "ax[1,0].set_xlabel('Duration [log(s)]', size=18)\n",
    "ax[1,0].yaxis.set_major_locator(plt.MaxNLocator(5))\n",
    "ax[1,0].title.set_text(r'{\\huge {Muscle}')\n",
    "\n",
    "ax[1,1].hist(artifact_lengths[4], bins=gen_bins(artifact_lengths[4], 15), rwidth=0.80, color=color_dict[4])\n",
    "ax[1,1].grid(axis='y')\n",
    "ax[1,1].set_xscale('log')\n",
    "ax[1,1].set_xlabel('Duration [log(s)]', size=18)\n",
    "ax[1,1].yaxis.set_major_locator(plt.MaxNLocator(5))\n",
    "ax[1,1].title.set_text(r'{\\huge {Shivering}')\n",
    "\n",
    "\n",
    "ax[1,2].hist(artifact_lengths[5], bins=gen_bins(artifact_lengths[5], 15), rwidth=0.80, color=color_dict[5])\n",
    "ax[1,2].grid(axis='y')\n",
    "ax[1,2].set_xscale('log')\n",
    "ax[1,2].set_xlabel(r'Duration [log(s)]', size=18)\n",
    "ax[1,2].yaxis.set_major_locator(plt.MaxNLocator(5))\n",
    "ax[1,2].title.set_text(r'{\\huge {Null}')\n",
    "\n",
    "fig.suptitle(r\"\\textbf{Duration of artifacts}\", size=32)\n",
    "\n",
    "plt.subplots_adjust(left=0.0,\n",
    "                    bottom=0.0, \n",
    "                    right=1.0, \n",
    "                    top=0.83, \n",
    "                    wspace=0.2, \n",
    "                    hspace=0.35)\n",
    "\n",
    "plt.savefig(save_dir + \"duration_of_artifacts\", dpi=1000)\n",
    "plt.show()"
   ]
  },
  {
   "cell_type": "code",
   "execution_count": 14,
   "metadata": {},
   "outputs": [
    {
     "name": "stdout",
     "output_type": "stream",
     "text": [
      "chew\t2.30\t162.11\t16.07\t10.18\n",
      "elpp\t0.75\t80.18\t5.69\t3.08\n",
      "eyem\t0.86\t63.27\t6.18\t4.19\n",
      "musc\t1.32\t140.10\t13.43\t8.04\n",
      "shiv\t0.92\t76.12\t4.26\t2.16\n",
      "null\t0.11\t2973.03\t128.03\t16.89\n"
     ]
    }
   ],
   "source": [
    "for i, length in enumerate(artifact_lengths):\n",
    "    name = list(label_dict.keys())[list(label_dict.values()).index(i)]\n",
    "    print(\"{}\\t{:.2f}\\t{:.2f}\\t{:.2f}\\t{:.2f}\".format(name, np.min(length), np.max(length), np.mean(length), np.median(length)))"
   ]
  },
  {
   "cell_type": "code",
   "execution_count": 15,
   "metadata": {
    "scrolled": true
   },
   "outputs": [
    {
     "name": "stderr",
     "output_type": "stream",
     "text": [
      "100%|████████████████████████████████████████████████████████████████████████████████| 302/302 [00:21<00:00, 13.88it/s]\n"
     ]
    }
   ],
   "source": [
    "patients_with_artifact = np.zeros(6, dtype=int)\n",
    "\n",
    "for patient_name in tqdm(np.unique(df[\"Name\"])):\n",
    "    patients_with_artifact[np.unique(df[df['Name'] == patient_name][\"Multiclass label\"])] += 1                "
   ]
  },
  {
   "cell_type": "code",
   "execution_count": 16,
   "metadata": {},
   "outputs": [
    {
     "data": {
      "image/png": "[encoded data removed]",
      "text/plain": [
       "<Figure size 432x432 with 1 Axes>"
      ]
     },
     "metadata": {
      "needs_background": "light"
     },
     "output_type": "display_data"
    }
   ],
   "source": [
    "fig, ax = plt.subplots(nrows=1, ncols=1, figsize=(6,6))\n",
    "\n",
    "mask = np.argsort(patients_with_artifact[:5])[::-1]\n",
    "names = [list(label_dict.keys())[i] for i in mask]\n",
    "counts = patients_with_artifact[:5][mask] / len(np.unique(df[\"Name\"]))\n",
    "\n",
    "\n",
    "ax.bar(names, counts, color=\"#990000\", width=0.8)\n",
    "ax.set_ylabel('Fraction of patients with artifact', size=22)\n",
    "ax.set_xlabel('Artifact', size=22)\n",
    "ax.yaxis.set_major_locator(plt.MaxNLocator(6))\n",
    "plt.subplots_adjust(left=0.0,\n",
    "                    bottom=0.0, \n",
    "                    right=1.0, \n",
    "                    top=0.90, \n",
    "                    wspace=0.2, \n",
    "                    hspace=0.35)\n",
    "\n",
    "plt.suptitle(r\"\\textbf{Distribution of artifacts among patients}\", size=22)\n",
    "plt.show()"
   ]
  },
  {
   "cell_type": "code",
   "execution_count": 17,
   "metadata": {},
   "outputs": [],
   "source": [
    "hex_to_rgb = lambda s: [int(s[1:3], 16), int(s[3:5], 16), int(s[5:7], 16)] "
   ]
  },
  {
   "cell_type": "code",
   "execution_count": 18,
   "metadata": {},
   "outputs": [],
   "source": [
    "def plot_artifacts(ax, y, dataframe):\n",
    "    image = []\n",
    "    for label in y:\n",
    "        image.append(hex_to_rgb(color_dict[label]))\n",
    "    image = np.array(image)\n",
    "    image = np.expand_dims(image, 0)\n",
    "    image = np.tile(np.repeat(image, 2, axis=1), (1, 1, 1))\n",
    "    ax.set_yticks([])\n",
    "    ax.imshow(image, interpolation='none', extent=(0, len(y)/4, 0, len(y)/4*(1/10)))\n",
    "    "
   ]
  },
  {
   "cell_type": "code",
   "execution_count": null,
   "metadata": {},
   "outputs": [],
   "source": []
  },
  {
   "cell_type": "code",
   "execution_count": 19,
   "metadata": {},
   "outputs": [
    {
     "data": {
      "image/png": "[encoded data removed]",
      "text/plain": [
       "<Figure size 864x720 with 5 Axes>"
      ]
     },
     "metadata": {
      "needs_background": "light"
     },
     "output_type": "display_data"
    }
   ],
   "source": [
    "fig, ax = plt.subplots(nrows=5, ncols=1, figsize=(12,10))\n",
    "\n",
    "for i, patient_name in enumerate(np.random.choice(np.unique(df[\"Name\"]), 5)):\n",
    "    patient = deepcopy(df[df[\"Name\"] == patient_name])\n",
    "    patient = patient.sort_values(by=\"Start\", ascending=True, key=lambda col: col.values).reset_index(drop=True)\n",
    "    plot_artifacts(ax[i], patient[\"Multiclass label\"], patient)\n",
    "    ax[i].title.set_text(\"{\\\\huge %s\" % (patient_name.replace(\"_\", \"\\\\_\")))\n",
    "\n",
    "ax[4].set_xlabel(\"Seconds\")    \n",
    "plt.subplots_adjust(left=0.0,\n",
    "                    bottom=0.0, \n",
    "                    right=1.0, \n",
    "                    top=0.90, \n",
    "                    wspace=0.4, \n",
    "                    hspace=0.5)\n",
    "plt.show()"
   ]
  },
  {
   "cell_type": "code",
   "execution_count": 20,
   "metadata": {},
   "outputs": [],
   "source": [
    "artifact_windows = [np.stack(df[df[\"Multiclass label\"] == i][\"Window\"].values) for i in range(6)]"
   ]
  },
  {
   "cell_type": "code",
   "execution_count": 21,
   "metadata": {},
   "outputs": [],
   "source": [
    "artifact_names = ['Chewing', 'Electrode Pop', 'Eye Movement', 'Muscle', 'Shivering', 'Null']"
   ]
  },
  {
   "cell_type": "code",
   "execution_count": 22,
   "metadata": {},
   "outputs": [
    {
     "ename": "NameError",
     "evalue": "name 'im' is not defined",
     "output_type": "error",
     "traceback": [
      "\u001b[1;31m---------------------------------------------------------------------------\u001b[0m",
      "\u001b[1;31mNameError\u001b[0m                                 Traceback (most recent call last)",
      "\u001b[1;32m<ipython-input-22-58304e0df4de>\u001b[0m in \u001b[0;36m<module>\u001b[1;34m\u001b[0m\n\u001b[0;32m      5\u001b[0m \u001b[0mfig\u001b[0m\u001b[1;33m.\u001b[0m\u001b[0msubplots_adjust\u001b[0m\u001b[1;33m(\u001b[0m\u001b[0mright\u001b[0m\u001b[1;33m=\u001b[0m\u001b[1;36m0.85\u001b[0m\u001b[1;33m)\u001b[0m\u001b[1;33m\u001b[0m\u001b[1;33m\u001b[0m\u001b[0m\n\u001b[0;32m      6\u001b[0m \u001b[0mcbar_ax\u001b[0m \u001b[1;33m=\u001b[0m \u001b[0mfig\u001b[0m\u001b[1;33m.\u001b[0m\u001b[0madd_axes\u001b[0m\u001b[1;33m(\u001b[0m\u001b[1;33m[\u001b[0m\u001b[1;36m0.88\u001b[0m\u001b[1;33m,\u001b[0m \u001b[1;36m0.15\u001b[0m\u001b[1;33m,\u001b[0m \u001b[1;36m0.04\u001b[0m\u001b[1;33m,\u001b[0m \u001b[1;36m0.7\u001b[0m\u001b[1;33m]\u001b[0m\u001b[1;33m)\u001b[0m\u001b[1;33m\u001b[0m\u001b[1;33m\u001b[0m\u001b[0m\n\u001b[1;32m----> 7\u001b[1;33m \u001b[0mfig\u001b[0m\u001b[1;33m.\u001b[0m\u001b[0mcolorbar\u001b[0m\u001b[1;33m(\u001b[0m\u001b[0mim\u001b[0m\u001b[1;33m,\u001b[0m \u001b[0mcax\u001b[0m\u001b[1;33m=\u001b[0m\u001b[0mcbar_ax\u001b[0m\u001b[1;33m)\u001b[0m\u001b[1;33m\u001b[0m\u001b[1;33m\u001b[0m\u001b[0m\n\u001b[0m\u001b[0;32m      8\u001b[0m \u001b[1;33m\u001b[0m\u001b[0m\n\u001b[0;32m      9\u001b[0m \u001b[0mfig\u001b[0m\u001b[1;33m.\u001b[0m\u001b[0mshow\u001b[0m\u001b[1;33m(\u001b[0m\u001b[1;33m)\u001b[0m\u001b[1;33m\u001b[0m\u001b[1;33m\u001b[0m\u001b[0m\n",
      "\u001b[1;31mNameError\u001b[0m: name 'im' is not defined"
     ]
    }
   ],
   "source": [
    "        for a in ax.flat:\n",
    "            a.label_outer()\n",
    "        fig.suptitle(artifact_names[i])\n",
    "\n",
    "        fig.subplots_adjust(right=0.85)\n",
    "        cbar_ax = fig.add_axes([0.88, 0.15, 0.04, 0.7])\n",
    "        fig.colorbar(im, cax=cbar_ax)\n",
    "\n",
    "        fig.show()"
   ]
  },
  {
   "cell_type": "code",
   "execution_count": null,
   "metadata": {
    "scrolled": false
   },
   "outputs": [],
   "source": [
    "fig, ax = plt.subplots(nrows=3, ncols=6, sharex=True, sharey=True, figsize=(16, 6))\n",
    "for i, artifact in enumerate(artifact_windows):\n",
    "    ax[0,i].title.set_text(\"{\\huge %s}\" % artifact_names[i])\n",
    "    for row in range(3):\n",
    "        idx = np.random.choice(len(artifact))\n",
    "        x = np.reshape(artifact[idx], (19, 25))\n",
    "        im = ax[row, i].imshow(x, cmap=\"magma\")\n",
    "        im.set_clim(-2,2)\n",
    "        ax[row, i].set_xticks([])\n",
    "\n",
    "plt.show()"
   ]
  },
  {
   "cell_type": "code",
   "execution_count": null,
   "metadata": {},
   "outputs": [],
   "source": [
    "fig, ax = plt.subplots(2, 3, sharey=True, sharex=True, figsize=(16,8))\n",
    "fig.tight_layout()\n",
    "\n",
    "electrode_names = ['Fp1', 'F7', 'T3', 'T5', 'F3', 'C3', 'P3', 'O1', 'Cz', 'Fp2', 'F4', 'C4', 'P4', 'O2', 'F8', 'T4', 'T6', 'A1', 'A2']\n",
    "\n",
    "for i, artifact in enumerate(artifact_windows):\n",
    "    x = np.mean(artifact, axis=0)\n",
    "\n",
    "    im = ax[i % 2, i % 3].imshow(x, cmap=\"magma\")\n",
    "    im.set_clim(-1, 1)\n",
    "    ax[i % 2, i % 3].set_title(artifact_names[i])\n",
    "\n",
    "    #if i == 5:\n",
    "    #    ax[i % 2, i % 3].set_visible(False)\n",
    "\n",
    "fig.subplots_adjust(right=0.85)\n",
    "cbar_ax = fig.add_axes([0.88, 0.15, 0.04, 0.7])\n",
    "fig.colorbar(im, cax=cbar_ax)\n",
    "\n",
    "plt.subplots_adjust(left=None, bottom=None, right=None, top=None, wspace=None, hspace=.05)\n",
    "plt.show()"
   ]
  },
  {
   "cell_type": "code",
   "execution_count": null,
   "metadata": {},
   "outputs": [],
   "source": []
  }
 ],
 "metadata": {
  "kernelspec": {
   "display_name": "epilepsy",
   "language": "python",
   "name": "epilepsy"
  },
  "language_info": {
   "codemirror_mode": {
    "name": "ipython",
    "version": 3
   },
   "file_extension": ".py",
   "mimetype": "text/x-python",
   "name": "python",
   "nbconvert_exporter": "python",
   "pygments_lexer": "ipython3",
   "version": "3.8.5"
  }
 },
 "nbformat": 4,
 "nbformat_minor": 4
}
