{
 "cells": [
  {
   "cell_type": "code",
   "execution_count": 1,
   "id": "national-bedroom",
   "metadata": {},
   "outputs": [],
   "source": [
    "import numpy as np\n",
    "import matplotlib.pyplot as plt\n",
    "#import GPyOpt\n",
    "from torchvision import datasets, transforms, utils\n",
    "from sklearn.ensemble import RandomForestClassifier\n",
    "from sklearn.naive_bayes import GaussianNB\n",
    "from sklearn.model_selection import ParameterSampler, RandomizedSearchCV, cross_val_score\n",
    "from scipy.stats import uniform\n",
    "import random\n",
    "import torch\n",
    "from sklearn.preprocessing import LabelEncoder\n",
    "from sklearn.preprocessing import OneHotEncoder\n",
    "import numpy as np\n",
    "import torch\n",
    "# Models\n",
    "from sklearn.preprocessing import StandardScaler\n",
    "from sklearn.ensemble import RandomForestClassifier\n",
    "from sklearn.neural_network import MLPClassifier\n",
    "from sklearn.neural_network import MLPRegressor\n",
    "from sklearn.discriminant_analysis import LinearDiscriminantAnalysis\n",
    "from sklearn.utils import resample\n",
    "#one hot encoding\n",
    "from sklearn.preprocessing import LabelEncoder\n",
    "from sklearn.preprocessing import OneHotEncoder\n",
    "\n",
    "# Score Metrics\n",
    "from sklearn.metrics import f1_score\n",
    "from sklearn.metrics import recall_score\n",
    "from sklearn.metrics import precision_score\n",
    "from sklearn.metrics import balanced_accuracy_score\n",
    "from sklearn.metrics import classification_report\n",
    "\n",
    "from tqdm import tqdm\n",
    "#plot spectrogram\n",
    "from matplotlib.pyplot import specgram\n",
    "\n",
    "#mixup\n",
    "import random\n",
    "from sklearn.utils import shuffle\n",
    "from imblearn.over_sampling import RandomOverSampler\n",
    "#from mixup import mix, mixupreg, converttohardlabel\n",
    "#from mixup import mix\n",
    "\n",
    "from scipy import stats\n",
    "\n",
    "#CM\n",
    "from sklearn.metrics import confusion_matrix\n",
    "np.random.seed(32)\n",
    "random.seed(32)"
   ]
  },
  {
   "cell_type": "code",
   "execution_count": 2,
   "id": "human-guatemala",
   "metadata": {},
   "outputs": [],
   "source": [
    "# Mixing two training data points and returning the mixed data point and its label between 0 and 1\n",
    "def mix(eeg_info_1=None, eeg_info_2=None, lambd=None):\n",
    "\n",
    "    X1, X2 = eeg_info_1[\"eeg\"], eeg_info_2[\"eeg\"]\n",
    "\n",
    "    y1, y2 = eeg_info_1[\"label\"], eeg_info_2[\"label\"]\n",
    "\n",
    "    mix_X = X1 * lambd + X2 * (1. - lambd)\n",
    "\n",
    "    label = y1 * lambd + y2 * (1. - lambd)\n",
    "\n",
    "    return mix_X, label"
   ]
  },
  {
   "cell_type": "code",
   "execution_count": 17,
   "id": "recognized-lightning",
   "metadata": {},
   "outputs": [],
   "source": [
    "def mixupreg(X_train = None, y_train = None, size = None, alpha = None):\n",
    "    # Number of mixup augmentation examples - default is\n",
    "    #N = int(len(y_train) / 10) if not size or size > len(y_train) else size\n",
    "    N = size\n",
    "    N2 = int(N/2)\n",
    "    print(N2)\n",
    "    # If method is 'split' we need 10 extra examples per mixed example, since we will generate 10 new\n",
    "    # examples for each mixup data point\n",
    "\n",
    "\n",
    "    mix_Xs = np.zeros((N2, np.size(X_train, 1)))\n",
    "    mix_ys = np.zeros((N2, np.size(y_train, 1)))\n",
    "\n",
    "    # choose mixup batch randomly from the training data\n",
    "    #indices = np.random.permutation(len(X_train))[:N * 2]\n",
    "\n",
    "    #N2 = int(len(indices) / 2) if N >= np.size(y_train, 0) / 2 else N\n",
    "    \n",
    "    X_1, X_2 = X_train[:N2], X_train[N2:2*N2]\n",
    "    y_1, y_2 = y_train[:N2], y_train[N2:2*N2]\n",
    "    print(y_1.shape, y_2.shape)\n",
    "    #X_1, X_2 = X_train[indices[:N2]], X_train[indices[N2:]]\n",
    "    #y_1, y_2 = y_train[indices[:N2]], y_train[indices[N2:]]\n",
    "    #print(y_train.shape(), y_1.shape())\n",
    "\n",
    "    \n",
    "   \n",
    "    for i in range(len(y_1)):\n",
    "        eeg_info_1, eeg_info_2 = {\"eeg\": X_1[i], \"label\": y_1[i]}, {\"eeg\": X_2[i], \"label\": y_2[i]}\n",
    "        #lambd = np.random.uniform(0.1, 0.4)  # must be beta\n",
    "        lambd = np.random.beta(alpha, alpha) \n",
    "        print(lambd)\n",
    "        mix_X, mix_y = mix(eeg_info_1=eeg_info_1, eeg_info_2=eeg_info_2, lambd=lambd)\n",
    "        mix_Xs[i] = mix_X\n",
    "        mix_ys[i] = mix_y\n",
    "    #print(mix_ys)\n",
    "\n",
    "    return mix_Xs, mix_ys"
   ]
  },
  {
   "cell_type": "code",
   "execution_count": 18,
   "id": "graduate-television",
   "metadata": {},
   "outputs": [],
   "source": [
    "def converttohardlabel(y_pred_mix, method=''):\n",
    "\n",
    "    y_pred_mix_hard = np.zeros((np.size(y_pred_mix,0),np.size(y_pred_mix,1)))\n",
    "\n",
    "    if method == 'Maximum likelihood':\n",
    "        for i in range(len(y_pred_mix)):  # loop over rows\n",
    "            \n",
    "            if np.argmax(y_pred_mix, axis=1)[i] == 5:\n",
    "                y_pred_mix_hard[i] = [0, 0, 0, 0 , 0, 1]\n",
    "                \n",
    "            elif np.argmax(y_pred_mix, axis=1)[i] == 4:\n",
    "                y_pred_mix_hard[i] = [0, 0, 0, 0 ,1, 0]\n",
    "\n",
    "            elif np.argmax(y_pred_mix, axis=1)[i] == 3:\n",
    "                y_pred_mix_hard[i] = [0, 0, 0, 1, 0, 0]\n",
    "                \n",
    "            elif np.argmax(y_pred_mix, axis=1)[i] == 2:\n",
    "                y_pred_mix_hard[i] = [0, 0, 1, 0, 0, 0]\n",
    "            \n",
    "            elif np.argmax(y_pred_mix, axis=1)[i] == 1:\n",
    "                y_pred_mix_hard[i] = [0, 1, 0, 0, 0, 0]\n",
    "\n",
    "            elif np.argmax(y_pred_mix, axis=1)[i] == 0:\n",
    "                y_pred_mix_hard[i] = [1, 0, 0, 0, 0, 0]\n",
    "                \n",
    "            else:\n",
    "                print(y_pred_mix[i])\n",
    "\n",
    "    return y_pred_mix_hard"
   ]
  },
  {
   "cell_type": "code",
   "execution_count": 19,
   "id": "actual-sterling",
   "metadata": {},
   "outputs": [],
   "source": [
    "#BINARY\n",
    "def converttohardlabel(y_pred_mix, method=''):\n",
    "\n",
    "    y_pred_mix_hard = np.zeros((np.size(y_pred_mix,0),np.size(y_pred_mix,1)))\n",
    "\n",
    "    if method == 'Maximum likelihood':\n",
    "        for i in range(len(y_pred_mix)):  # loop over rows\n",
    "            \n",
    "            if np.argmax(y_pred_mix, axis=1)[i] == 5:\n",
    "                y_pred_mix_hard[i] = [0, 0, 0, 0 , 0, 1]\n",
    "                \n",
    "            elif np.argmax(y_pred_mix, axis=1)[i] == 4:\n",
    "                y_pred_mix_hard[i] = [0, 0, 0, 0 ,1, 0]\n",
    "\n",
    "            elif np.argmax(y_pred_mix, axis=1)[i] == 3:\n",
    "                y_pred_mix_hard[i] = [0, 0, 0, 1, 0, 0]\n",
    "                \n",
    "            elif np.argmax(y_pred_mix, axis=1)[i] == 2:\n",
    "                y_pred_mix_hard[i] = [0, 0, 1, 0, 0, 0]\n",
    "            \n",
    "            elif np.argmax(y_pred_mix, axis=1)[i] == 1:\n",
    "                y_pred_mix_hard[i] = [0, 1, 0, 0, 0, 0]\n",
    "\n",
    "            elif np.argmax(y_pred_mix, axis=1)[i] == 0:\n",
    "                y_pred_mix_hard[i] = [1, 0, 0, 0, 0, 0]\n",
    "                \n",
    "            else:\n",
    "                print(y_pred_mix[i])\n",
    "\n",
    "    return y_pred_mix_hard"
   ]
  },
  {
   "cell_type": "code",
   "execution_count": 20,
   "id": "durable-antigua",
   "metadata": {},
   "outputs": [
    {
     "name": "stdout",
     "output_type": "stream",
     "text": [
      "loading data\n"
     ]
    }
   ],
   "source": [
    "#load data\n",
    "label_dict = {'chew': 0, 'elpp': 1, 'eyem': 2, 'musc': 3, 'shiv': 4, 'null': 5}\n",
    "\n",
    "\n",
    "print('loading data')\n",
    "X = np.load(\"/Users/yeganehghamari/epilepsy-project/data/X1.npy\")\n",
    "Y = np.load(\"/Users/yeganehghamari/epilepsy-project/data/Y1.npy\")\n",
    "G = np.load(\"/Users/yeganehghamari/epilepsy-project/data/groups1.npy\")\n",
    "\n",
    "X = X.reshape(X.shape[0], X.shape[1]*X.shape[2])\n",
    "nan_filter = ~np.isnan(X).any(axis=1)\n",
    "X = X[nan_filter]\n",
    "Y = Y[nan_filter]\n",
    "G = G[nan_filter]\n",
    "# if window has both null and artifact, delete artifact\n",
    "for i in range(len(Y)):\n",
    "    if np.sum(Y[i]) > 1:\n",
    "        Y[i][5] = 0\n",
    "\n",
    "#%%\n",
    "\n",
    "# delete all windows with more than one artifact (not very many)\n",
    "X = np.delete(X, np.where(np.sum(Y, axis=1) != 1), axis=0)\n",
    "G = np.delete(G, np.where(np.sum(Y, axis=1) != 1), axis=0)\n",
    "Y = np.delete(Y, np.where(np.sum(Y, axis=1) != 1), axis=0)\n",
    "\n",
    "#convert to class labels\n",
    "y_class = Y.argmax(1)"
   ]
  },
  {
   "cell_type": "code",
   "execution_count": 21,
   "id": "assigned-silence",
   "metadata": {},
   "outputs": [
    {
     "data": {
      "text/plain": [
       "((686463,), (686463, 6), (686463, 475))"
      ]
     },
     "execution_count": 21,
     "metadata": {},
     "output_type": "execute_result"
    }
   ],
   "source": [
    "np.shape(y_class), np.shape(Y), np.shape(X)"
   ]
  },
  {
   "cell_type": "code",
   "execution_count": 22,
   "id": "progressive-touch",
   "metadata": {},
   "outputs": [],
   "source": [
    "#split data\n",
    "Gidxs = resample(np.unique(G), replace=False, n_samples=int(0.8 * len(np.unique(G))))\n",
    "\n",
    "Xtrain, ytrain, Gtrain = X[np.isin(G, Gidxs)], y_class[np.isin(G, Gidxs)], G[np.isin(G, Gidxs)]\n",
    "\n",
    "\n",
    "Xtest, ytest, Gtest = X[~np.isin(G, Gidxs)], y_class[~np.isin(G, Gidxs)], G[~np.isin(G, Gidxs)]\n",
    "\n",
    "\n",
    "Xtrain_copy, ytrain_copy, Xtest_copy, ytest_copy = Xtrain, ytrain, Xtest, ytest"
   ]
  },
  {
   "cell_type": "code",
   "execution_count": 23,
   "id": "surprising-money",
   "metadata": {},
   "outputs": [
    {
     "data": {
      "text/plain": [
       "((536862, 475), (536862,), (149601, 475), (149601,), (536862,), (149601,))"
      ]
     },
     "execution_count": 23,
     "metadata": {},
     "output_type": "execute_result"
    }
   ],
   "source": [
    "np.shape(Xtrain), np.shape(ytrain), np.shape(Xtest), np.shape(ytest), np.shape(Gtrain), np.shape(Gtest)"
   ]
  },
  {
   "cell_type": "code",
   "execution_count": 24,
   "id": "conventional-cedar",
   "metadata": {
    "scrolled": true
   },
   "outputs": [
    {
     "data": {
      "text/plain": [
       "(5230, 4713, 12393, 8729, 1542, 504255)"
      ]
     },
     "execution_count": 24,
     "metadata": {},
     "output_type": "execute_result"
    }
   ],
   "source": [
    "np.count_nonzero(ytrain==0), np.count_nonzero(ytrain==1), np.count_nonzero(ytrain==2), np.count_nonzero(ytrain==3), np.count_nonzero(ytrain==4),np.count_nonzero(ytrain==5)"
   ]
  },
  {
   "cell_type": "code",
   "execution_count": 25,
   "id": "homeless-muscle",
   "metadata": {},
   "outputs": [
    {
     "name": "stdout",
     "output_type": "stream",
     "text": [
      "(504255,)\n"
     ]
    },
    {
     "data": {
      "text/plain": [
       "(14424, (47031,), (47031, 475))"
      ]
     },
     "execution_count": 25,
     "metadata": {},
     "output_type": "execute_result"
    }
   ],
   "source": [
    "#undersample null\n",
    "null_idxs = np.where(ytrain == 5)[0]\n",
    "#artifact_idxs = np.where(Y_train[:,5] != 1)[0]\n",
    "print(null_idxs.shape)\n",
    "\n",
    "#undersampling null class\n",
    "mask = resample(null_idxs, replace=False, n_samples=509831 - 20000)\n",
    "\n",
    "Xtrain = np.delete(Xtrain, mask, axis=0)\n",
    "ytrain = np.delete(ytrain, mask, axis=0)\n",
    "np.count_nonzero(ytrain ==5), ytrain.shape,Xtrain.shape"
   ]
  },
  {
   "cell_type": "code",
   "execution_count": 26,
   "id": "muslim-launch",
   "metadata": {
    "scrolled": true
   },
   "outputs": [
    {
     "name": "stdout",
     "output_type": "stream",
     "text": [
      "Information about the new datasets\n",
      "Training set shape: (47031, 475)\n",
      "Test set shape (149601, 475)\n",
      "(47031,) (149601,)\n"
     ]
    }
   ],
   "source": [
    "#choose batch from training set\n",
    "N = 1000\n",
    "#N = 1/10\n",
    "\n",
    "\n",
    "zeros, ones, twos, threes, fours, fives = np.where(ytrain==0)[0], np.where(ytrain==1)[0], np.where(ytrain==2)[0], np.where(ytrain==3)[0], np.where(ytrain==4)[0], np.where(ytrain==5)[0]\n",
    "zeros, ones, twos, threes, fours, fives = shuffle(zeros), shuffle(ones), shuffle(twos), shuffle(threes), shuffle(fours), shuffle(fives) \n",
    "zero, one, two, three, four, five = zeros[:N], ones[:N], twos[:N], threes[:N], fours[:N], fives[:N]\n",
    "#zero, one, two, three, four, five = zeros[:int(N*len(zeros))], ones[:int(N*len(ones))], twos[:int(N*len(twos))], threes[:int(N*len(threes))], fours[:int(N*len(fours))], fives[:int(N*len(fives))]\n",
    "\n",
    "ind = np.concatenate((zero, one, two, three, four, five))\n",
    "\n",
    "#Xtrain, ytrain = Xtrain[ind], ytrain[ind]\n",
    "Xtrain, ytrain = Xtrain[:int(N*len(ytrain))], ytrain[:int(N*len(ytrain))]\n",
    "#shuffler = np.random.permutation(len(Xtrain))\n",
    "#Xtrain, ytrain = Xtrain[shuffler], ytrain[shuffler]\n",
    "Xtrain, ytrain = shuffle(Xtrain, ytrain)\n",
    "Xtest, ytest = shuffle(Xtest, ytest)\n",
    "#shuffler2 = np.random.permutation(len(Xtest))\n",
    "#Xtest, ytest = Xtest[shuffler2], ytest[shuffler2]\n",
    "\n",
    "#Xtrain = [Xtrain[i] + np.random.rand for i in range(len(Xtrain))]\n",
    "# print some information\n",
    "#standardize\n",
    "scaler = StandardScaler().fit(Xtrain)\n",
    "Xtrain = scaler.transform(Xtrain)\n",
    "Xtest = scaler.transform(Xtest)\n",
    "\n",
    "print('Information about the new datasets')\n",
    "print('Training set shape:', Xtrain.shape)\n",
    "print('Test set shape', Xtest.shape)\n",
    "print(ytrain.shape, ytest.shape)"
   ]
  },
  {
   "cell_type": "code",
   "execution_count": 27,
   "id": "applied-discharge",
   "metadata": {},
   "outputs": [
    {
     "data": {
      "text/plain": [
       "((1000,), (1000,), (1000,), (1000,), (1000,), (1000,))"
      ]
     },
     "execution_count": 27,
     "metadata": {},
     "output_type": "execute_result"
    }
   ],
   "source": [
    "zero.shape, one.shape, two.shape, three.shape, four.shape, five.shape"
   ]
  },
  {
   "cell_type": "code",
   "execution_count": 28,
   "id": "parallel-memory",
   "metadata": {},
   "outputs": [
    {
     "data": {
      "text/plain": [
       "2"
      ]
     },
     "execution_count": 28,
     "metadata": {},
     "output_type": "execute_result"
    }
   ],
   "source": [
    "ytrain[0]"
   ]
  },
  {
   "cell_type": "code",
   "execution_count": 29,
   "id": "respiratory-feature",
   "metadata": {},
   "outputs": [
    {
     "data": {
      "text/plain": [
       "((47031, 6), (149601, 6), (47031, 475), (149601, 475))"
      ]
     },
     "execution_count": 29,
     "metadata": {},
     "output_type": "execute_result"
    }
   ],
   "source": [
    "ohe = OneHotEncoder()\n",
    "ohe.fit([[0],[1],[2],[3],[4],[5]])\n",
    "ytrain = ohe.transform(ytrain.reshape(-1,1)).toarray()\n",
    "ytest = ohe.transform(ytest.reshape(-1,1)).toarray()\n",
    "np.shape(ytrain), np.shape(ytest), np.shape(Xtrain), np.shape(Xtest)"
   ]
  },
  {
   "cell_type": "code",
   "execution_count": 30,
   "id": "electoral-nightmare",
   "metadata": {},
   "outputs": [
    {
     "data": {
      "text/plain": [
       "array([0., 0., 1., 0., 0., 0.])"
      ]
     },
     "execution_count": 30,
     "metadata": {},
     "output_type": "execute_result"
    }
   ],
   "source": [
    "ytrain[0]"
   ]
  },
  {
   "cell_type": "code",
   "execution_count": 31,
   "id": "framed-liberia",
   "metadata": {
    "scrolled": false
   },
   "outputs": [
    {
     "data": {
      "text/plain": [
       "array([[ 0.03152315, -0.02756771,  0.5680713 , -0.03531571,  0.01447692,\n",
       "         0.44313713],\n",
       "       [ 0.05169038, -0.08184024,  0.35349806, -0.10209886, -0.02574399,\n",
       "         0.82023871],\n",
       "       [ 0.29983577, -0.12381348,  0.52217298,  0.45892326,  0.01326088,\n",
       "        -0.15680392],\n",
       "       ...,\n",
       "       [ 0.2787302 ,  0.08105107, -0.12323664,  0.51557283,  0.12619502,\n",
       "         0.12747547],\n",
       "       [-0.12631727,  0.08632041,  0.5254939 ,  0.07301231, -0.10937259,\n",
       "         0.53927238],\n",
       "       [-0.08859527,  0.30807724,  0.82562312, -0.02132607,  0.02441253,\n",
       "        -0.03509395]])"
      ]
     },
     "execution_count": 31,
     "metadata": {},
     "output_type": "execute_result"
    }
   ],
   "source": [
    "model = MLPRegressor(activation = 'logistic')\n",
    "model.fit(Xtrain, ytrain)\n",
    "\n",
    "ypred = model.predict(Xtest)\n",
    "ypred"
   ]
  },
  {
   "cell_type": "code",
   "execution_count": 32,
   "id": "lightweight-hanging",
   "metadata": {},
   "outputs": [
    {
     "data": {
      "text/plain": [
       "DescribeResult(nobs=149601, minmax=(array([-0.48540248, -0.62798282, -1.26809195, -0.92874942, -0.39550451,\n",
       "       -1.09202749]), array([0.95506189, 1.5373099 , 1.86882697, 1.50206049, 0.51491995,\n",
       "       2.23607773])), mean=array([0.01446892, 0.05452099, 0.24393411, 0.13090248, 0.03559944,\n",
       "       0.52724205]), variance=array([0.01774956, 0.03139247, 0.12483117, 0.07438001, 0.00729091,\n",
       "       0.16690623]), skewness=array([ 1.08333874,  0.70605239,  0.14680003,  0.28216699,  0.25538258,\n",
       "       -0.04039286]), kurtosis=array([ 2.94364547,  2.30417879,  0.03475664,  0.26103959,  0.46007174,\n",
       "       -0.11138247]))"
      ]
     },
     "execution_count": 32,
     "metadata": {},
     "output_type": "execute_result"
    }
   ],
   "source": [
    "stats.describe(ypred)"
   ]
  },
  {
   "cell_type": "code",
   "execution_count": 33,
   "id": "subtle-consensus",
   "metadata": {},
   "outputs": [
    {
     "data": {
      "text/plain": [
       "((149601,), (149601,))"
      ]
     },
     "execution_count": 33,
     "metadata": {},
     "output_type": "execute_result"
    }
   ],
   "source": [
    "y_pred_classes = ypred.argmax(1)\n",
    "y_test_classes = ytest.argmax(1)\n",
    "y_test_classes, y_pred_classes\n",
    "y_test_classes.shape, y_pred_classes.shape"
   ]
  },
  {
   "cell_type": "code",
   "execution_count": 34,
   "id": "caroline-airline",
   "metadata": {},
   "outputs": [
    {
     "data": {
      "text/plain": [
       "(2, 5)"
      ]
     },
     "execution_count": 34,
     "metadata": {},
     "output_type": "execute_result"
    }
   ],
   "source": [
    "np.count_nonzero(y_pred_classes == y_test_classes)/len(y_pred_classes)\n",
    "y_pred_classes[0], y_test_classes[0]"
   ]
  },
  {
   "cell_type": "code",
   "execution_count": 21,
   "id": "healthy-korea",
   "metadata": {},
   "outputs": [
    {
     "data": {
      "text/plain": [
       "\"#convert to hard labels\\nypred_hard = converttohardlabel(ypred, method = 'Maximum likelihood')\\nypred_hard\\n\\n#convert them to categorical classes\\ny_pred_classes = ypred_hard.argmax(1)\\ny_test_classes = ytest.argmax(1)\\ny_pred_classes, y_test_classes, ypred_hard\""
      ]
     },
     "execution_count": 21,
     "metadata": {},
     "output_type": "execute_result"
    }
   ],
   "source": [
    "'''#convert to hard labels\n",
    "ypred_hard = converttohardlabel(ypred, method = 'Maximum likelihood')\n",
    "ypred_hard\n",
    "\n",
    "#convert them to categorical classes\n",
    "y_pred_classes = ypred_hard.argmax(1)\n",
    "y_test_classes = ytest.argmax(1)\n",
    "y_pred_classes, y_test_classes, ypred_hard'''"
   ]
  },
  {
   "cell_type": "code",
   "execution_count": 35,
   "id": "systematic-ribbon",
   "metadata": {},
   "outputs": [
    {
     "name": "stdout",
     "output_type": "stream",
     "text": [
      "2181 3549 38973 17970 134 86794\n",
      "575 1322 3948 1594 1588 140574\n"
     ]
    }
   ],
   "source": [
    "print(np.count_nonzero(y_pred_classes == 0), np.count_nonzero(y_pred_classes == 1), np.count_nonzero(y_pred_classes == 2), np.count_nonzero(y_pred_classes == 3), np.count_nonzero(y_pred_classes == 4), np.count_nonzero(y_pred_classes == 5)) \n",
    "print(np.count_nonzero(y_test_classes == 0), np.count_nonzero(y_test_classes == 1), np.count_nonzero(y_test_classes == 2), np.count_nonzero(y_test_classes == 3), np.count_nonzero(y_test_classes == 4), np.count_nonzero(y_test_classes == 5)) \n",
    "\n",
    "\n",
    "\n"
   ]
  },
  {
   "cell_type": "code",
   "execution_count": 36,
   "id": "medical-wells",
   "metadata": {},
   "outputs": [
    {
     "name": "stdout",
     "output_type": "stream",
     "text": [
      "model without mixup:  MLPRegressor(activation='logistic')\n",
      "Test data: Accuracy: 58.30910221188361\n",
      "Test data: Balanced accuracy: 31.392764829991965\n",
      "Test: Weighted F1-Score: 69.965 %\n",
      "\n",
      "              precision    recall  f1-score   support\n",
      "\n",
      "           0       0.06      0.24      0.10       575\n",
      "           1       0.05      0.15      0.08      1322\n",
      "           2       0.06      0.59      0.11      3948\n",
      "           3       0.03      0.29      0.05      1594\n",
      "           4       0.19      0.02      0.03      1588\n",
      "           5       0.97      0.60      0.74    140574\n",
      "\n",
      "    accuracy                           0.58    149601\n",
      "   macro avg       0.23      0.31      0.18    149601\n",
      "weighted avg       0.91      0.58      0.70    149601\n",
      "\n",
      "\n"
     ]
    }
   ],
   "source": [
    "print('model without mixup: ', model)\n",
    "#print(\"Train data: Accuracy:\", np.mean(model.predict(X_train_mix) == y_train_mix) * 100)\n",
    "\n",
    "print(\"Test data: Accuracy:\", np.mean(y_pred_classes == y_test_classes) * 100)\n",
    "print(\"Test data: Balanced accuracy:\", balanced_accuracy_score(y_test_classes, y_pred_classes) * 100)\n",
    "#print(\"Test data: F1-Score:\", f1_score(y_test, y_pred_hard_mix) * 100)\n",
    "print(\"Test: Weighted F1-Score:\", round(f1_score(y_test_classes, y_pred_classes, average='weighted') * 100, 3), '%')\n",
    "print()\n",
    "print(classification_report(y_test_classes, y_pred_classes))\n",
    "print()\n",
    "#print('Default model out of bag error', model.oob_score_)\n",
    "#print('Default model train accuracy', model.score(Xtrain, ytrain))\n",
    "#print('Default model test accuracy', model.score(Xtest, ytest))"
   ]
  },
  {
   "cell_type": "code",
   "execution_count": 37,
   "id": "retired-cooper",
   "metadata": {},
   "outputs": [
    {
     "data": {
      "text/plain": [
       "((47031, 475), (47031, 6), (149601, 475), (149601, 6))"
      ]
     },
     "execution_count": 37,
     "metadata": {},
     "output_type": "execute_result"
    }
   ],
   "source": [
    "Xtrain.shape, ytrain.shape, Xtest.shape, ytest.shape"
   ]
  },
  {
   "cell_type": "code",
   "execution_count": 56,
   "id": "particular-canadian",
   "metadata": {},
   "outputs": [
    {
     "name": "stdout",
     "output_type": "stream",
     "text": [
      "100\n",
      "(100, 6) (100, 6)\n",
      "0.1891522318925251\n",
      "0.9934999131578555\n",
      "0.4688331614285604\n",
      "0.17732985253690361\n",
      "0.2562836144651176\n",
      "0.02160867799810223\n",
      "0.6757121152759689\n",
      "0.008806785259490978\n",
      "0.3298927577760354\n",
      "0.6638168884682601\n",
      "0.5092311024576841\n",
      "0.9584265740646715\n",
      "0.1992802810870526\n",
      "0.9999813031214264\n",
      "0.6552621176167998\n",
      "0.00035491170469115115\n",
      "0.9712614132879064\n",
      "0.999987445041135\n",
      "0.982372034855052\n",
      "0.655259406947545\n",
      "0.8795193186279738\n",
      "0.7954850521481398\n",
      "0.9983787320580498\n",
      "0.0363042812235893\n",
      "0.970769210385495\n",
      "0.9339006652735468\n",
      "0.9999999889200402\n",
      "0.9884604540200531\n",
      "0.529531379765681\n",
      "0.04084079190472638\n",
      "0.9941001467121421\n",
      "0.9953339216241764\n",
      "0.7245955902593656\n",
      "0.5598728169909901\n",
      "0.7361645868257375\n",
      "0.11580847771153581\n",
      "0.9699374497593658\n",
      "0.8451051473609966\n",
      "0.11481256216765187\n",
      "0.6500831758773258\n",
      "0.10606160800160246\n",
      "0.07295320687060768\n",
      "0.20166195495200434\n",
      "0.9992753274864746\n",
      "0.8626798517081434\n",
      "0.7816449696958465\n",
      "0.02048744867282255\n",
      "0.5684160809378975\n",
      "0.46088005418689343\n",
      "0.49886951584686523\n",
      "0.9856196630735424\n",
      "0.008977495946955455\n",
      "0.19238938323151805\n",
      "0.5652847214037324\n",
      "0.0025887285954637866\n",
      "0.6962766287154449\n",
      "0.3718078675517616\n",
      "0.04924981483226817\n",
      "0.9803151045824245\n",
      "0.994892710516066\n",
      "0.2545746712613944\n",
      "0.9907280699642332\n",
      "0.07237962203593275\n",
      "0.8671044054200542\n",
      "0.8735862759791991\n",
      "0.26067785197311855\n",
      "0.06317178867148067\n",
      "0.9990651617147888\n",
      "0.8464354119550154\n",
      "0.99879391321417\n",
      "0.4348743717880152\n",
      "0.7460043637176493\n",
      "0.8931742012762486\n",
      "0.815939336509897\n",
      "0.8638866190496263\n",
      "0.984909690266412\n",
      "0.48940482217085907\n",
      "0.8057814954523994\n",
      "0.017385147998764006\n",
      "0.30900503352817404\n",
      "0.1029070431713357\n",
      "0.2969737049393078\n",
      "0.56165267788666\n",
      "0.9924862456637973\n",
      "0.025176008990198336\n",
      "0.9027210138729137\n",
      "0.19789376884906967\n",
      "0.6992066727422488\n",
      "0.7452780944741662\n",
      "0.6546158060581372\n",
      "0.8698269938547954\n",
      "0.03776029481169821\n",
      "0.15789894764090284\n",
      "0.002756789061193554\n",
      "4.4249705132759957e-07\n",
      "0.09383746140840231\n",
      "0.002970643939356359\n",
      "0.99997887498173\n",
      "0.014627879231473141\n",
      "0.5439002644820972\n"
     ]
    }
   ],
   "source": [
    "#add mixup to the training set\n",
    "#X_train_mix, y_train_mix = mixupreg(X_train_res, y_train_res, 100)\n",
    "mix_Xs, mix_ys = mixupreg(Xtrain, ytrain, 200, alpha= 0.4)\n",
    "# Add mixups to training set\n",
    "X_train_mix, y_train_mix = np.concatenate([mix_Xs, Xtrain]), np.concatenate([mix_ys, ytrain])\n",
    "\n",
    "# Shuffle the data and the new mixup augmentations before returning\n",
    "#shuffler = np.random.permutation(len(X_train_mix))\n",
    "#X_train_mix, y_train_mix = X_train_mix[shuffler], y_train_mix[shuffler]\n",
    "#X_train_mix, y_train_mix = shuffle(X_train_mix, y_train_mix)\n",
    "\n",
    "scaler2 = StandardScaler().fit(X_train_mix)\n",
    "X_train_mix = scaler2.transform(X_train_mix)\n",
    "X_test_mix = scaler2.transform(Xtest)"
   ]
  },
  {
   "cell_type": "code",
   "execution_count": 57,
   "id": "color-verse",
   "metadata": {},
   "outputs": [
    {
     "data": {
      "text/plain": [
       "(13, 9, 28, 17, 7, 26)"
      ]
     },
     "execution_count": 57,
     "metadata": {},
     "output_type": "execute_result"
    }
   ],
   "source": [
    "np.count_nonzero(np.argmax(mix_ys,1)==0), np.count_nonzero(np.argmax(mix_ys,1)==1), np.count_nonzero(np.argmax(mix_ys,1)==2), np.count_nonzero(np.argmax(mix_ys,1)==3), np.count_nonzero(np.argmax(mix_ys,1)==4),np.count_nonzero(np.argmax(mix_ys,1)==5)"
   ]
  },
  {
   "cell_type": "code",
   "execution_count": 58,
   "id": "voluntary-chapel",
   "metadata": {},
   "outputs": [
    {
     "data": {
      "text/plain": [
       "((100, 6), (100, 475), (47031, 475), (47031, 6))"
      ]
     },
     "execution_count": 58,
     "metadata": {},
     "output_type": "execute_result"
    }
   ],
   "source": [
    "mix_ys.shape, mix_Xs.shape, Xtrain.shape, ytrain.shape"
   ]
  },
  {
   "cell_type": "code",
   "execution_count": 59,
   "id": "juvenile-thursday",
   "metadata": {},
   "outputs": [
    {
     "data": {
      "text/plain": [
       "array([[ 0.1344947 , -0.0019707 ,  0.19062544, -0.02957118,  0.03655423,\n",
       "         0.67057846],\n",
       "       [ 0.14278893, -0.1315344 ,  0.59587539, -0.07704169, -0.03050162,\n",
       "         0.49848665],\n",
       "       [ 0.34780298, -0.02470343, -0.15063745,  0.31301908,  0.02900359,\n",
       "         0.49468144],\n",
       "       ...,\n",
       "       [ 0.29810027,  0.46548633, -0.12578567,  0.41341565,  0.06490242,\n",
       "        -0.11539324],\n",
       "       [-0.11899361,  0.15815365,  0.85130646,  0.09032497,  0.10546704,\n",
       "        -0.07528758],\n",
       "       [-0.1787557 ,  0.18538936,  0.81887025,  0.40903126,  0.04695802,\n",
       "        -0.2400408 ]])"
      ]
     },
     "execution_count": 59,
     "metadata": {},
     "output_type": "execute_result"
    }
   ],
   "source": [
    "model.fit(X_train_mix, y_train_mix)\n",
    "\n",
    "ypred_mix = model.predict(X_test_mix)\n",
    "ypred_mix"
   ]
  },
  {
   "cell_type": "code",
   "execution_count": 60,
   "id": "cardiovascular-affiliate",
   "metadata": {},
   "outputs": [
    {
     "data": {
      "text/plain": [
       "DescribeResult(nobs=149601, minmax=(array([-0.47618732, -0.6428048 , -1.15438714, -1.04726282, -0.36188662,\n",
       "       -1.29272174]), array([0.99657283, 1.40281112, 1.84713143, 1.44843443, 0.60097798,\n",
       "       2.06258935])), mean=array([0.03167151, 0.07463864, 0.22049137, 0.13405067, 0.03575562,\n",
       "       0.50776382]), variance=array([0.0198669 , 0.03096218, 0.12441892, 0.07482677, 0.00642196,\n",
       "       0.16775392]), skewness=array([ 1.08057797,  0.64933137,  0.17371626,  0.25992002,  0.33541267,\n",
       "       -0.03533262]), kurtosis=array([ 3.02280739,  2.01202391,  0.08780883,  0.1651688 ,  0.63906553,\n",
       "       -0.10014265]))"
      ]
     },
     "execution_count": 60,
     "metadata": {},
     "output_type": "execute_result"
    }
   ],
   "source": [
    "stats.describe(ypred_mix)"
   ]
  },
  {
   "cell_type": "code",
   "execution_count": 61,
   "id": "coordinated-score",
   "metadata": {},
   "outputs": [
    {
     "data": {
      "text/plain": [
       "((149601,), (149601,))"
      ]
     },
     "execution_count": 61,
     "metadata": {},
     "output_type": "execute_result"
    }
   ],
   "source": [
    "y_pred_classes_mix = ypred_mix.argmax(1)\n",
    "y_test_classes_mix = ytest.argmax(1)\n",
    "y_test_classes_mix, y_pred_classes_mix\n",
    "y_test_classes_mix.shape, y_pred_classes_mix.shape"
   ]
  },
  {
   "cell_type": "code",
   "execution_count": 62,
   "id": "flexible-norman",
   "metadata": {},
   "outputs": [
    {
     "data": {
      "text/plain": [
       "\"#convert to hard labels\\nypred_hard_mix = converttohardlabel(ypred_mix, method = 'Maximum likelihood')\\nypred_hard_mix\\n\\n#convert them to categorical classes\\ny_pred_classes_mix = ypred_hard_mix.argmax(1)\\n\\ny_pred_classes_mix, y_test_classes, ypred_hard_mix\""
      ]
     },
     "execution_count": 62,
     "metadata": {},
     "output_type": "execute_result"
    }
   ],
   "source": [
    "'''#convert to hard labels\n",
    "ypred_hard_mix = converttohardlabel(ypred_mix, method = 'Maximum likelihood')\n",
    "ypred_hard_mix\n",
    "\n",
    "#convert them to categorical classes\n",
    "y_pred_classes_mix = ypred_hard_mix.argmax(1)\n",
    "\n",
    "y_pred_classes_mix, y_test_classes, ypred_hard_mix'''"
   ]
  },
  {
   "cell_type": "code",
   "execution_count": 63,
   "id": "straight-issue",
   "metadata": {},
   "outputs": [
    {
     "data": {
      "text/plain": [
       "'np.count_nonzero(ypred_hard_mix[:,0] == 1) + np.count_nonzero(ypred_hard_mix[:,1] == 1) + np.count_nonzero(ypred_hard_mix[:,2] == 1)\\n+ np.count_nonzero(ypred_hard_mix[:,3] == 1)+ np.count_nonzero(ypred_hard_mix[:,4] == 1) + np.count_nonzero(ypred_hard_mix[:,5] == 1)\\n'"
      ]
     },
     "execution_count": 63,
     "metadata": {},
     "output_type": "execute_result"
    }
   ],
   "source": [
    "'''np.count_nonzero(ypred_hard_mix[:,0] == 1) + np.count_nonzero(ypred_hard_mix[:,1] == 1) + np.count_nonzero(ypred_hard_mix[:,2] == 1)\n",
    "+ np.count_nonzero(ypred_hard_mix[:,3] == 1)+ np.count_nonzero(ypred_hard_mix[:,4] == 1) + np.count_nonzero(ypred_hard_mix[:,5] == 1)\n",
    "'''"
   ]
  },
  {
   "cell_type": "code",
   "execution_count": 64,
   "id": "driving-simple",
   "metadata": {},
   "outputs": [
    {
     "data": {
      "text/plain": [
       "'np.count_nonzero(ypred_hard_mix[:,0] == 1), np.count_nonzero(ypred_hard_mix[:,1] == 1), np.count_nonzero(ypred_hard_mix[:,2] == 1)\\n, np.count_nonzero(ypred_hard_mix[:,3] == 1), np.count_nonzero(ypred_hard_mix[:,4] == 1), np.count_nonzero(ypred_hard_mix[:,5] == 1)\\n'"
      ]
     },
     "execution_count": 64,
     "metadata": {},
     "output_type": "execute_result"
    }
   ],
   "source": [
    "'''np.count_nonzero(ypred_hard_mix[:,0] == 1), np.count_nonzero(ypred_hard_mix[:,1] == 1), np.count_nonzero(ypred_hard_mix[:,2] == 1)\n",
    ", np.count_nonzero(ypred_hard_mix[:,3] == 1), np.count_nonzero(ypred_hard_mix[:,4] == 1), np.count_nonzero(ypred_hard_mix[:,5] == 1)\n",
    "'''\n",
    "\n"
   ]
  },
  {
   "cell_type": "code",
   "execution_count": 65,
   "id": "sufficient-assist",
   "metadata": {},
   "outputs": [
    {
     "data": {
      "text/plain": [
       "'np.where(y_pred_classes_mix == 1), np.where(y_test_classes == 1)\\nnp.where(y_pred_classes_mix != y_test_classes)\\ny_pred_classes_mix[2], y_test_classes[2], ytest[2]'"
      ]
     },
     "execution_count": 65,
     "metadata": {},
     "output_type": "execute_result"
    }
   ],
   "source": [
    "'''np.where(y_pred_classes_mix == 1), np.where(y_test_classes == 1)\n",
    "np.where(y_pred_classes_mix != y_test_classes)\n",
    "y_pred_classes_mix[2], y_test_classes[2], ytest[2]'''"
   ]
  },
  {
   "cell_type": "code",
   "execution_count": 66,
   "id": "economic-contents",
   "metadata": {},
   "outputs": [
    {
     "name": "stdout",
     "output_type": "stream",
     "text": [
      "model with mixup:  MLPRegressor(activation='logistic')\n",
      "Test data: Accuracy: 57.750282417898276\n",
      "Test data: Balanced accuracy: 32.94824931824862\n",
      "Test: Weighted F1-Score: 69.469 %\n",
      "\n",
      "              precision    recall  f1-score   support\n",
      "\n",
      "           0       0.06      0.29      0.10       575\n",
      "           1       0.05      0.16      0.07      1322\n",
      "           2       0.06      0.58      0.11      3948\n",
      "           3       0.03      0.36      0.05      1594\n",
      "           4       0.04      0.00      0.00      1588\n",
      "           5       0.97      0.59      0.73    140574\n",
      "\n",
      "    accuracy                           0.58    149601\n",
      "   macro avg       0.20      0.33      0.18    149601\n",
      "weighted avg       0.91      0.58      0.69    149601\n",
      "\n",
      "\n"
     ]
    }
   ],
   "source": [
    "print('model with mixup: ', model)\n",
    "#print(\"Train data: Accuracy:\", np.mean(model.predict(X_train_mix) == y_train_mix) * 100)\n",
    "\n",
    "print(\"Test data: Accuracy:\", np.mean(y_pred_classes_mix == y_test_classes) * 100)\n",
    "print(\"Test data: Balanced accuracy:\", balanced_accuracy_score(y_test_classes, y_pred_classes_mix) * 100)\n",
    "#print(\"Test data: F1-Score:\", f1_score(y_test, y_pred_hard_mix) * 100)\n",
    "print(\"Test: Weighted F1-Score:\", round(f1_score(y_test_classes, y_pred_classes_mix, average='weighted') * 100, 3), '%')\n",
    "print()\n",
    "print(classification_report(y_test_classes, y_pred_classes_mix))\n",
    "print()"
   ]
  },
  {
   "cell_type": "code",
   "execution_count": 36,
   "id": "essential-chosen",
   "metadata": {},
   "outputs": [
    {
     "name": "stdout",
     "output_type": "stream",
     "text": [
      "3 [0. 0. 0. 1. 0. 0.]\n",
      "(41862, 2) (41862,)\n"
     ]
    },
    {
     "data": {
      "image/png": "[encoded data removed]",
      "text/plain": [
       "<Figure size 432x288 with 1 Axes>"
      ]
     },
     "metadata": {
      "needs_background": "light"
     },
     "output_type": "display_data"
    }
   ],
   "source": [
    "#PCA plot\n",
    "from sklearn.decomposition import PCA\n",
    "pca = PCA(n_components=2)\n",
    "train = pca.fit_transform(Xtrain)\n",
    "y = np.argmax(ytrain, axis = 1)\n",
    "print(y[0], ytrain[0])\n",
    "print(train.shape, y.shape)\n",
    "#plot\n",
    "\n",
    "z,o,t,th,f,n = train[y ==0], train[y ==1], train[y ==2], train[y ==3], train[y ==4], train[y ==5]\n",
    "\n",
    "#m = plt.scatter(trainmix[900:,0], trainmix[900:,1], c= ymix[900:])\n",
    "\n",
    "p0 = plt.scatter(z[:,0], z[:,1], marker='o', color='red')\n",
    "p1 = plt.scatter(o[:,0], o[:,1], marker='o', color='orange')\n",
    "p2 = plt.scatter(t[:,0], t[:,1], marker='o', color='yellow')\n",
    "p3 = plt.scatter(th[:,0], th[:,1], marker='o', color='green')\n",
    "p4 = plt.scatter(f[:,0], f[:,1], marker='o', color='black')\n",
    "p5 = plt.scatter(n[:,0], n[:,1], marker='o', color='purple')\n",
    "\n",
    "#plt.scatter(mixup[:,0], mixup[:,1], marker='x', color='b')\n",
    "plt.title('PCA training data')\n",
    "plt.legend((p0,p1,p2,p3,p4, p5),( 'eyem', 'chew','shiv','elpp','musc', 'null'))\n",
    "plt.show()"
   ]
  },
  {
   "cell_type": "code",
   "execution_count": 41,
   "id": "applied-twist",
   "metadata": {},
   "outputs": [
    {
     "name": "stdout",
     "output_type": "stream",
     "text": [
      "1 [0.         0.72118325 0.         0.27881675 0.         0.        ]\n",
      "(41962, 2) (41962,)\n"
     ]
    },
    {
     "data": {
      "image/png": "[encoded data removed]",
      "text/plain": [
       "<Figure size 432x288 with 1 Axes>"
      ]
     },
     "metadata": {
      "needs_background": "light"
     },
     "output_type": "display_data"
    }
   ],
   "source": [
    "#PCA plot\n",
    "\n",
    "trainmix = pca.fit_transform(X_train_mix)\n",
    "ymix = np.argmax(y_train_mix, 1)\n",
    "print(ymix[0], y_train_mix[0])\n",
    "print(trainmix.shape, ymix.shape)\n",
    "#plot\n",
    "'''col = [0]*len(ymix)\n",
    "np.where()\n",
    "col = np.where(ymix<1,'k',np.where(y<5,'b','r'))\n",
    "'''\n",
    "mixup = trainmix[:100]\n",
    "train = trainmix[100:]\n",
    "mixupy = ymix[:100]\n",
    "y = ymix[100:]\n",
    "\n",
    "z,o,t,th,f,n = train[y ==0], train[y ==1], train[y ==2], train[y ==3], train[y ==4], train[y ==5]\n",
    "\n",
    "\n",
    "#m = plt.scatter(trainmix[900:,0], trainmix[900:,1], c= ymix[900:])\n",
    "\n",
    "p0 = plt.scatter(z[:,0], z[:,1], marker='o', color='red')\n",
    "p1 = plt.scatter(o[:,0], o[:,1], marker='o', color='orange')\n",
    "p2 = plt.scatter(t[:,0], t[:,1], marker='o', color='yellow')\n",
    "p3 = plt.scatter(th[:,0], th[:,1], marker='o', color='green')\n",
    "p4 = plt.scatter(f[:,0], f[:,1], marker='o', color='black')\n",
    "p5 = plt.scatter(n[:,0], n[:,1], marker='o', color='purple')\n",
    "\n",
    "m = plt.scatter(mixup[:,0], mixup[:,1], marker = 'x', color = 'blue')\n",
    "\n",
    "#plt.scatter(mixup[:,0], mixup[:,1], marker='x', color='b')\n",
    "plt.title('PCA training data with 100 mixup')\n",
    "plt.legend((m, p0,p1,p2,p3,p4, p5),( 'mixup', 'eyem', 'chew','shiv','elpp','musc', 'null'))\n",
    "plt.show()\n"
   ]
  },
  {
   "cell_type": "code",
   "execution_count": null,
   "id": "respected-learning",
   "metadata": {},
   "outputs": [],
   "source": []
  }
 ],
 "metadata": {
  "kernelspec": {
   "display_name": "Python 3",
   "language": "python",
   "name": "python3"
  },
  "language_info": {
   "codemirror_mode": {
    "name": "ipython",
    "version": 3
   },
   "file_extension": ".py",
   "mimetype": "text/x-python",
   "name": "python",
   "nbconvert_exporter": "python",
   "pygments_lexer": "ipython3",
   "version": "3.8.7"
  }
 },
 "nbformat": 4,
 "nbformat_minor": 5
}