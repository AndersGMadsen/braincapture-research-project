{
 "cells": [
  {
   "cell_type": "code",
   "execution_count": 14,
   "id": "experienced-lying",
   "metadata": {},
   "outputs": [],
   "source": [
    "%config Completer.use_jedi = False\n",
    "import os, mne\n",
    "import numpy as np\n",
    "import pandas as pd\n",
    "from matplotlib import pyplot as plt\n",
    "import matplotlib.patches as mpatches\n",
    "from mpl_toolkits.axes_grid1 import make_axes_locatable\n",
    "\n",
    "from matplotlib import gridspec\n",
    "import seaborn as sns\n",
    "from datetime import datetime\n",
    "from tqdm.notebook import tqdm\n",
    "import json\n",
    "from scipy import stats\n",
    "from copy import deepcopy\n",
    "from sklearn.metrics import * \n",
    "from sklearn.utils import check_random_state\n",
    "from collections import Counter, defaultdict\n",
    "\n",
    "plt.rc('text', usetex=True) \n",
    "\n",
    "font = {'family' : 'serif',\n",
    "        'size'   : '20',\n",
    "        'serif' : ['Computer Modern'],\n",
    "        'sans-serif' : ['Computer Modern']}  \n",
    "\n",
    "plt.rc('font', **font)\n",
    "plt.rc('axes', titlesize=28, labelsize=20)\n",
    "plt.rc('xtick', labelsize=16)\n",
    "plt.rc('ytick', labelsize=16)\n",
    "plt.rc('legend', fontsize=16)  \n",
    "\n",
    "save_dir = 'C:/Users/andersgm/Documents/Courses/02466 Project work F21/Project/Plots/'\n",
    "\n",
    "#sns.set_style(\"whitegrid\")"
   ]
  },
  {
   "cell_type": "code",
   "execution_count": 81,
   "id": "foster-count",
   "metadata": {},
   "outputs": [],
   "source": [
    "class StratifiedGroupKFold():\n",
    "\n",
    "    def __init__(self, k=10, n_repeats=1, seed=None):\n",
    "        self.k = k  # Number of folds\n",
    "        self.n_repeats = n_repeats  # Number of repeats\n",
    "        self.seed = seed  # Random seed for reproducibility\n",
    "\n",
    "    # Implementation inspired by Kaggle\n",
    "    # https://www.kaggle.com/jakubwasikowski/stratified-group-k-fold-cross-validation\n",
    "    def split(self, X, y=None, groups=None):\n",
    "        random_state = check_random_state(self.seed)  # Random state generator\n",
    "\n",
    "        # Repeat k-fold n_splits time with unique folds\n",
    "        for repeat in range(self.n_repeats):\n",
    "            labels_num = len(np.unique(y))  # Number of labels\n",
    "\n",
    "            # Calculate the label distribution for each group\n",
    "            y_counts_per_group = defaultdict(lambda: np.zeros(labels_num, dtype=int))\n",
    "            y_distr = Counter()\n",
    "\n",
    "            for label, g in zip(y, groups):\n",
    "                y_counts_per_group[g][label] += 1\n",
    "                y_distr[label] += 1\n",
    "\n",
    "            fold_counts = defaultdict(lambda: np.zeros(labels_num, dtype=int))\n",
    "            groups_per_fold = defaultdict(set)\n",
    "\n",
    "            # Shuffle the groups\n",
    "            label_counts = list(y_counts_per_group.items())\n",
    "            random_state.shuffle(label_counts)\n",
    "\n",
    "            '''\n",
    "            For each group and its label distribution add the group to the\n",
    "            fold that would cause the least standard deviation from the\n",
    "            original distribution.\n",
    "            '''\n",
    "\n",
    "            for g, label_counts in label_counts:\n",
    "                best_fold = None\n",
    "                min_eval = None\n",
    "                for fold in range(self.k):\n",
    "                    fold_counts[fold] += label_counts\n",
    "                    std_per_label = []\n",
    "                    for l in range(labels_num):\n",
    "                        label_std = np.std([fold_counts[i][l] / y_distr[l] for i in range(self.k)])\n",
    "                        std_per_label.append(label_std)\n",
    "\n",
    "                    fold_counts[fold] -= label_counts\n",
    "\n",
    "                    fold_eval = np.mean(std_per_label)\n",
    "\n",
    "                    if min_eval == None or fold_eval < min_eval:\n",
    "                        min_eval = fold_eval\n",
    "                        best_fold = fold\n",
    "\n",
    "                fold_counts[best_fold] += label_counts\n",
    "                groups_per_fold[best_fold].add(g)\n",
    "\n",
    "            all_groups = np.unique(groups)  # Get all unique groups\n",
    "            for fold in range(self.k):\n",
    "                train_groups = np.setdiff1d(all_groups, list(groups_per_fold[fold]))\n",
    "                test_groups = list(groups_per_fold[fold])\n",
    "\n",
    "                train_indices = np.where(np.isin(groups, list(train_groups)))[0]\n",
    "                test_indices = np.where(np.isin(groups, list(test_groups)))[0]\n",
    "                \n",
    "                random_state.shuffle(train_indices)\n",
    "                random_state.shuffle(test_indices)\n",
    "                \n",
    "                # Yields the indices as they are needed\n",
    "                yield repeat, fold, train_indices, test_indices"
   ]
  },
  {
   "cell_type": "markdown",
   "id": "adverse-rings",
   "metadata": {},
   "source": [
    "# Raw results"
   ]
  },
  {
   "cell_type": "code",
   "execution_count": 500,
   "id": "cheap-rapid",
   "metadata": {},
   "outputs": [],
   "source": [
    "ytrue = np.load(\"multiclass_y_new.npy\")"
   ]
  },
  {
   "cell_type": "code",
   "execution_count": 509,
   "id": "returning-thomas",
   "metadata": {},
   "outputs": [],
   "source": [
    "import os \n",
    "result_files = []\n",
    "\n",
    "for root, dirs, files in os.walk(r\"C:\\Users\\andersgm\\Documents\\Courses\\02466 Project work F21\\Project\\Final results\\Raw\"):\n",
    "    for file in files:\n",
    "        if file.endswith(\".npy\"):\n",
    "             result_files.append(root + \"\\\\\" + file)"
   ]
  },
  {
   "cell_type": "code",
   "execution_count": 25,
   "id": "delayed-museum",
   "metadata": {},
   "outputs": [],
   "source": [
    "def mean_conf(a, confidence=0.95):\n",
    "    return stats.sem(a) * stats.t.ppf((1 + confidence) / 2, len(a)-1)"
   ]
  },
  {
   "cell_type": "code",
   "execution_count": 87,
   "id": "extreme-geography",
   "metadata": {},
   "outputs": [],
   "source": [
    "label_dict = {'chew': 0, 'elpp': 1, 'eyem': 2, 'musc': 3, 'shiv': 4, 'null': 5}\n",
    "index_dict = {0: 'chew', 1: 'elpp', 2: 'eyem', 3: 'musc', 4: 'shiv', 5: 'null'}"
   ]
  },
  {
   "cell_type": "code",
   "execution_count": 505,
   "id": "played-press",
   "metadata": {
    "scrolled": true
   },
   "outputs": [
    {
     "name": "stdout",
     "output_type": "stream",
     "text": [
      "$0.80$\t$0.75$\t$0.34$\t$0.21$\t$0.14$\t$0.64$\t$0.28$\t$0.00$\t$0.75$\t\n",
      "$0.63$\t$0.54$\t$0.31$\t$0.19$\t$0.20$\t$0.74$\t$0.24$\t$0.00$\t$0.52$\t\n",
      "$0.86$\t$0.83$\t$0.31$\t$0.23$\t$0.18$\t$0.41$\t$0.18$\t$0.02$\t$0.85$\t\n",
      "$0.72$\t$0.65$\t$0.30$\t$0.19$\t$0.28$\t$0.53$\t$0.13$\t$0.01$\t$0.64$\t\n",
      "$0.86$\t$0.84$\t$0.31$\t$0.23$\t$0.19$\t$0.39$\t$0.17$\t$0.02$\t$0.86$\t\n",
      "$0.73$\t$0.66$\t$0.30$\t$0.18$\t$0.29$\t$0.53$\t$0.13$\t$0.01$\t$0.65$\t\n"
     ]
    }
   ],
   "source": [
    "result_files = []\n",
    "\n",
    "for root, dirs, files in os.walk(r\"C:\\Users\\andersgm\\Documents\\Courses\\02466 Project work F21\\Project\\Final results\\Filtered\"):\n",
    "    for file in files:\n",
    "        if file.endswith(\".npy\"):\n",
    "             result_files.append(root + \"\\\\\" + file)\n",
    "                \n",
    "for file in result_files:\n",
    "    ypred = np.load(file)\n",
    "    if \"LDA\" in file.split(\"\\\\\")[-1]:\n",
    "        recall = np.empty((6, 5))\n",
    "        precision = np.empty((6, 5))\n",
    "        f1 = np.empty(5)\n",
    "        f2 = np.empty(5)\n",
    "        acc = np.empty(5)\n",
    "\n",
    "        for i in range(5):\n",
    "            report = classification_report(ytrue, ypred[i], output_dict=True, target_names=list(label_dict.keys()))\n",
    "            for label in label_dict.keys():\n",
    "                recall[label_dict[label]][i] = report[label]['recall']\n",
    "                precision[label_dict[label]][i] = report[label]['precision']\n",
    "\n",
    "            f1[i] = report['weighted avg']['f1-score']\n",
    "            f2[i] = fbeta_score(ytrue, ypred[i], beta=2, average=\"weighted\")\n",
    "            acc[i] = balanced_accuracy_score(ytrue, ypred[i])\n",
    "            \n",
    "        print(\"${:.2f}$\".format(f1.mean()), end=\"\\t\")\n",
    "        print(\"${:.2f}$\".format(f2.mean()), end=\"\\t\")\n",
    "        print(\"${:.2f}$\".format(acc.mean()), end=\"\\t\")\n",
    "        for label in label_dict.keys():\n",
    "            print(\"${:.2f}$\".format(recall[label_dict[label]].mean()), end=\"\\t\")\n",
    "        print()"
   ]
  },
  {
   "cell_type": "code",
   "execution_count": 510,
   "id": "placed-phase",
   "metadata": {},
   "outputs": [
    {
     "name": "stdout",
     "output_type": "stream",
     "text": [
      "$0.48 \\pm 0.01$\t$0.38 \\pm 0.01$\t$0.38 \\pm 0.01$\t$0.37 \\pm 0.02$\t$0.30 \\pm 0.01$\t$0.75 \\pm 0.02$\t$0.44 \\pm 0.02$\t$0.09 \\pm 0.02$\t$0.34 \\pm 0.01$\t\n",
      "$0.04 \\pm 0.01$\t$0.03 \\pm 0.01$\t$0.35 \\pm 0.01$\t$0.35 \\pm 0.03$\t$0.36 \\pm 0.04$\t$0.83 \\pm 0.02$\t$0.46 \\pm 0.04$\t$0.05 \\pm 0.02$\t$0.02 \\pm 0.01$\t\n",
      "$0.54 \\pm 0.01$\t$0.44 \\pm 0.01$\t$0.36 \\pm 0.01$\t$0.36 \\pm 0.03$\t$0.34 \\pm 0.02$\t$0.63 \\pm 0.01$\t$0.36 \\pm 0.01$\t$0.10 \\pm 0.05$\t$0.40 \\pm 0.01$\t\n",
      "$0.14 \\pm 0.01$\t$0.09 \\pm 0.01$\t$0.33 \\pm 0.01$\t$0.34 \\pm 0.03$\t$0.41 \\pm 0.02$\t$0.70 \\pm 0.01$\t$0.36 \\pm 0.02$\t$0.07 \\pm 0.02$\t$0.08 \\pm 0.01$\t\n",
      "$0.56 \\pm 0.02$\t$0.46 \\pm 0.02$\t$0.37 \\pm 0.02$\t$0.37 \\pm 0.04$\t$0.35 \\pm 0.02$\t$0.59 \\pm 0.01$\t$0.34 \\pm 0.03$\t$0.13 \\pm 0.07$\t$0.43 \\pm 0.02$\t\n",
      "$0.13 \\pm 0.01$\t$0.09 \\pm 0.01$\t$0.34 \\pm 0.01$\t$0.36 \\pm 0.04$\t$0.44 \\pm 0.02$\t$0.69 \\pm 0.01$\t$0.35 \\pm 0.04$\t$0.11 \\pm 0.05$\t$0.07 \\pm 0.01$\t\n"
     ]
    }
   ],
   "source": [
    "\n",
    "for file in result_files:\n",
    "    ypred = np.load(file)\n",
    "    if \"MLP\" in file.split(\"\\\\\")[-1]:\n",
    "        recall = np.empty((6, 5))\n",
    "        precision = np.empty((6, 5))\n",
    "        f1 = np.empty(5)\n",
    "        f2 = np.empty(5)\n",
    "        acc = np.empty(5)\n",
    "\n",
    "        for i in range(5):\n",
    "            report = classification_report(ytrue, ypred[i], output_dict=True, target_names=list(label_dict.keys()))\n",
    "            for label in label_dict.keys():\n",
    "                recall[label_dict[label]][i] = report[label]['recall']\n",
    "                precision[label_dict[label]][i] = report[label]['precision']\n",
    "\n",
    "            f1[i] = report['weighted avg']['f1-score']\n",
    "            f2[i] = fbeta_score(ytrue, ypred[i], beta=2, average=\"weighted\")\n",
    "            acc[i] = balanced_accuracy_score(ytrue, ypred[i])\n",
    "            \n",
    "        print(\"${:.2f} \\pm {:.2f}$\".format(f1.mean(), mean_conf(f1)), end=\"\\t\")\n",
    "        print(\"${:.2f} \\pm {:.2f}$\".format(f2.mean(), mean_conf(f2)), end=\"\\t\")\n",
    "        print(\"${:.2f} \\pm {:.2f}$\".format(acc.mean(), mean_conf(acc)), end=\"\\t\")\n",
    "        for label in label_dict.keys():\n",
    "            print(\"${:.2f} \\pm {:.2f}$\".format(recall[label_dict[label]].mean(), mean_conf(recall[label_dict[label]])), end=\"\\t\")\n",
    "        print()"
   ]
  },
  {
   "cell_type": "markdown",
   "id": "leading-orbit",
   "metadata": {},
   "source": [
    "# Evaluation without filter"
   ]
  },
  {
   "cell_type": "code",
   "execution_count": 44,
   "id": "selective-policy",
   "metadata": {},
   "outputs": [],
   "source": [
    "X = np.load(\"multiclass_X_new.npy\")\n",
    "y = np.load(\"multiclass_y_new.npy\")\n",
    "groups = np.load(\"multiclass_patients_new.npy\")"
   ]
  },
  {
   "cell_type": "code",
   "execution_count": 132,
   "id": "varying-squad",
   "metadata": {},
   "outputs": [],
   "source": [
    "result_files = []\n",
    "\n",
    "for root, dirs, files in os.walk(r\"C:\\Users\\andersgm\\Documents\\Courses\\02466 Project work F21\\Project\\Final results\\Raw\"):\n",
    "    for file in files:\n",
    "        if file.endswith(\".npy\"):\n",
    "             result_files.append(root + \"\\\\\" + file)"
   ]
  },
  {
   "cell_type": "code",
   "execution_count": 107,
   "id": "romance-pakistan",
   "metadata": {
    "scrolled": true
   },
   "outputs": [
    {
     "data": {
      "application/vnd.jupyter.widget-view+json": {
       "model_id": "d784bf670bd0499d8f843358554f9d95",
       "version_major": 2,
       "version_minor": 0
      },
      "text/plain": [
       "  0%|          | 0/450 [00:00<?, ?it/s]"
      ]
     },
     "metadata": {},
     "output_type": "display_data"
    }
   ],
   "source": [
    "results = pd.DataFrame(columns=['f1', 'f2', 'bacc', 'chew', 'elpp', 'eyem', 'musc', 'shiv', 'null', 'method', 'algorithm', 'fold'])\n",
    "pbar = tqdm(total=5*5*len(result_files))\n",
    "\n",
    "for file in result_files:\n",
    "    model = file.split(\"\\\\\")[-1].split(\"_\")[1]\n",
    "    technique = int(file.split(\"\\\\\")[-1].split(\"_\")[2])\n",
    "    ypred = np.load(file)\n",
    "\n",
    "    for repeat, fold, par_idxs, val_idxs in StratifiedGroupKFold(k=5, n_repeats=5, seed=55784899).split(X, y, groups):\n",
    "        report = classification_report(y[val_idxs], ypred[repeat][val_idxs], output_dict=True, target_names=list(label_dict.keys()))\n",
    "        results = results.append({'f1' : fbeta_score(y[val_idxs], ypred[repeat][val_idxs], beta=1, average=\"weighted\"),\n",
    "                                  'f2' : fbeta_score(y[val_idxs], ypred[repeat][val_idxs], beta=2, average=\"weighted\"),\n",
    "                                  'bacc' : balanced_accuracy_score(y[val_idxs], ypred[repeat][val_idxs]),\n",
    "                                  'chew' : report['chew']['recall'],\n",
    "                                  'elpp' : report['elpp']['recall'],\n",
    "                                  'eyem' : report['eyem']['recall'],\n",
    "                                  'musc' : report['musc']['recall'],\n",
    "                                  'shiv' : report['shiv']['recall'],\n",
    "                                  'null' : report['null']['recall'],\n",
    "                                  'method' : technique,\n",
    "                                  'algorithm' : model,\n",
    "                                  'fold' : repeat*5 + fold}, ignore_index=True)\n",
    "        pbar.update(1)\n",
    "    \n",
    "    "
   ]
  },
  {
   "cell_type": "code",
   "execution_count": 121,
   "id": "psychological-security",
   "metadata": {},
   "outputs": [
    {
     "data": {
      "text/html": [
       "<div>\n",
       "<style scoped>\n",
       "    .dataframe tbody tr th:only-of-type {\n",
       "        vertical-align: middle;\n",
       "    }\n",
       "\n",
       "    .dataframe tbody tr th {\n",
       "        vertical-align: top;\n",
       "    }\n",
       "\n",
       "    .dataframe thead th {\n",
       "        text-align: right;\n",
       "    }\n",
       "</style>\n",
       "<table border=\"1\" class=\"dataframe\">\n",
       "  <thead>\n",
       "    <tr style=\"text-align: right;\">\n",
       "      <th></th>\n",
       "      <th>f1</th>\n",
       "      <th>f2</th>\n",
       "      <th>bacc</th>\n",
       "      <th>chew</th>\n",
       "      <th>elpp</th>\n",
       "      <th>eyem</th>\n",
       "      <th>musc</th>\n",
       "      <th>shiv</th>\n",
       "      <th>null</th>\n",
       "      <th>method</th>\n",
       "      <th>algorithm</th>\n",
       "      <th>fold</th>\n",
       "    </tr>\n",
       "  </thead>\n",
       "  <tbody>\n",
       "    <tr>\n",
       "      <th>0</th>\n",
       "      <td>0.390091</td>\n",
       "      <td>0.295608</td>\n",
       "      <td>0.284746</td>\n",
       "      <td>0.167746</td>\n",
       "      <td>0.159597</td>\n",
       "      <td>0.857429</td>\n",
       "      <td>0.140113</td>\n",
       "      <td>0.119287</td>\n",
       "      <td>0.264305</td>\n",
       "      <td>0</td>\n",
       "      <td>GNB</td>\n",
       "      <td>0</td>\n",
       "    </tr>\n",
       "    <tr>\n",
       "      <th>1</th>\n",
       "      <td>0.472015</td>\n",
       "      <td>0.368279</td>\n",
       "      <td>0.331304</td>\n",
       "      <td>0.549458</td>\n",
       "      <td>0.095661</td>\n",
       "      <td>0.802791</td>\n",
       "      <td>0.132995</td>\n",
       "      <td>0.073457</td>\n",
       "      <td>0.333463</td>\n",
       "      <td>0</td>\n",
       "      <td>GNB</td>\n",
       "      <td>1</td>\n",
       "    </tr>\n",
       "    <tr>\n",
       "      <th>2</th>\n",
       "      <td>0.336281</td>\n",
       "      <td>0.246604</td>\n",
       "      <td>0.340955</td>\n",
       "      <td>0.240856</td>\n",
       "      <td>0.234973</td>\n",
       "      <td>0.790593</td>\n",
       "      <td>0.223414</td>\n",
       "      <td>0.341981</td>\n",
       "      <td>0.213913</td>\n",
       "      <td>0</td>\n",
       "      <td>GNB</td>\n",
       "      <td>2</td>\n",
       "    </tr>\n",
       "    <tr>\n",
       "      <th>3</th>\n",
       "      <td>0.359971</td>\n",
       "      <td>0.268021</td>\n",
       "      <td>0.464168</td>\n",
       "      <td>0.278744</td>\n",
       "      <td>0.271913</td>\n",
       "      <td>0.856016</td>\n",
       "      <td>0.199747</td>\n",
       "      <td>0.945148</td>\n",
       "      <td>0.233438</td>\n",
       "      <td>0</td>\n",
       "      <td>GNB</td>\n",
       "      <td>3</td>\n",
       "    </tr>\n",
       "    <tr>\n",
       "      <th>4</th>\n",
       "      <td>0.419760</td>\n",
       "      <td>0.320603</td>\n",
       "      <td>0.315148</td>\n",
       "      <td>0.340548</td>\n",
       "      <td>0.275000</td>\n",
       "      <td>0.852937</td>\n",
       "      <td>0.107719</td>\n",
       "      <td>0.029703</td>\n",
       "      <td>0.284978</td>\n",
       "      <td>0</td>\n",
       "      <td>GNB</td>\n",
       "      <td>4</td>\n",
       "    </tr>\n",
       "  </tbody>\n",
       "</table>\n",
       "</div>"
      ],
      "text/plain": [
       "         f1        f2      bacc      chew      elpp      eyem      musc  \\\n",
       "0  0.390091  0.295608  0.284746  0.167746  0.159597  0.857429  0.140113   \n",
       "1  0.472015  0.368279  0.331304  0.549458  0.095661  0.802791  0.132995   \n",
       "2  0.336281  0.246604  0.340955  0.240856  0.234973  0.790593  0.223414   \n",
       "3  0.359971  0.268021  0.464168  0.278744  0.271913  0.856016  0.199747   \n",
       "4  0.419760  0.320603  0.315148  0.340548  0.275000  0.852937  0.107719   \n",
       "\n",
       "       shiv      null method algorithm fold  \n",
       "0  0.119287  0.264305      0       GNB    0  \n",
       "1  0.073457  0.333463      0       GNB    1  \n",
       "2  0.341981  0.213913      0       GNB    2  \n",
       "3  0.945148  0.233438      0       GNB    3  \n",
       "4  0.029703  0.284978      0       GNB    4  "
      ]
     },
     "execution_count": 121,
     "metadata": {},
     "output_type": "execute_result"
    }
   ],
   "source": [
    "results.head()"
   ]
  },
  {
   "cell_type": "code",
   "execution_count": 119,
   "id": "verified-indiana",
   "metadata": {},
   "outputs": [],
   "source": [
    "results.to_csv(\"metric_results.csv\")"
   ]
  },
  {
   "cell_type": "code",
   "execution_count": 120,
   "id": "current-church",
   "metadata": {
    "scrolled": true
   },
   "outputs": [
    {
     "name": "stderr",
     "output_type": "stream",
     "text": [
      "findfont: Font family ['serif'] not found. Falling back to DejaVu Sans.\n"
     ]
    },
    {
     "data": {
      "image/png": "[encoded data removed]",
      "text/plain": [
       "<Figure size 1080x288 with 3 Axes>"
      ]
     },
     "metadata": {
      "needs_background": "light"
     },
     "output_type": "display_data"
    }
   ],
   "source": [
    "fig, ax = plt.subplots(nrows=1, ncols=3, figsize=(15,4))\n",
    "\n",
    "for j, metric in enumerate(['f1', 'f2', 'bacc']):\n",
    "\n",
    "    bars = np.empty((6, 3))\n",
    "    confs = np.empty((6, 3))\n",
    "\n",
    "    for i, algorithm in enumerate(['LDA', 'GNB', 'MLP']):\n",
    "        for method in range(6):\n",
    "            bars[method, i] = np.mean(results[(results['method'] == method) & (results['algorithm'] == algorithm)][metric])\n",
    "            confs[method, i] = mean_conf(results[(results['method'] == method) & (results['algorithm'] == algorithm)][metric])\n",
    "\n",
    "    barWidth = 0.12\n",
    "    colors = [\"#b9bdf0\", \"#8991f0\", \"#5965ef\", \"#6ee4b2\", \"#3fdc99\", \"#0ed280\"]\n",
    "    techniques = [\"Random undersample\", \"Random under- \\& oversample\", \"Random undersample \\& SMOTE\", \"NearMiss\", \"NearMiss \\& Random oversample\", \"NearMiss \\& SMOTE\"]\n",
    "\n",
    "    bars = bars[[0, 2, 4, 1, 3, 5]]\n",
    "    confs = confs[[0, 2, 4, 1, 3, 5]]\n",
    "    patterns = [\"-\" ,\"/\", \"*\", \"-\" ,\"/\", \"*\"]\n",
    "\n",
    "\n",
    "    for i in range(6):\n",
    "        r = np.arange(3) + barWidth*i + 0.02*i\n",
    "        ax[j].bar(r, bars[i], width = barWidth, color = colors[i],\n",
    "                yerr=confs[i], capsize=7, label=techniques[i], hatch=patterns[i])\n",
    "    ax[j].set_xticks(np.arange(3)+0.28)\n",
    "    ax[j].set_xticklabels(['LDA', 'GNB', 'MLP'])\n",
    "    #plt.ylabel('height')\n",
    "    \n",
    "ax[0].title.set_text(r\"\\huge{$F_1$-score}\")\n",
    "ax[1].title.set_text(r\"\\huge{$F_2$-score}\")\n",
    "ax[2].title.set_text(r\"\\huge{Balanced accuracy score}\")\n",
    "ax[0].legend(ncol=3, bbox_to_anchor=(3.44, -0.10))\n",
    "# Show graphic\n",
    "plt.subplots_adjust(left=None, bottom=None, right=None, top=0.8, wspace=None, hspace=None)\n",
    "plt.suptitle(r\"\\textbf{Comparison of sampling methods across models (w/o filter)}\")\n",
    "plt.savefig(save_dir + \"comparisons_across_models_without_filter.png\", dpi=200, bbox_inches = 'tight')\n",
    "plt.show()"
   ]
  },
  {
   "cell_type": "code",
   "execution_count": 163,
   "id": "adequate-broad",
   "metadata": {},
   "outputs": [
    {
     "name": "stdout",
     "output_type": "stream",
     "text": [
      "$42 \\pm 2$\t$32 \\pm 2$\t$36 \\pm 2$\t$32 \\pm 6$\t$21 \\pm 3$\t$83 \\pm 2$\t$18 \\pm 3$\t$32 \\pm 13$\t$29 \\pm 2$\t\n",
      "$6 \\pm 1$\t$4 \\pm 1$\t$34 \\pm 1$\t$24 \\pm 5$\t$41 \\pm 5$\t$79 \\pm 2$\t$32 \\pm 4$\t$22 \\pm 13$\t$3 \\pm 1$\t\n",
      "$41 \\pm 2$\t$31 \\pm 2$\t$36 \\pm 2$\t$32 \\pm 6$\t$23 \\pm 3$\t$81 \\pm 2$\t$16 \\pm 3$\t$33 \\pm 14$\t$28 \\pm 2$\t\n",
      "$7 \\pm 1$\t$5 \\pm 1$\t$33 \\pm 1$\t$24 \\pm 5$\t$42 \\pm 5$\t$78 \\pm 2$\t$30 \\pm 4$\t$23 \\pm 13$\t$4 \\pm 1$\t\n",
      "$24 \\pm 7$\t$18 \\pm 7$\t$35 \\pm 7$\t$29 \\pm 5$\t$33 \\pm 5$\t$76 \\pm 3$\t$22 \\pm 4$\t$32 \\pm 14$\t$16 \\pm 6$\t\n",
      "$4 \\pm 1$\t$3 \\pm 1$\t$35 \\pm 1$\t$24 \\pm 6$\t$39 \\pm 6$\t$82 \\pm 2$\t$41 \\pm 5$\t$21 \\pm 12$\t$2 \\pm 0$\t\n"
     ]
    }
   ],
   "source": [
    "algorithm = \"GNB\"\n",
    "\n",
    "for method in range(6):\n",
    "    result = results[(results[\"method\"] == method) & (results[\"algorithm\"] == algorithm)]\n",
    "    print(\"${:.0f} \\pm {:.0f}$\".format(np.mean(result['f1'])*100, mean_conf(result['f1'])*100), end='\\t')\n",
    "    print(\"${:.0f} \\pm {:.0f}$\".format(np.mean(result['f2'])*100, mean_conf(result['f1'])*100), end='\\t')\n",
    "    print(\"${:.0f} \\pm {:.0f}$\".format(np.mean(result['bacc'])*100, mean_conf(result['f1'])*100), end='\\t')\n",
    "    for label in label_dict.keys():\n",
    "        print(\"${:.0f} \\pm {:.0f}$\".format(np.mean(result[label])*100, mean_conf(result[label])*100), end='\\t')\n",
    "    print()"
   ]
  },
  {
   "cell_type": "code",
   "execution_count": null,
   "id": "common-motor",
   "metadata": {},
   "outputs": [],
   "source": []
  },
  {
   "cell_type": "markdown",
   "id": "freelance-abuse",
   "metadata": {},
   "source": [
    "# Evaluation with filter"
   ]
  },
  {
   "cell_type": "code",
   "execution_count": null,
   "id": "meaningful-circular",
   "metadata": {},
   "outputs": [],
   "source": []
  },
  {
   "cell_type": "code",
   "execution_count": 133,
   "id": "piano-sculpture",
   "metadata": {},
   "outputs": [
    {
     "data": {
      "application/vnd.jupyter.widget-view+json": {
       "model_id": "fa7c193206df45e9a69a22b9ca5f4c52",
       "version_major": 2,
       "version_minor": 0
      },
      "text/plain": [
       "  0%|          | 0/450 [00:00<?, ?it/s]"
      ]
     },
     "metadata": {},
     "output_type": "display_data"
    },
    {
     "name": "stderr",
     "output_type": "stream",
     "text": [
      "C:\\Users\\andersgm\\anaconda3\\envs\\epilepsy\\lib\\site-packages\\sklearn\\metrics\\_classification.py:1245: UndefinedMetricWarning: Precision and F-score are ill-defined and being set to 0.0 in labels with no predicted samples. Use `zero_division` parameter to control this behavior.\n",
      "  _warn_prf(average, modifier, msg_start, len(result))\n",
      "C:\\Users\\andersgm\\anaconda3\\envs\\epilepsy\\lib\\site-packages\\sklearn\\metrics\\_classification.py:1245: UndefinedMetricWarning: Precision and F-score are ill-defined and being set to 0.0 in labels with no predicted samples. Use `zero_division` parameter to control this behavior.\n",
      "  _warn_prf(average, modifier, msg_start, len(result))\n",
      "C:\\Users\\andersgm\\anaconda3\\envs\\epilepsy\\lib\\site-packages\\sklearn\\metrics\\_classification.py:1245: UndefinedMetricWarning: Precision and F-score are ill-defined and being set to 0.0 in labels with no predicted samples. Use `zero_division` parameter to control this behavior.\n",
      "  _warn_prf(average, modifier, msg_start, len(result))\n",
      "C:\\Users\\andersgm\\anaconda3\\envs\\epilepsy\\lib\\site-packages\\sklearn\\metrics\\_classification.py:1245: UndefinedMetricWarning: Precision and F-score are ill-defined and being set to 0.0 in labels with no predicted samples. Use `zero_division` parameter to control this behavior.\n",
      "  _warn_prf(average, modifier, msg_start, len(result))\n",
      "C:\\Users\\andersgm\\anaconda3\\envs\\epilepsy\\lib\\site-packages\\sklearn\\metrics\\_classification.py:1245: UndefinedMetricWarning: Precision and F-score are ill-defined and being set to 0.0 in labels with no predicted samples. Use `zero_division` parameter to control this behavior.\n",
      "  _warn_prf(average, modifier, msg_start, len(result))\n",
      "C:\\Users\\andersgm\\anaconda3\\envs\\epilepsy\\lib\\site-packages\\sklearn\\metrics\\_classification.py:1245: UndefinedMetricWarning: Precision and F-score are ill-defined and being set to 0.0 in labels with no predicted samples. Use `zero_division` parameter to control this behavior.\n",
      "  _warn_prf(average, modifier, msg_start, len(result))\n",
      "C:\\Users\\andersgm\\anaconda3\\envs\\epilepsy\\lib\\site-packages\\sklearn\\metrics\\_classification.py:1245: UndefinedMetricWarning: Precision and F-score are ill-defined and being set to 0.0 in labels with no predicted samples. Use `zero_division` parameter to control this behavior.\n",
      "  _warn_prf(average, modifier, msg_start, len(result))\n",
      "C:\\Users\\andersgm\\anaconda3\\envs\\epilepsy\\lib\\site-packages\\sklearn\\metrics\\_classification.py:1245: UndefinedMetricWarning: Precision and F-score are ill-defined and being set to 0.0 in labels with no predicted samples. Use `zero_division` parameter to control this behavior.\n",
      "  _warn_prf(average, modifier, msg_start, len(result))\n",
      "C:\\Users\\andersgm\\anaconda3\\envs\\epilepsy\\lib\\site-packages\\sklearn\\metrics\\_classification.py:1245: UndefinedMetricWarning: Precision and F-score are ill-defined and being set to 0.0 in labels with no predicted samples. Use `zero_division` parameter to control this behavior.\n",
      "  _warn_prf(average, modifier, msg_start, len(result))\n",
      "C:\\Users\\andersgm\\anaconda3\\envs\\epilepsy\\lib\\site-packages\\sklearn\\metrics\\_classification.py:1245: UndefinedMetricWarning: Precision and F-score are ill-defined and being set to 0.0 in labels with no predicted samples. Use `zero_division` parameter to control this behavior.\n",
      "  _warn_prf(average, modifier, msg_start, len(result))\n",
      "C:\\Users\\andersgm\\anaconda3\\envs\\epilepsy\\lib\\site-packages\\sklearn\\metrics\\_classification.py:1245: UndefinedMetricWarning: Precision and F-score are ill-defined and being set to 0.0 in labels with no predicted samples. Use `zero_division` parameter to control this behavior.\n",
      "  _warn_prf(average, modifier, msg_start, len(result))\n",
      "C:\\Users\\andersgm\\anaconda3\\envs\\epilepsy\\lib\\site-packages\\sklearn\\metrics\\_classification.py:1245: UndefinedMetricWarning: Precision and F-score are ill-defined and being set to 0.0 in labels with no predicted samples. Use `zero_division` parameter to control this behavior.\n",
      "  _warn_prf(average, modifier, msg_start, len(result))\n",
      "C:\\Users\\andersgm\\anaconda3\\envs\\epilepsy\\lib\\site-packages\\sklearn\\metrics\\_classification.py:1245: UndefinedMetricWarning: Precision and F-score are ill-defined and being set to 0.0 in labels with no predicted samples. Use `zero_division` parameter to control this behavior.\n",
      "  _warn_prf(average, modifier, msg_start, len(result))\n",
      "C:\\Users\\andersgm\\anaconda3\\envs\\epilepsy\\lib\\site-packages\\sklearn\\metrics\\_classification.py:1245: UndefinedMetricWarning: Precision and F-score are ill-defined and being set to 0.0 in labels with no predicted samples. Use `zero_division` parameter to control this behavior.\n",
      "  _warn_prf(average, modifier, msg_start, len(result))\n",
      "C:\\Users\\andersgm\\anaconda3\\envs\\epilepsy\\lib\\site-packages\\sklearn\\metrics\\_classification.py:1245: UndefinedMetricWarning: Precision and F-score are ill-defined and being set to 0.0 in labels with no predicted samples. Use `zero_division` parameter to control this behavior.\n",
      "  _warn_prf(average, modifier, msg_start, len(result))\n",
      "C:\\Users\\andersgm\\anaconda3\\envs\\epilepsy\\lib\\site-packages\\sklearn\\metrics\\_classification.py:1245: UndefinedMetricWarning: Precision and F-score are ill-defined and being set to 0.0 in labels with no predicted samples. Use `zero_division` parameter to control this behavior.\n",
      "  _warn_prf(average, modifier, msg_start, len(result))\n",
      "C:\\Users\\andersgm\\anaconda3\\envs\\epilepsy\\lib\\site-packages\\sklearn\\metrics\\_classification.py:1245: UndefinedMetricWarning: Precision and F-score are ill-defined and being set to 0.0 in labels with no predicted samples. Use `zero_division` parameter to control this behavior.\n",
      "  _warn_prf(average, modifier, msg_start, len(result))\n",
      "C:\\Users\\andersgm\\anaconda3\\envs\\epilepsy\\lib\\site-packages\\sklearn\\metrics\\_classification.py:1245: UndefinedMetricWarning: Precision and F-score are ill-defined and being set to 0.0 in labels with no predicted samples. Use `zero_division` parameter to control this behavior.\n",
      "  _warn_prf(average, modifier, msg_start, len(result))\n",
      "C:\\Users\\andersgm\\anaconda3\\envs\\epilepsy\\lib\\site-packages\\sklearn\\metrics\\_classification.py:1245: UndefinedMetricWarning: Precision and F-score are ill-defined and being set to 0.0 in labels with no predicted samples. Use `zero_division` parameter to control this behavior.\n",
      "  _warn_prf(average, modifier, msg_start, len(result))\n",
      "C:\\Users\\andersgm\\anaconda3\\envs\\epilepsy\\lib\\site-packages\\sklearn\\metrics\\_classification.py:1245: UndefinedMetricWarning: Precision and F-score are ill-defined and being set to 0.0 in labels with no predicted samples. Use `zero_division` parameter to control this behavior.\n",
      "  _warn_prf(average, modifier, msg_start, len(result))\n",
      "C:\\Users\\andersgm\\anaconda3\\envs\\epilepsy\\lib\\site-packages\\sklearn\\metrics\\_classification.py:1245: UndefinedMetricWarning: Precision and F-score are ill-defined and being set to 0.0 in labels with no predicted samples. Use `zero_division` parameter to control this behavior.\n",
      "  _warn_prf(average, modifier, msg_start, len(result))\n",
      "C:\\Users\\andersgm\\anaconda3\\envs\\epilepsy\\lib\\site-packages\\sklearn\\metrics\\_classification.py:1245: UndefinedMetricWarning: Precision and F-score are ill-defined and being set to 0.0 in labels with no predicted samples. Use `zero_division` parameter to control this behavior.\n",
      "  _warn_prf(average, modifier, msg_start, len(result))\n",
      "C:\\Users\\andersgm\\anaconda3\\envs\\epilepsy\\lib\\site-packages\\sklearn\\metrics\\_classification.py:1245: UndefinedMetricWarning: Precision and F-score are ill-defined and being set to 0.0 in labels with no predicted samples. Use `zero_division` parameter to control this behavior.\n",
      "  _warn_prf(average, modifier, msg_start, len(result))\n",
      "C:\\Users\\andersgm\\anaconda3\\envs\\epilepsy\\lib\\site-packages\\sklearn\\metrics\\_classification.py:1245: UndefinedMetricWarning: Precision and F-score are ill-defined and being set to 0.0 in labels with no predicted samples. Use `zero_division` parameter to control this behavior.\n",
      "  _warn_prf(average, modifier, msg_start, len(result))\n",
      "C:\\Users\\andersgm\\anaconda3\\envs\\epilepsy\\lib\\site-packages\\sklearn\\metrics\\_classification.py:1245: UndefinedMetricWarning: Precision and F-score are ill-defined and being set to 0.0 in labels with no predicted samples. Use `zero_division` parameter to control this behavior.\n",
      "  _warn_prf(average, modifier, msg_start, len(result))\n",
      "C:\\Users\\andersgm\\anaconda3\\envs\\epilepsy\\lib\\site-packages\\sklearn\\metrics\\_classification.py:1245: UndefinedMetricWarning: Precision and F-score are ill-defined and being set to 0.0 in labels with no predicted samples. Use `zero_division` parameter to control this behavior.\n",
      "  _warn_prf(average, modifier, msg_start, len(result))\n",
      "C:\\Users\\andersgm\\anaconda3\\envs\\epilepsy\\lib\\site-packages\\sklearn\\metrics\\_classification.py:1245: UndefinedMetricWarning: Precision and F-score are ill-defined and being set to 0.0 in labels with no predicted samples. Use `zero_division` parameter to control this behavior.\n",
      "  _warn_prf(average, modifier, msg_start, len(result))\n"
     ]
    },
    {
     "name": "stderr",
     "output_type": "stream",
     "text": [
      "C:\\Users\\andersgm\\anaconda3\\envs\\epilepsy\\lib\\site-packages\\sklearn\\metrics\\_classification.py:1245: UndefinedMetricWarning: Precision and F-score are ill-defined and being set to 0.0 in labels with no predicted samples. Use `zero_division` parameter to control this behavior.\n",
      "  _warn_prf(average, modifier, msg_start, len(result))\n",
      "C:\\Users\\andersgm\\anaconda3\\envs\\epilepsy\\lib\\site-packages\\sklearn\\metrics\\_classification.py:1245: UndefinedMetricWarning: Precision and F-score are ill-defined and being set to 0.0 in labels with no predicted samples. Use `zero_division` parameter to control this behavior.\n",
      "  _warn_prf(average, modifier, msg_start, len(result))\n",
      "C:\\Users\\andersgm\\anaconda3\\envs\\epilepsy\\lib\\site-packages\\sklearn\\metrics\\_classification.py:1245: UndefinedMetricWarning: Precision and F-score are ill-defined and being set to 0.0 in labels with no predicted samples. Use `zero_division` parameter to control this behavior.\n",
      "  _warn_prf(average, modifier, msg_start, len(result))\n",
      "C:\\Users\\andersgm\\anaconda3\\envs\\epilepsy\\lib\\site-packages\\sklearn\\metrics\\_classification.py:1245: UndefinedMetricWarning: Precision and F-score are ill-defined and being set to 0.0 in labels with no predicted samples. Use `zero_division` parameter to control this behavior.\n",
      "  _warn_prf(average, modifier, msg_start, len(result))\n",
      "C:\\Users\\andersgm\\anaconda3\\envs\\epilepsy\\lib\\site-packages\\sklearn\\metrics\\_classification.py:1245: UndefinedMetricWarning: Precision and F-score are ill-defined and being set to 0.0 in labels with no predicted samples. Use `zero_division` parameter to control this behavior.\n",
      "  _warn_prf(average, modifier, msg_start, len(result))\n",
      "C:\\Users\\andersgm\\anaconda3\\envs\\epilepsy\\lib\\site-packages\\sklearn\\metrics\\_classification.py:1245: UndefinedMetricWarning: Precision and F-score are ill-defined and being set to 0.0 in labels with no predicted samples. Use `zero_division` parameter to control this behavior.\n",
      "  _warn_prf(average, modifier, msg_start, len(result))\n",
      "C:\\Users\\andersgm\\anaconda3\\envs\\epilepsy\\lib\\site-packages\\sklearn\\metrics\\_classification.py:1245: UndefinedMetricWarning: Precision and F-score are ill-defined and being set to 0.0 in labels with no predicted samples. Use `zero_division` parameter to control this behavior.\n",
      "  _warn_prf(average, modifier, msg_start, len(result))\n",
      "C:\\Users\\andersgm\\anaconda3\\envs\\epilepsy\\lib\\site-packages\\sklearn\\metrics\\_classification.py:1245: UndefinedMetricWarning: Precision and F-score are ill-defined and being set to 0.0 in labels with no predicted samples. Use `zero_division` parameter to control this behavior.\n",
      "  _warn_prf(average, modifier, msg_start, len(result))\n",
      "C:\\Users\\andersgm\\anaconda3\\envs\\epilepsy\\lib\\site-packages\\sklearn\\metrics\\_classification.py:1245: UndefinedMetricWarning: Precision and F-score are ill-defined and being set to 0.0 in labels with no predicted samples. Use `zero_division` parameter to control this behavior.\n",
      "  _warn_prf(average, modifier, msg_start, len(result))\n",
      "C:\\Users\\andersgm\\anaconda3\\envs\\epilepsy\\lib\\site-packages\\sklearn\\metrics\\_classification.py:1245: UndefinedMetricWarning: Precision and F-score are ill-defined and being set to 0.0 in labels with no predicted samples. Use `zero_division` parameter to control this behavior.\n",
      "  _warn_prf(average, modifier, msg_start, len(result))\n",
      "C:\\Users\\andersgm\\anaconda3\\envs\\epilepsy\\lib\\site-packages\\sklearn\\metrics\\_classification.py:1245: UndefinedMetricWarning: Precision and F-score are ill-defined and being set to 0.0 in labels with no predicted samples. Use `zero_division` parameter to control this behavior.\n",
      "  _warn_prf(average, modifier, msg_start, len(result))\n",
      "C:\\Users\\andersgm\\anaconda3\\envs\\epilepsy\\lib\\site-packages\\sklearn\\metrics\\_classification.py:1245: UndefinedMetricWarning: Precision and F-score are ill-defined and being set to 0.0 in labels with no predicted samples. Use `zero_division` parameter to control this behavior.\n",
      "  _warn_prf(average, modifier, msg_start, len(result))\n",
      "C:\\Users\\andersgm\\anaconda3\\envs\\epilepsy\\lib\\site-packages\\sklearn\\metrics\\_classification.py:1245: UndefinedMetricWarning: Precision and F-score are ill-defined and being set to 0.0 in labels with no predicted samples. Use `zero_division` parameter to control this behavior.\n",
      "  _warn_prf(average, modifier, msg_start, len(result))\n",
      "C:\\Users\\andersgm\\anaconda3\\envs\\epilepsy\\lib\\site-packages\\sklearn\\metrics\\_classification.py:1245: UndefinedMetricWarning: Precision and F-score are ill-defined and being set to 0.0 in labels with no predicted samples. Use `zero_division` parameter to control this behavior.\n",
      "  _warn_prf(average, modifier, msg_start, len(result))\n",
      "C:\\Users\\andersgm\\anaconda3\\envs\\epilepsy\\lib\\site-packages\\sklearn\\metrics\\_classification.py:1245: UndefinedMetricWarning: Precision and F-score are ill-defined and being set to 0.0 in labels with no predicted samples. Use `zero_division` parameter to control this behavior.\n",
      "  _warn_prf(average, modifier, msg_start, len(result))\n",
      "C:\\Users\\andersgm\\anaconda3\\envs\\epilepsy\\lib\\site-packages\\sklearn\\metrics\\_classification.py:1245: UndefinedMetricWarning: Precision and F-score are ill-defined and being set to 0.0 in labels with no predicted samples. Use `zero_division` parameter to control this behavior.\n",
      "  _warn_prf(average, modifier, msg_start, len(result))\n",
      "C:\\Users\\andersgm\\anaconda3\\envs\\epilepsy\\lib\\site-packages\\sklearn\\metrics\\_classification.py:1245: UndefinedMetricWarning: Precision and F-score are ill-defined and being set to 0.0 in labels with no predicted samples. Use `zero_division` parameter to control this behavior.\n",
      "  _warn_prf(average, modifier, msg_start, len(result))\n",
      "C:\\Users\\andersgm\\anaconda3\\envs\\epilepsy\\lib\\site-packages\\sklearn\\metrics\\_classification.py:1245: UndefinedMetricWarning: Precision and F-score are ill-defined and being set to 0.0 in labels with no predicted samples. Use `zero_division` parameter to control this behavior.\n",
      "  _warn_prf(average, modifier, msg_start, len(result))\n",
      "C:\\Users\\andersgm\\anaconda3\\envs\\epilepsy\\lib\\site-packages\\sklearn\\metrics\\_classification.py:1245: UndefinedMetricWarning: Precision and F-score are ill-defined and being set to 0.0 in labels with no predicted samples. Use `zero_division` parameter to control this behavior.\n",
      "  _warn_prf(average, modifier, msg_start, len(result))\n",
      "C:\\Users\\andersgm\\anaconda3\\envs\\epilepsy\\lib\\site-packages\\sklearn\\metrics\\_classification.py:1245: UndefinedMetricWarning: Precision and F-score are ill-defined and being set to 0.0 in labels with no predicted samples. Use `zero_division` parameter to control this behavior.\n",
      "  _warn_prf(average, modifier, msg_start, len(result))\n",
      "C:\\Users\\andersgm\\anaconda3\\envs\\epilepsy\\lib\\site-packages\\sklearn\\metrics\\_classification.py:1245: UndefinedMetricWarning: Precision and F-score are ill-defined and being set to 0.0 in labels with no predicted samples. Use `zero_division` parameter to control this behavior.\n",
      "  _warn_prf(average, modifier, msg_start, len(result))\n",
      "C:\\Users\\andersgm\\anaconda3\\envs\\epilepsy\\lib\\site-packages\\sklearn\\metrics\\_classification.py:1245: UndefinedMetricWarning: Precision and F-score are ill-defined and being set to 0.0 in labels with no predicted samples. Use `zero_division` parameter to control this behavior.\n",
      "  _warn_prf(average, modifier, msg_start, len(result))\n",
      "C:\\Users\\andersgm\\anaconda3\\envs\\epilepsy\\lib\\site-packages\\sklearn\\metrics\\_classification.py:1245: UndefinedMetricWarning: Precision and F-score are ill-defined and being set to 0.0 in labels with no predicted samples. Use `zero_division` parameter to control this behavior.\n",
      "  _warn_prf(average, modifier, msg_start, len(result))\n",
      "C:\\Users\\andersgm\\anaconda3\\envs\\epilepsy\\lib\\site-packages\\sklearn\\metrics\\_classification.py:1245: UndefinedMetricWarning: Precision and F-score are ill-defined and being set to 0.0 in labels with no predicted samples. Use `zero_division` parameter to control this behavior.\n",
      "  _warn_prf(average, modifier, msg_start, len(result))\n",
      "C:\\Users\\andersgm\\anaconda3\\envs\\epilepsy\\lib\\site-packages\\sklearn\\metrics\\_classification.py:1245: UndefinedMetricWarning: Precision and F-score are ill-defined and being set to 0.0 in labels with no predicted samples. Use `zero_division` parameter to control this behavior.\n",
      "  _warn_prf(average, modifier, msg_start, len(result))\n",
      "C:\\Users\\andersgm\\anaconda3\\envs\\epilepsy\\lib\\site-packages\\sklearn\\metrics\\_classification.py:1245: UndefinedMetricWarning: Precision and F-score are ill-defined and being set to 0.0 in labels with no predicted samples. Use `zero_division` parameter to control this behavior.\n",
      "  _warn_prf(average, modifier, msg_start, len(result))\n",
      "C:\\Users\\andersgm\\anaconda3\\envs\\epilepsy\\lib\\site-packages\\sklearn\\metrics\\_classification.py:1245: UndefinedMetricWarning: Precision and F-score are ill-defined and being set to 0.0 in labels with no predicted samples. Use `zero_division` parameter to control this behavior.\n",
      "  _warn_prf(average, modifier, msg_start, len(result))\n"
     ]
    },
    {
     "name": "stderr",
     "output_type": "stream",
     "text": [
      "C:\\Users\\andersgm\\anaconda3\\envs\\epilepsy\\lib\\site-packages\\sklearn\\metrics\\_classification.py:1245: UndefinedMetricWarning: Precision and F-score are ill-defined and being set to 0.0 in labels with no predicted samples. Use `zero_division` parameter to control this behavior.\n",
      "  _warn_prf(average, modifier, msg_start, len(result))\n",
      "C:\\Users\\andersgm\\anaconda3\\envs\\epilepsy\\lib\\site-packages\\sklearn\\metrics\\_classification.py:1245: UndefinedMetricWarning: Precision and F-score are ill-defined and being set to 0.0 in labels with no predicted samples. Use `zero_division` parameter to control this behavior.\n",
      "  _warn_prf(average, modifier, msg_start, len(result))\n",
      "C:\\Users\\andersgm\\anaconda3\\envs\\epilepsy\\lib\\site-packages\\sklearn\\metrics\\_classification.py:1245: UndefinedMetricWarning: Precision and F-score are ill-defined and being set to 0.0 in labels with no predicted samples. Use `zero_division` parameter to control this behavior.\n",
      "  _warn_prf(average, modifier, msg_start, len(result))\n",
      "C:\\Users\\andersgm\\anaconda3\\envs\\epilepsy\\lib\\site-packages\\sklearn\\metrics\\_classification.py:1245: UndefinedMetricWarning: Precision and F-score are ill-defined and being set to 0.0 in labels with no predicted samples. Use `zero_division` parameter to control this behavior.\n",
      "  _warn_prf(average, modifier, msg_start, len(result))\n",
      "C:\\Users\\andersgm\\anaconda3\\envs\\epilepsy\\lib\\site-packages\\sklearn\\metrics\\_classification.py:1245: UndefinedMetricWarning: Precision and F-score are ill-defined and being set to 0.0 in labels with no predicted samples. Use `zero_division` parameter to control this behavior.\n",
      "  _warn_prf(average, modifier, msg_start, len(result))\n",
      "C:\\Users\\andersgm\\anaconda3\\envs\\epilepsy\\lib\\site-packages\\sklearn\\metrics\\_classification.py:1245: UndefinedMetricWarning: Precision and F-score are ill-defined and being set to 0.0 in labels with no predicted samples. Use `zero_division` parameter to control this behavior.\n",
      "  _warn_prf(average, modifier, msg_start, len(result))\n",
      "C:\\Users\\andersgm\\anaconda3\\envs\\epilepsy\\lib\\site-packages\\sklearn\\metrics\\_classification.py:1245: UndefinedMetricWarning: Precision and F-score are ill-defined and being set to 0.0 in labels with no predicted samples. Use `zero_division` parameter to control this behavior.\n",
      "  _warn_prf(average, modifier, msg_start, len(result))\n",
      "C:\\Users\\andersgm\\anaconda3\\envs\\epilepsy\\lib\\site-packages\\sklearn\\metrics\\_classification.py:1245: UndefinedMetricWarning: Precision and F-score are ill-defined and being set to 0.0 in labels with no predicted samples. Use `zero_division` parameter to control this behavior.\n",
      "  _warn_prf(average, modifier, msg_start, len(result))\n",
      "C:\\Users\\andersgm\\anaconda3\\envs\\epilepsy\\lib\\site-packages\\sklearn\\metrics\\_classification.py:1245: UndefinedMetricWarning: Precision and F-score are ill-defined and being set to 0.0 in labels with no predicted samples. Use `zero_division` parameter to control this behavior.\n",
      "  _warn_prf(average, modifier, msg_start, len(result))\n",
      "C:\\Users\\andersgm\\anaconda3\\envs\\epilepsy\\lib\\site-packages\\sklearn\\metrics\\_classification.py:1245: UndefinedMetricWarning: Precision and F-score are ill-defined and being set to 0.0 in labels with no predicted samples. Use `zero_division` parameter to control this behavior.\n",
      "  _warn_prf(average, modifier, msg_start, len(result))\n",
      "C:\\Users\\andersgm\\anaconda3\\envs\\epilepsy\\lib\\site-packages\\sklearn\\metrics\\_classification.py:1245: UndefinedMetricWarning: Precision and F-score are ill-defined and being set to 0.0 in labels with no predicted samples. Use `zero_division` parameter to control this behavior.\n",
      "  _warn_prf(average, modifier, msg_start, len(result))\n",
      "C:\\Users\\andersgm\\anaconda3\\envs\\epilepsy\\lib\\site-packages\\sklearn\\metrics\\_classification.py:1245: UndefinedMetricWarning: Precision and F-score are ill-defined and being set to 0.0 in labels with no predicted samples. Use `zero_division` parameter to control this behavior.\n",
      "  _warn_prf(average, modifier, msg_start, len(result))\n",
      "C:\\Users\\andersgm\\anaconda3\\envs\\epilepsy\\lib\\site-packages\\sklearn\\metrics\\_classification.py:1245: UndefinedMetricWarning: Precision and F-score are ill-defined and being set to 0.0 in labels with no predicted samples. Use `zero_division` parameter to control this behavior.\n",
      "  _warn_prf(average, modifier, msg_start, len(result))\n",
      "C:\\Users\\andersgm\\anaconda3\\envs\\epilepsy\\lib\\site-packages\\sklearn\\metrics\\_classification.py:1245: UndefinedMetricWarning: Precision and F-score are ill-defined and being set to 0.0 in labels with no predicted samples. Use `zero_division` parameter to control this behavior.\n",
      "  _warn_prf(average, modifier, msg_start, len(result))\n",
      "C:\\Users\\andersgm\\anaconda3\\envs\\epilepsy\\lib\\site-packages\\sklearn\\metrics\\_classification.py:1245: UndefinedMetricWarning: Precision and F-score are ill-defined and being set to 0.0 in labels with no predicted samples. Use `zero_division` parameter to control this behavior.\n",
      "  _warn_prf(average, modifier, msg_start, len(result))\n",
      "C:\\Users\\andersgm\\anaconda3\\envs\\epilepsy\\lib\\site-packages\\sklearn\\metrics\\_classification.py:1245: UndefinedMetricWarning: Precision and F-score are ill-defined and being set to 0.0 in labels with no predicted samples. Use `zero_division` parameter to control this behavior.\n",
      "  _warn_prf(average, modifier, msg_start, len(result))\n",
      "C:\\Users\\andersgm\\anaconda3\\envs\\epilepsy\\lib\\site-packages\\sklearn\\metrics\\_classification.py:1245: UndefinedMetricWarning: Precision and F-score are ill-defined and being set to 0.0 in labels with no predicted samples. Use `zero_division` parameter to control this behavior.\n",
      "  _warn_prf(average, modifier, msg_start, len(result))\n",
      "C:\\Users\\andersgm\\anaconda3\\envs\\epilepsy\\lib\\site-packages\\sklearn\\metrics\\_classification.py:1245: UndefinedMetricWarning: Precision and F-score are ill-defined and being set to 0.0 in labels with no predicted samples. Use `zero_division` parameter to control this behavior.\n",
      "  _warn_prf(average, modifier, msg_start, len(result))\n",
      "C:\\Users\\andersgm\\anaconda3\\envs\\epilepsy\\lib\\site-packages\\sklearn\\metrics\\_classification.py:1245: UndefinedMetricWarning: Precision and F-score are ill-defined and being set to 0.0 in labels with no predicted samples. Use `zero_division` parameter to control this behavior.\n",
      "  _warn_prf(average, modifier, msg_start, len(result))\n",
      "C:\\Users\\andersgm\\anaconda3\\envs\\epilepsy\\lib\\site-packages\\sklearn\\metrics\\_classification.py:1245: UndefinedMetricWarning: Precision and F-score are ill-defined and being set to 0.0 in labels with no predicted samples. Use `zero_division` parameter to control this behavior.\n",
      "  _warn_prf(average, modifier, msg_start, len(result))\n",
      "C:\\Users\\andersgm\\anaconda3\\envs\\epilepsy\\lib\\site-packages\\sklearn\\metrics\\_classification.py:1245: UndefinedMetricWarning: Precision and F-score are ill-defined and being set to 0.0 in labels with no predicted samples. Use `zero_division` parameter to control this behavior.\n",
      "  _warn_prf(average, modifier, msg_start, len(result))\n",
      "C:\\Users\\andersgm\\anaconda3\\envs\\epilepsy\\lib\\site-packages\\sklearn\\metrics\\_classification.py:1245: UndefinedMetricWarning: Precision and F-score are ill-defined and being set to 0.0 in labels with no predicted samples. Use `zero_division` parameter to control this behavior.\n",
      "  _warn_prf(average, modifier, msg_start, len(result))\n",
      "C:\\Users\\andersgm\\anaconda3\\envs\\epilepsy\\lib\\site-packages\\sklearn\\metrics\\_classification.py:1245: UndefinedMetricWarning: Precision and F-score are ill-defined and being set to 0.0 in labels with no predicted samples. Use `zero_division` parameter to control this behavior.\n",
      "  _warn_prf(average, modifier, msg_start, len(result))\n",
      "C:\\Users\\andersgm\\anaconda3\\envs\\epilepsy\\lib\\site-packages\\sklearn\\metrics\\_classification.py:1245: UndefinedMetricWarning: Precision and F-score are ill-defined and being set to 0.0 in labels with no predicted samples. Use `zero_division` parameter to control this behavior.\n",
      "  _warn_prf(average, modifier, msg_start, len(result))\n",
      "C:\\Users\\andersgm\\anaconda3\\envs\\epilepsy\\lib\\site-packages\\sklearn\\metrics\\_classification.py:1245: UndefinedMetricWarning: Precision and F-score are ill-defined and being set to 0.0 in labels with no predicted samples. Use `zero_division` parameter to control this behavior.\n",
      "  _warn_prf(average, modifier, msg_start, len(result))\n",
      "C:\\Users\\andersgm\\anaconda3\\envs\\epilepsy\\lib\\site-packages\\sklearn\\metrics\\_classification.py:1245: UndefinedMetricWarning: Precision and F-score are ill-defined and being set to 0.0 in labels with no predicted samples. Use `zero_division` parameter to control this behavior.\n",
      "  _warn_prf(average, modifier, msg_start, len(result))\n",
      "C:\\Users\\andersgm\\anaconda3\\envs\\epilepsy\\lib\\site-packages\\sklearn\\metrics\\_classification.py:1245: UndefinedMetricWarning: Precision and F-score are ill-defined and being set to 0.0 in labels with no predicted samples. Use `zero_division` parameter to control this behavior.\n",
      "  _warn_prf(average, modifier, msg_start, len(result))\n"
     ]
    },
    {
     "name": "stderr",
     "output_type": "stream",
     "text": [
      "C:\\Users\\andersgm\\anaconda3\\envs\\epilepsy\\lib\\site-packages\\sklearn\\metrics\\_classification.py:1245: UndefinedMetricWarning: Precision and F-score are ill-defined and being set to 0.0 in labels with no predicted samples. Use `zero_division` parameter to control this behavior.\n",
      "  _warn_prf(average, modifier, msg_start, len(result))\n",
      "C:\\Users\\andersgm\\anaconda3\\envs\\epilepsy\\lib\\site-packages\\sklearn\\metrics\\_classification.py:1245: UndefinedMetricWarning: Precision and F-score are ill-defined and being set to 0.0 in labels with no predicted samples. Use `zero_division` parameter to control this behavior.\n",
      "  _warn_prf(average, modifier, msg_start, len(result))\n",
      "C:\\Users\\andersgm\\anaconda3\\envs\\epilepsy\\lib\\site-packages\\sklearn\\metrics\\_classification.py:1245: UndefinedMetricWarning: Precision and F-score are ill-defined and being set to 0.0 in labels with no predicted samples. Use `zero_division` parameter to control this behavior.\n",
      "  _warn_prf(average, modifier, msg_start, len(result))\n",
      "C:\\Users\\andersgm\\anaconda3\\envs\\epilepsy\\lib\\site-packages\\sklearn\\metrics\\_classification.py:1245: UndefinedMetricWarning: Precision and F-score are ill-defined and being set to 0.0 in labels with no predicted samples. Use `zero_division` parameter to control this behavior.\n",
      "  _warn_prf(average, modifier, msg_start, len(result))\n",
      "C:\\Users\\andersgm\\anaconda3\\envs\\epilepsy\\lib\\site-packages\\sklearn\\metrics\\_classification.py:1245: UndefinedMetricWarning: Precision and F-score are ill-defined and being set to 0.0 in labels with no predicted samples. Use `zero_division` parameter to control this behavior.\n",
      "  _warn_prf(average, modifier, msg_start, len(result))\n",
      "C:\\Users\\andersgm\\anaconda3\\envs\\epilepsy\\lib\\site-packages\\sklearn\\metrics\\_classification.py:1245: UndefinedMetricWarning: Precision and F-score are ill-defined and being set to 0.0 in labels with no predicted samples. Use `zero_division` parameter to control this behavior.\n",
      "  _warn_prf(average, modifier, msg_start, len(result))\n",
      "C:\\Users\\andersgm\\anaconda3\\envs\\epilepsy\\lib\\site-packages\\sklearn\\metrics\\_classification.py:1245: UndefinedMetricWarning: Precision and F-score are ill-defined and being set to 0.0 in labels with no predicted samples. Use `zero_division` parameter to control this behavior.\n",
      "  _warn_prf(average, modifier, msg_start, len(result))\n",
      "C:\\Users\\andersgm\\anaconda3\\envs\\epilepsy\\lib\\site-packages\\sklearn\\metrics\\_classification.py:1245: UndefinedMetricWarning: Precision and F-score are ill-defined and being set to 0.0 in labels with no predicted samples. Use `zero_division` parameter to control this behavior.\n",
      "  _warn_prf(average, modifier, msg_start, len(result))\n",
      "C:\\Users\\andersgm\\anaconda3\\envs\\epilepsy\\lib\\site-packages\\sklearn\\metrics\\_classification.py:1245: UndefinedMetricWarning: Precision and F-score are ill-defined and being set to 0.0 in labels with no predicted samples. Use `zero_division` parameter to control this behavior.\n",
      "  _warn_prf(average, modifier, msg_start, len(result))\n",
      "C:\\Users\\andersgm\\anaconda3\\envs\\epilepsy\\lib\\site-packages\\sklearn\\metrics\\_classification.py:1245: UndefinedMetricWarning: Precision and F-score are ill-defined and being set to 0.0 in labels with no predicted samples. Use `zero_division` parameter to control this behavior.\n",
      "  _warn_prf(average, modifier, msg_start, len(result))\n",
      "C:\\Users\\andersgm\\anaconda3\\envs\\epilepsy\\lib\\site-packages\\sklearn\\metrics\\_classification.py:1245: UndefinedMetricWarning: Precision and F-score are ill-defined and being set to 0.0 in labels with no predicted samples. Use `zero_division` parameter to control this behavior.\n",
      "  _warn_prf(average, modifier, msg_start, len(result))\n",
      "C:\\Users\\andersgm\\anaconda3\\envs\\epilepsy\\lib\\site-packages\\sklearn\\metrics\\_classification.py:1245: UndefinedMetricWarning: Precision and F-score are ill-defined and being set to 0.0 in labels with no predicted samples. Use `zero_division` parameter to control this behavior.\n",
      "  _warn_prf(average, modifier, msg_start, len(result))\n",
      "C:\\Users\\andersgm\\anaconda3\\envs\\epilepsy\\lib\\site-packages\\sklearn\\metrics\\_classification.py:1245: UndefinedMetricWarning: Precision and F-score are ill-defined and being set to 0.0 in labels with no predicted samples. Use `zero_division` parameter to control this behavior.\n",
      "  _warn_prf(average, modifier, msg_start, len(result))\n",
      "C:\\Users\\andersgm\\anaconda3\\envs\\epilepsy\\lib\\site-packages\\sklearn\\metrics\\_classification.py:1245: UndefinedMetricWarning: Precision and F-score are ill-defined and being set to 0.0 in labels with no predicted samples. Use `zero_division` parameter to control this behavior.\n",
      "  _warn_prf(average, modifier, msg_start, len(result))\n",
      "C:\\Users\\andersgm\\anaconda3\\envs\\epilepsy\\lib\\site-packages\\sklearn\\metrics\\_classification.py:1245: UndefinedMetricWarning: Precision and F-score are ill-defined and being set to 0.0 in labels with no predicted samples. Use `zero_division` parameter to control this behavior.\n",
      "  _warn_prf(average, modifier, msg_start, len(result))\n",
      "C:\\Users\\andersgm\\anaconda3\\envs\\epilepsy\\lib\\site-packages\\sklearn\\metrics\\_classification.py:1245: UndefinedMetricWarning: Precision and F-score are ill-defined and being set to 0.0 in labels with no predicted samples. Use `zero_division` parameter to control this behavior.\n",
      "  _warn_prf(average, modifier, msg_start, len(result))\n",
      "C:\\Users\\andersgm\\anaconda3\\envs\\epilepsy\\lib\\site-packages\\sklearn\\metrics\\_classification.py:1245: UndefinedMetricWarning: Precision and F-score are ill-defined and being set to 0.0 in labels with no predicted samples. Use `zero_division` parameter to control this behavior.\n",
      "  _warn_prf(average, modifier, msg_start, len(result))\n",
      "C:\\Users\\andersgm\\anaconda3\\envs\\epilepsy\\lib\\site-packages\\sklearn\\metrics\\_classification.py:1245: UndefinedMetricWarning: Precision and F-score are ill-defined and being set to 0.0 in labels with no predicted samples. Use `zero_division` parameter to control this behavior.\n",
      "  _warn_prf(average, modifier, msg_start, len(result))\n",
      "C:\\Users\\andersgm\\anaconda3\\envs\\epilepsy\\lib\\site-packages\\sklearn\\metrics\\_classification.py:1245: UndefinedMetricWarning: Precision and F-score are ill-defined and being set to 0.0 in labels with no predicted samples. Use `zero_division` parameter to control this behavior.\n",
      "  _warn_prf(average, modifier, msg_start, len(result))\n",
      "C:\\Users\\andersgm\\anaconda3\\envs\\epilepsy\\lib\\site-packages\\sklearn\\metrics\\_classification.py:1245: UndefinedMetricWarning: Precision and F-score are ill-defined and being set to 0.0 in labels with no predicted samples. Use `zero_division` parameter to control this behavior.\n",
      "  _warn_prf(average, modifier, msg_start, len(result))\n",
      "C:\\Users\\andersgm\\anaconda3\\envs\\epilepsy\\lib\\site-packages\\sklearn\\metrics\\_classification.py:1245: UndefinedMetricWarning: Precision and F-score are ill-defined and being set to 0.0 in labels with no predicted samples. Use `zero_division` parameter to control this behavior.\n",
      "  _warn_prf(average, modifier, msg_start, len(result))\n",
      "C:\\Users\\andersgm\\anaconda3\\envs\\epilepsy\\lib\\site-packages\\sklearn\\metrics\\_classification.py:1245: UndefinedMetricWarning: Precision and F-score are ill-defined and being set to 0.0 in labels with no predicted samples. Use `zero_division` parameter to control this behavior.\n",
      "  _warn_prf(average, modifier, msg_start, len(result))\n",
      "C:\\Users\\andersgm\\anaconda3\\envs\\epilepsy\\lib\\site-packages\\sklearn\\metrics\\_classification.py:1245: UndefinedMetricWarning: Precision and F-score are ill-defined and being set to 0.0 in labels with no predicted samples. Use `zero_division` parameter to control this behavior.\n",
      "  _warn_prf(average, modifier, msg_start, len(result))\n",
      "C:\\Users\\andersgm\\anaconda3\\envs\\epilepsy\\lib\\site-packages\\sklearn\\metrics\\_classification.py:1245: UndefinedMetricWarning: Precision and F-score are ill-defined and being set to 0.0 in labels with no predicted samples. Use `zero_division` parameter to control this behavior.\n",
      "  _warn_prf(average, modifier, msg_start, len(result))\n",
      "C:\\Users\\andersgm\\anaconda3\\envs\\epilepsy\\lib\\site-packages\\sklearn\\metrics\\_classification.py:1245: UndefinedMetricWarning: Precision and F-score are ill-defined and being set to 0.0 in labels with no predicted samples. Use `zero_division` parameter to control this behavior.\n",
      "  _warn_prf(average, modifier, msg_start, len(result))\n",
      "C:\\Users\\andersgm\\anaconda3\\envs\\epilepsy\\lib\\site-packages\\sklearn\\metrics\\_classification.py:1245: UndefinedMetricWarning: Precision and F-score are ill-defined and being set to 0.0 in labels with no predicted samples. Use `zero_division` parameter to control this behavior.\n",
      "  _warn_prf(average, modifier, msg_start, len(result))\n",
      "C:\\Users\\andersgm\\anaconda3\\envs\\epilepsy\\lib\\site-packages\\sklearn\\metrics\\_classification.py:1245: UndefinedMetricWarning: Precision and F-score are ill-defined and being set to 0.0 in labels with no predicted samples. Use `zero_division` parameter to control this behavior.\n",
      "  _warn_prf(average, modifier, msg_start, len(result))\n"
     ]
    },
    {
     "name": "stderr",
     "output_type": "stream",
     "text": [
      "C:\\Users\\andersgm\\anaconda3\\envs\\epilepsy\\lib\\site-packages\\sklearn\\metrics\\_classification.py:1245: UndefinedMetricWarning: Precision and F-score are ill-defined and being set to 0.0 in labels with no predicted samples. Use `zero_division` parameter to control this behavior.\n",
      "  _warn_prf(average, modifier, msg_start, len(result))\n",
      "C:\\Users\\andersgm\\anaconda3\\envs\\epilepsy\\lib\\site-packages\\sklearn\\metrics\\_classification.py:1245: UndefinedMetricWarning: Precision and F-score are ill-defined and being set to 0.0 in labels with no predicted samples. Use `zero_division` parameter to control this behavior.\n",
      "  _warn_prf(average, modifier, msg_start, len(result))\n",
      "C:\\Users\\andersgm\\anaconda3\\envs\\epilepsy\\lib\\site-packages\\sklearn\\metrics\\_classification.py:1245: UndefinedMetricWarning: Precision and F-score are ill-defined and being set to 0.0 in labels with no predicted samples. Use `zero_division` parameter to control this behavior.\n",
      "  _warn_prf(average, modifier, msg_start, len(result))\n",
      "C:\\Users\\andersgm\\anaconda3\\envs\\epilepsy\\lib\\site-packages\\sklearn\\metrics\\_classification.py:1245: UndefinedMetricWarning: Precision and F-score are ill-defined and being set to 0.0 in labels with no predicted samples. Use `zero_division` parameter to control this behavior.\n",
      "  _warn_prf(average, modifier, msg_start, len(result))\n",
      "C:\\Users\\andersgm\\anaconda3\\envs\\epilepsy\\lib\\site-packages\\sklearn\\metrics\\_classification.py:1245: UndefinedMetricWarning: Precision and F-score are ill-defined and being set to 0.0 in labels with no predicted samples. Use `zero_division` parameter to control this behavior.\n",
      "  _warn_prf(average, modifier, msg_start, len(result))\n",
      "C:\\Users\\andersgm\\anaconda3\\envs\\epilepsy\\lib\\site-packages\\sklearn\\metrics\\_classification.py:1245: UndefinedMetricWarning: Precision and F-score are ill-defined and being set to 0.0 in labels with no predicted samples. Use `zero_division` parameter to control this behavior.\n",
      "  _warn_prf(average, modifier, msg_start, len(result))\n",
      "C:\\Users\\andersgm\\anaconda3\\envs\\epilepsy\\lib\\site-packages\\sklearn\\metrics\\_classification.py:1245: UndefinedMetricWarning: Precision and F-score are ill-defined and being set to 0.0 in labels with no predicted samples. Use `zero_division` parameter to control this behavior.\n",
      "  _warn_prf(average, modifier, msg_start, len(result))\n",
      "C:\\Users\\andersgm\\anaconda3\\envs\\epilepsy\\lib\\site-packages\\sklearn\\metrics\\_classification.py:1245: UndefinedMetricWarning: Precision and F-score are ill-defined and being set to 0.0 in labels with no predicted samples. Use `zero_division` parameter to control this behavior.\n",
      "  _warn_prf(average, modifier, msg_start, len(result))\n",
      "C:\\Users\\andersgm\\anaconda3\\envs\\epilepsy\\lib\\site-packages\\sklearn\\metrics\\_classification.py:1245: UndefinedMetricWarning: Precision and F-score are ill-defined and being set to 0.0 in labels with no predicted samples. Use `zero_division` parameter to control this behavior.\n",
      "  _warn_prf(average, modifier, msg_start, len(result))\n",
      "C:\\Users\\andersgm\\anaconda3\\envs\\epilepsy\\lib\\site-packages\\sklearn\\metrics\\_classification.py:1245: UndefinedMetricWarning: Precision and F-score are ill-defined and being set to 0.0 in labels with no predicted samples. Use `zero_division` parameter to control this behavior.\n",
      "  _warn_prf(average, modifier, msg_start, len(result))\n",
      "C:\\Users\\andersgm\\anaconda3\\envs\\epilepsy\\lib\\site-packages\\sklearn\\metrics\\_classification.py:1245: UndefinedMetricWarning: Precision and F-score are ill-defined and being set to 0.0 in labels with no predicted samples. Use `zero_division` parameter to control this behavior.\n",
      "  _warn_prf(average, modifier, msg_start, len(result))\n",
      "C:\\Users\\andersgm\\anaconda3\\envs\\epilepsy\\lib\\site-packages\\sklearn\\metrics\\_classification.py:1245: UndefinedMetricWarning: Precision and F-score are ill-defined and being set to 0.0 in labels with no predicted samples. Use `zero_division` parameter to control this behavior.\n",
      "  _warn_prf(average, modifier, msg_start, len(result))\n",
      "C:\\Users\\andersgm\\anaconda3\\envs\\epilepsy\\lib\\site-packages\\sklearn\\metrics\\_classification.py:1245: UndefinedMetricWarning: Precision and F-score are ill-defined and being set to 0.0 in labels with no predicted samples. Use `zero_division` parameter to control this behavior.\n",
      "  _warn_prf(average, modifier, msg_start, len(result))\n",
      "C:\\Users\\andersgm\\anaconda3\\envs\\epilepsy\\lib\\site-packages\\sklearn\\metrics\\_classification.py:1245: UndefinedMetricWarning: Precision and F-score are ill-defined and being set to 0.0 in labels with no predicted samples. Use `zero_division` parameter to control this behavior.\n",
      "  _warn_prf(average, modifier, msg_start, len(result))\n",
      "C:\\Users\\andersgm\\anaconda3\\envs\\epilepsy\\lib\\site-packages\\sklearn\\metrics\\_classification.py:1245: UndefinedMetricWarning: Precision and F-score are ill-defined and being set to 0.0 in labels with no predicted samples. Use `zero_division` parameter to control this behavior.\n",
      "  _warn_prf(average, modifier, msg_start, len(result))\n",
      "C:\\Users\\andersgm\\anaconda3\\envs\\epilepsy\\lib\\site-packages\\sklearn\\metrics\\_classification.py:1245: UndefinedMetricWarning: Precision and F-score are ill-defined and being set to 0.0 in labels with no predicted samples. Use `zero_division` parameter to control this behavior.\n",
      "  _warn_prf(average, modifier, msg_start, len(result))\n",
      "C:\\Users\\andersgm\\anaconda3\\envs\\epilepsy\\lib\\site-packages\\sklearn\\metrics\\_classification.py:1245: UndefinedMetricWarning: Precision and F-score are ill-defined and being set to 0.0 in labels with no predicted samples. Use `zero_division` parameter to control this behavior.\n",
      "  _warn_prf(average, modifier, msg_start, len(result))\n",
      "C:\\Users\\andersgm\\anaconda3\\envs\\epilepsy\\lib\\site-packages\\sklearn\\metrics\\_classification.py:1245: UndefinedMetricWarning: Precision and F-score are ill-defined and being set to 0.0 in labels with no predicted samples. Use `zero_division` parameter to control this behavior.\n",
      "  _warn_prf(average, modifier, msg_start, len(result))\n",
      "C:\\Users\\andersgm\\anaconda3\\envs\\epilepsy\\lib\\site-packages\\sklearn\\metrics\\_classification.py:1245: UndefinedMetricWarning: Precision and F-score are ill-defined and being set to 0.0 in labels with no predicted samples. Use `zero_division` parameter to control this behavior.\n",
      "  _warn_prf(average, modifier, msg_start, len(result))\n",
      "C:\\Users\\andersgm\\anaconda3\\envs\\epilepsy\\lib\\site-packages\\sklearn\\metrics\\_classification.py:1245: UndefinedMetricWarning: Precision and F-score are ill-defined and being set to 0.0 in labels with no predicted samples. Use `zero_division` parameter to control this behavior.\n",
      "  _warn_prf(average, modifier, msg_start, len(result))\n",
      "C:\\Users\\andersgm\\anaconda3\\envs\\epilepsy\\lib\\site-packages\\sklearn\\metrics\\_classification.py:1245: UndefinedMetricWarning: Precision and F-score are ill-defined and being set to 0.0 in labels with no predicted samples. Use `zero_division` parameter to control this behavior.\n",
      "  _warn_prf(average, modifier, msg_start, len(result))\n",
      "C:\\Users\\andersgm\\anaconda3\\envs\\epilepsy\\lib\\site-packages\\sklearn\\metrics\\_classification.py:1245: UndefinedMetricWarning: Precision and F-score are ill-defined and being set to 0.0 in labels with no predicted samples. Use `zero_division` parameter to control this behavior.\n",
      "  _warn_prf(average, modifier, msg_start, len(result))\n",
      "C:\\Users\\andersgm\\anaconda3\\envs\\epilepsy\\lib\\site-packages\\sklearn\\metrics\\_classification.py:1245: UndefinedMetricWarning: Precision and F-score are ill-defined and being set to 0.0 in labels with no predicted samples. Use `zero_division` parameter to control this behavior.\n",
      "  _warn_prf(average, modifier, msg_start, len(result))\n",
      "C:\\Users\\andersgm\\anaconda3\\envs\\epilepsy\\lib\\site-packages\\sklearn\\metrics\\_classification.py:1245: UndefinedMetricWarning: Precision and F-score are ill-defined and being set to 0.0 in labels with no predicted samples. Use `zero_division` parameter to control this behavior.\n",
      "  _warn_prf(average, modifier, msg_start, len(result))\n",
      "C:\\Users\\andersgm\\anaconda3\\envs\\epilepsy\\lib\\site-packages\\sklearn\\metrics\\_classification.py:1245: UndefinedMetricWarning: Precision and F-score are ill-defined and being set to 0.0 in labels with no predicted samples. Use `zero_division` parameter to control this behavior.\n",
      "  _warn_prf(average, modifier, msg_start, len(result))\n",
      "C:\\Users\\andersgm\\anaconda3\\envs\\epilepsy\\lib\\site-packages\\sklearn\\metrics\\_classification.py:1245: UndefinedMetricWarning: Precision and F-score are ill-defined and being set to 0.0 in labels with no predicted samples. Use `zero_division` parameter to control this behavior.\n",
      "  _warn_prf(average, modifier, msg_start, len(result))\n",
      "C:\\Users\\andersgm\\anaconda3\\envs\\epilepsy\\lib\\site-packages\\sklearn\\metrics\\_classification.py:1245: UndefinedMetricWarning: Precision and F-score are ill-defined and being set to 0.0 in labels with no predicted samples. Use `zero_division` parameter to control this behavior.\n",
      "  _warn_prf(average, modifier, msg_start, len(result))\n"
     ]
    },
    {
     "name": "stderr",
     "output_type": "stream",
     "text": [
      "C:\\Users\\andersgm\\anaconda3\\envs\\epilepsy\\lib\\site-packages\\sklearn\\metrics\\_classification.py:1245: UndefinedMetricWarning: Precision and F-score are ill-defined and being set to 0.0 in labels with no predicted samples. Use `zero_division` parameter to control this behavior.\n",
      "  _warn_prf(average, modifier, msg_start, len(result))\n",
      "C:\\Users\\andersgm\\anaconda3\\envs\\epilepsy\\lib\\site-packages\\sklearn\\metrics\\_classification.py:1245: UndefinedMetricWarning: Precision and F-score are ill-defined and being set to 0.0 in labels with no predicted samples. Use `zero_division` parameter to control this behavior.\n",
      "  _warn_prf(average, modifier, msg_start, len(result))\n",
      "C:\\Users\\andersgm\\anaconda3\\envs\\epilepsy\\lib\\site-packages\\sklearn\\metrics\\_classification.py:1245: UndefinedMetricWarning: Precision and F-score are ill-defined and being set to 0.0 in labels with no predicted samples. Use `zero_division` parameter to control this behavior.\n",
      "  _warn_prf(average, modifier, msg_start, len(result))\n",
      "C:\\Users\\andersgm\\anaconda3\\envs\\epilepsy\\lib\\site-packages\\sklearn\\metrics\\_classification.py:1245: UndefinedMetricWarning: Precision and F-score are ill-defined and being set to 0.0 in labels with no predicted samples. Use `zero_division` parameter to control this behavior.\n",
      "  _warn_prf(average, modifier, msg_start, len(result))\n",
      "C:\\Users\\andersgm\\anaconda3\\envs\\epilepsy\\lib\\site-packages\\sklearn\\metrics\\_classification.py:1245: UndefinedMetricWarning: Precision and F-score are ill-defined and being set to 0.0 in labels with no predicted samples. Use `zero_division` parameter to control this behavior.\n",
      "  _warn_prf(average, modifier, msg_start, len(result))\n",
      "C:\\Users\\andersgm\\anaconda3\\envs\\epilepsy\\lib\\site-packages\\sklearn\\metrics\\_classification.py:1245: UndefinedMetricWarning: Precision and F-score are ill-defined and being set to 0.0 in labels with no predicted samples. Use `zero_division` parameter to control this behavior.\n",
      "  _warn_prf(average, modifier, msg_start, len(result))\n",
      "C:\\Users\\andersgm\\anaconda3\\envs\\epilepsy\\lib\\site-packages\\sklearn\\metrics\\_classification.py:1245: UndefinedMetricWarning: Precision and F-score are ill-defined and being set to 0.0 in labels with no predicted samples. Use `zero_division` parameter to control this behavior.\n",
      "  _warn_prf(average, modifier, msg_start, len(result))\n",
      "C:\\Users\\andersgm\\anaconda3\\envs\\epilepsy\\lib\\site-packages\\sklearn\\metrics\\_classification.py:1245: UndefinedMetricWarning: Precision and F-score are ill-defined and being set to 0.0 in labels with no predicted samples. Use `zero_division` parameter to control this behavior.\n",
      "  _warn_prf(average, modifier, msg_start, len(result))\n",
      "C:\\Users\\andersgm\\anaconda3\\envs\\epilepsy\\lib\\site-packages\\sklearn\\metrics\\_classification.py:1245: UndefinedMetricWarning: Precision and F-score are ill-defined and being set to 0.0 in labels with no predicted samples. Use `zero_division` parameter to control this behavior.\n",
      "  _warn_prf(average, modifier, msg_start, len(result))\n",
      "C:\\Users\\andersgm\\anaconda3\\envs\\epilepsy\\lib\\site-packages\\sklearn\\metrics\\_classification.py:1245: UndefinedMetricWarning: Precision and F-score are ill-defined and being set to 0.0 in labels with no predicted samples. Use `zero_division` parameter to control this behavior.\n",
      "  _warn_prf(average, modifier, msg_start, len(result))\n",
      "C:\\Users\\andersgm\\anaconda3\\envs\\epilepsy\\lib\\site-packages\\sklearn\\metrics\\_classification.py:1245: UndefinedMetricWarning: Precision and F-score are ill-defined and being set to 0.0 in labels with no predicted samples. Use `zero_division` parameter to control this behavior.\n",
      "  _warn_prf(average, modifier, msg_start, len(result))\n",
      "C:\\Users\\andersgm\\anaconda3\\envs\\epilepsy\\lib\\site-packages\\sklearn\\metrics\\_classification.py:1245: UndefinedMetricWarning: Precision and F-score are ill-defined and being set to 0.0 in labels with no predicted samples. Use `zero_division` parameter to control this behavior.\n",
      "  _warn_prf(average, modifier, msg_start, len(result))\n",
      "C:\\Users\\andersgm\\anaconda3\\envs\\epilepsy\\lib\\site-packages\\sklearn\\metrics\\_classification.py:1245: UndefinedMetricWarning: Precision and F-score are ill-defined and being set to 0.0 in labels with no predicted samples. Use `zero_division` parameter to control this behavior.\n",
      "  _warn_prf(average, modifier, msg_start, len(result))\n",
      "C:\\Users\\andersgm\\anaconda3\\envs\\epilepsy\\lib\\site-packages\\sklearn\\metrics\\_classification.py:1245: UndefinedMetricWarning: Precision and F-score are ill-defined and being set to 0.0 in labels with no predicted samples. Use `zero_division` parameter to control this behavior.\n",
      "  _warn_prf(average, modifier, msg_start, len(result))\n",
      "C:\\Users\\andersgm\\anaconda3\\envs\\epilepsy\\lib\\site-packages\\sklearn\\metrics\\_classification.py:1245: UndefinedMetricWarning: Precision and F-score are ill-defined and being set to 0.0 in labels with no predicted samples. Use `zero_division` parameter to control this behavior.\n",
      "  _warn_prf(average, modifier, msg_start, len(result))\n",
      "C:\\Users\\andersgm\\anaconda3\\envs\\epilepsy\\lib\\site-packages\\sklearn\\metrics\\_classification.py:1245: UndefinedMetricWarning: Precision and F-score are ill-defined and being set to 0.0 in labels with no predicted samples. Use `zero_division` parameter to control this behavior.\n",
      "  _warn_prf(average, modifier, msg_start, len(result))\n",
      "C:\\Users\\andersgm\\anaconda3\\envs\\epilepsy\\lib\\site-packages\\sklearn\\metrics\\_classification.py:1245: UndefinedMetricWarning: Precision and F-score are ill-defined and being set to 0.0 in labels with no predicted samples. Use `zero_division` parameter to control this behavior.\n",
      "  _warn_prf(average, modifier, msg_start, len(result))\n",
      "C:\\Users\\andersgm\\anaconda3\\envs\\epilepsy\\lib\\site-packages\\sklearn\\metrics\\_classification.py:1245: UndefinedMetricWarning: Precision and F-score are ill-defined and being set to 0.0 in labels with no predicted samples. Use `zero_division` parameter to control this behavior.\n",
      "  _warn_prf(average, modifier, msg_start, len(result))\n",
      "C:\\Users\\andersgm\\anaconda3\\envs\\epilepsy\\lib\\site-packages\\sklearn\\metrics\\_classification.py:1245: UndefinedMetricWarning: Precision and F-score are ill-defined and being set to 0.0 in labels with no predicted samples. Use `zero_division` parameter to control this behavior.\n",
      "  _warn_prf(average, modifier, msg_start, len(result))\n",
      "C:\\Users\\andersgm\\anaconda3\\envs\\epilepsy\\lib\\site-packages\\sklearn\\metrics\\_classification.py:1245: UndefinedMetricWarning: Precision and F-score are ill-defined and being set to 0.0 in labels with no predicted samples. Use `zero_division` parameter to control this behavior.\n",
      "  _warn_prf(average, modifier, msg_start, len(result))\n",
      "C:\\Users\\andersgm\\anaconda3\\envs\\epilepsy\\lib\\site-packages\\sklearn\\metrics\\_classification.py:1245: UndefinedMetricWarning: Precision and F-score are ill-defined and being set to 0.0 in labels with no predicted samples. Use `zero_division` parameter to control this behavior.\n",
      "  _warn_prf(average, modifier, msg_start, len(result))\n",
      "C:\\Users\\andersgm\\anaconda3\\envs\\epilepsy\\lib\\site-packages\\sklearn\\metrics\\_classification.py:1245: UndefinedMetricWarning: Precision and F-score are ill-defined and being set to 0.0 in labels with no predicted samples. Use `zero_division` parameter to control this behavior.\n",
      "  _warn_prf(average, modifier, msg_start, len(result))\n",
      "C:\\Users\\andersgm\\anaconda3\\envs\\epilepsy\\lib\\site-packages\\sklearn\\metrics\\_classification.py:1245: UndefinedMetricWarning: Precision and F-score are ill-defined and being set to 0.0 in labels with no predicted samples. Use `zero_division` parameter to control this behavior.\n",
      "  _warn_prf(average, modifier, msg_start, len(result))\n",
      "C:\\Users\\andersgm\\anaconda3\\envs\\epilepsy\\lib\\site-packages\\sklearn\\metrics\\_classification.py:1245: UndefinedMetricWarning: Precision and F-score are ill-defined and being set to 0.0 in labels with no predicted samples. Use `zero_division` parameter to control this behavior.\n",
      "  _warn_prf(average, modifier, msg_start, len(result))\n",
      "C:\\Users\\andersgm\\anaconda3\\envs\\epilepsy\\lib\\site-packages\\sklearn\\metrics\\_classification.py:1245: UndefinedMetricWarning: Precision and F-score are ill-defined and being set to 0.0 in labels with no predicted samples. Use `zero_division` parameter to control this behavior.\n",
      "  _warn_prf(average, modifier, msg_start, len(result))\n",
      "C:\\Users\\andersgm\\anaconda3\\envs\\epilepsy\\lib\\site-packages\\sklearn\\metrics\\_classification.py:1245: UndefinedMetricWarning: Precision and F-score are ill-defined and being set to 0.0 in labels with no predicted samples. Use `zero_division` parameter to control this behavior.\n",
      "  _warn_prf(average, modifier, msg_start, len(result))\n",
      "C:\\Users\\andersgm\\anaconda3\\envs\\epilepsy\\lib\\site-packages\\sklearn\\metrics\\_classification.py:1245: UndefinedMetricWarning: Precision and F-score are ill-defined and being set to 0.0 in labels with no predicted samples. Use `zero_division` parameter to control this behavior.\n",
      "  _warn_prf(average, modifier, msg_start, len(result))\n"
     ]
    },
    {
     "name": "stderr",
     "output_type": "stream",
     "text": [
      "C:\\Users\\andersgm\\anaconda3\\envs\\epilepsy\\lib\\site-packages\\sklearn\\metrics\\_classification.py:1245: UndefinedMetricWarning: Precision and F-score are ill-defined and being set to 0.0 in labels with no predicted samples. Use `zero_division` parameter to control this behavior.\n",
      "  _warn_prf(average, modifier, msg_start, len(result))\n",
      "C:\\Users\\andersgm\\anaconda3\\envs\\epilepsy\\lib\\site-packages\\sklearn\\metrics\\_classification.py:1245: UndefinedMetricWarning: Precision and F-score are ill-defined and being set to 0.0 in labels with no predicted samples. Use `zero_division` parameter to control this behavior.\n",
      "  _warn_prf(average, modifier, msg_start, len(result))\n",
      "C:\\Users\\andersgm\\anaconda3\\envs\\epilepsy\\lib\\site-packages\\sklearn\\metrics\\_classification.py:1245: UndefinedMetricWarning: Precision and F-score are ill-defined and being set to 0.0 in labels with no predicted samples. Use `zero_division` parameter to control this behavior.\n",
      "  _warn_prf(average, modifier, msg_start, len(result))\n",
      "C:\\Users\\andersgm\\anaconda3\\envs\\epilepsy\\lib\\site-packages\\sklearn\\metrics\\_classification.py:1245: UndefinedMetricWarning: Precision and F-score are ill-defined and being set to 0.0 in labels with no predicted samples. Use `zero_division` parameter to control this behavior.\n",
      "  _warn_prf(average, modifier, msg_start, len(result))\n",
      "C:\\Users\\andersgm\\anaconda3\\envs\\epilepsy\\lib\\site-packages\\sklearn\\metrics\\_classification.py:1245: UndefinedMetricWarning: Precision and F-score are ill-defined and being set to 0.0 in labels with no predicted samples. Use `zero_division` parameter to control this behavior.\n",
      "  _warn_prf(average, modifier, msg_start, len(result))\n",
      "C:\\Users\\andersgm\\anaconda3\\envs\\epilepsy\\lib\\site-packages\\sklearn\\metrics\\_classification.py:1245: UndefinedMetricWarning: Precision and F-score are ill-defined and being set to 0.0 in labels with no predicted samples. Use `zero_division` parameter to control this behavior.\n",
      "  _warn_prf(average, modifier, msg_start, len(result))\n",
      "C:\\Users\\andersgm\\anaconda3\\envs\\epilepsy\\lib\\site-packages\\sklearn\\metrics\\_classification.py:1245: UndefinedMetricWarning: Precision and F-score are ill-defined and being set to 0.0 in labels with no predicted samples. Use `zero_division` parameter to control this behavior.\n",
      "  _warn_prf(average, modifier, msg_start, len(result))\n",
      "C:\\Users\\andersgm\\anaconda3\\envs\\epilepsy\\lib\\site-packages\\sklearn\\metrics\\_classification.py:1245: UndefinedMetricWarning: Precision and F-score are ill-defined and being set to 0.0 in labels with no predicted samples. Use `zero_division` parameter to control this behavior.\n",
      "  _warn_prf(average, modifier, msg_start, len(result))\n",
      "C:\\Users\\andersgm\\anaconda3\\envs\\epilepsy\\lib\\site-packages\\sklearn\\metrics\\_classification.py:1245: UndefinedMetricWarning: Precision and F-score are ill-defined and being set to 0.0 in labels with no predicted samples. Use `zero_division` parameter to control this behavior.\n",
      "  _warn_prf(average, modifier, msg_start, len(result))\n",
      "C:\\Users\\andersgm\\anaconda3\\envs\\epilepsy\\lib\\site-packages\\sklearn\\metrics\\_classification.py:1245: UndefinedMetricWarning: Precision and F-score are ill-defined and being set to 0.0 in labels with no predicted samples. Use `zero_division` parameter to control this behavior.\n",
      "  _warn_prf(average, modifier, msg_start, len(result))\n",
      "C:\\Users\\andersgm\\anaconda3\\envs\\epilepsy\\lib\\site-packages\\sklearn\\metrics\\_classification.py:1245: UndefinedMetricWarning: Precision and F-score are ill-defined and being set to 0.0 in labels with no predicted samples. Use `zero_division` parameter to control this behavior.\n",
      "  _warn_prf(average, modifier, msg_start, len(result))\n",
      "C:\\Users\\andersgm\\anaconda3\\envs\\epilepsy\\lib\\site-packages\\sklearn\\metrics\\_classification.py:1245: UndefinedMetricWarning: Precision and F-score are ill-defined and being set to 0.0 in labels with no predicted samples. Use `zero_division` parameter to control this behavior.\n",
      "  _warn_prf(average, modifier, msg_start, len(result))\n",
      "C:\\Users\\andersgm\\anaconda3\\envs\\epilepsy\\lib\\site-packages\\sklearn\\metrics\\_classification.py:1245: UndefinedMetricWarning: Precision and F-score are ill-defined and being set to 0.0 in labels with no predicted samples. Use `zero_division` parameter to control this behavior.\n",
      "  _warn_prf(average, modifier, msg_start, len(result))\n",
      "C:\\Users\\andersgm\\anaconda3\\envs\\epilepsy\\lib\\site-packages\\sklearn\\metrics\\_classification.py:1245: UndefinedMetricWarning: Precision and F-score are ill-defined and being set to 0.0 in labels with no predicted samples. Use `zero_division` parameter to control this behavior.\n",
      "  _warn_prf(average, modifier, msg_start, len(result))\n",
      "C:\\Users\\andersgm\\anaconda3\\envs\\epilepsy\\lib\\site-packages\\sklearn\\metrics\\_classification.py:1245: UndefinedMetricWarning: Precision and F-score are ill-defined and being set to 0.0 in labels with no predicted samples. Use `zero_division` parameter to control this behavior.\n",
      "  _warn_prf(average, modifier, msg_start, len(result))\n",
      "C:\\Users\\andersgm\\anaconda3\\envs\\epilepsy\\lib\\site-packages\\sklearn\\metrics\\_classification.py:1245: UndefinedMetricWarning: Precision and F-score are ill-defined and being set to 0.0 in labels with no predicted samples. Use `zero_division` parameter to control this behavior.\n",
      "  _warn_prf(average, modifier, msg_start, len(result))\n",
      "C:\\Users\\andersgm\\anaconda3\\envs\\epilepsy\\lib\\site-packages\\sklearn\\metrics\\_classification.py:1245: UndefinedMetricWarning: Precision and F-score are ill-defined and being set to 0.0 in labels with no predicted samples. Use `zero_division` parameter to control this behavior.\n",
      "  _warn_prf(average, modifier, msg_start, len(result))\n",
      "C:\\Users\\andersgm\\anaconda3\\envs\\epilepsy\\lib\\site-packages\\sklearn\\metrics\\_classification.py:1245: UndefinedMetricWarning: Precision and F-score are ill-defined and being set to 0.0 in labels with no predicted samples. Use `zero_division` parameter to control this behavior.\n",
      "  _warn_prf(average, modifier, msg_start, len(result))\n",
      "C:\\Users\\andersgm\\anaconda3\\envs\\epilepsy\\lib\\site-packages\\sklearn\\metrics\\_classification.py:1245: UndefinedMetricWarning: Precision and F-score are ill-defined and being set to 0.0 in labels with no predicted samples. Use `zero_division` parameter to control this behavior.\n",
      "  _warn_prf(average, modifier, msg_start, len(result))\n",
      "C:\\Users\\andersgm\\anaconda3\\envs\\epilepsy\\lib\\site-packages\\sklearn\\metrics\\_classification.py:1245: UndefinedMetricWarning: Precision and F-score are ill-defined and being set to 0.0 in labels with no predicted samples. Use `zero_division` parameter to control this behavior.\n",
      "  _warn_prf(average, modifier, msg_start, len(result))\n",
      "C:\\Users\\andersgm\\anaconda3\\envs\\epilepsy\\lib\\site-packages\\sklearn\\metrics\\_classification.py:1245: UndefinedMetricWarning: Precision and F-score are ill-defined and being set to 0.0 in labels with no predicted samples. Use `zero_division` parameter to control this behavior.\n",
      "  _warn_prf(average, modifier, msg_start, len(result))\n",
      "C:\\Users\\andersgm\\anaconda3\\envs\\epilepsy\\lib\\site-packages\\sklearn\\metrics\\_classification.py:1245: UndefinedMetricWarning: Precision and F-score are ill-defined and being set to 0.0 in labels with no predicted samples. Use `zero_division` parameter to control this behavior.\n",
      "  _warn_prf(average, modifier, msg_start, len(result))\n",
      "C:\\Users\\andersgm\\anaconda3\\envs\\epilepsy\\lib\\site-packages\\sklearn\\metrics\\_classification.py:1245: UndefinedMetricWarning: Precision and F-score are ill-defined and being set to 0.0 in labels with no predicted samples. Use `zero_division` parameter to control this behavior.\n",
      "  _warn_prf(average, modifier, msg_start, len(result))\n",
      "C:\\Users\\andersgm\\anaconda3\\envs\\epilepsy\\lib\\site-packages\\sklearn\\metrics\\_classification.py:1245: UndefinedMetricWarning: Precision and F-score are ill-defined and being set to 0.0 in labels with no predicted samples. Use `zero_division` parameter to control this behavior.\n",
      "  _warn_prf(average, modifier, msg_start, len(result))\n",
      "C:\\Users\\andersgm\\anaconda3\\envs\\epilepsy\\lib\\site-packages\\sklearn\\metrics\\_classification.py:1245: UndefinedMetricWarning: Precision and F-score are ill-defined and being set to 0.0 in labels with no predicted samples. Use `zero_division` parameter to control this behavior.\n",
      "  _warn_prf(average, modifier, msg_start, len(result))\n",
      "C:\\Users\\andersgm\\anaconda3\\envs\\epilepsy\\lib\\site-packages\\sklearn\\metrics\\_classification.py:1245: UndefinedMetricWarning: Precision and F-score are ill-defined and being set to 0.0 in labels with no predicted samples. Use `zero_division` parameter to control this behavior.\n",
      "  _warn_prf(average, modifier, msg_start, len(result))\n",
      "C:\\Users\\andersgm\\anaconda3\\envs\\epilepsy\\lib\\site-packages\\sklearn\\metrics\\_classification.py:1245: UndefinedMetricWarning: Precision and F-score are ill-defined and being set to 0.0 in labels with no predicted samples. Use `zero_division` parameter to control this behavior.\n",
      "  _warn_prf(average, modifier, msg_start, len(result))\n"
     ]
    },
    {
     "name": "stderr",
     "output_type": "stream",
     "text": [
      "C:\\Users\\andersgm\\anaconda3\\envs\\epilepsy\\lib\\site-packages\\sklearn\\metrics\\_classification.py:1245: UndefinedMetricWarning: Precision and F-score are ill-defined and being set to 0.0 in labels with no predicted samples. Use `zero_division` parameter to control this behavior.\n",
      "  _warn_prf(average, modifier, msg_start, len(result))\n",
      "C:\\Users\\andersgm\\anaconda3\\envs\\epilepsy\\lib\\site-packages\\sklearn\\metrics\\_classification.py:1245: UndefinedMetricWarning: Precision and F-score are ill-defined and being set to 0.0 in labels with no predicted samples. Use `zero_division` parameter to control this behavior.\n",
      "  _warn_prf(average, modifier, msg_start, len(result))\n",
      "C:\\Users\\andersgm\\anaconda3\\envs\\epilepsy\\lib\\site-packages\\sklearn\\metrics\\_classification.py:1245: UndefinedMetricWarning: Precision and F-score are ill-defined and being set to 0.0 in labels with no predicted samples. Use `zero_division` parameter to control this behavior.\n",
      "  _warn_prf(average, modifier, msg_start, len(result))\n",
      "C:\\Users\\andersgm\\anaconda3\\envs\\epilepsy\\lib\\site-packages\\sklearn\\metrics\\_classification.py:1245: UndefinedMetricWarning: Precision and F-score are ill-defined and being set to 0.0 in labels with no predicted samples. Use `zero_division` parameter to control this behavior.\n",
      "  _warn_prf(average, modifier, msg_start, len(result))\n",
      "C:\\Users\\andersgm\\anaconda3\\envs\\epilepsy\\lib\\site-packages\\sklearn\\metrics\\_classification.py:1245: UndefinedMetricWarning: Precision and F-score are ill-defined and being set to 0.0 in labels with no predicted samples. Use `zero_division` parameter to control this behavior.\n",
      "  _warn_prf(average, modifier, msg_start, len(result))\n",
      "C:\\Users\\andersgm\\anaconda3\\envs\\epilepsy\\lib\\site-packages\\sklearn\\metrics\\_classification.py:1245: UndefinedMetricWarning: Precision and F-score are ill-defined and being set to 0.0 in labels with no predicted samples. Use `zero_division` parameter to control this behavior.\n",
      "  _warn_prf(average, modifier, msg_start, len(result))\n",
      "C:\\Users\\andersgm\\anaconda3\\envs\\epilepsy\\lib\\site-packages\\sklearn\\metrics\\_classification.py:1245: UndefinedMetricWarning: Precision and F-score are ill-defined and being set to 0.0 in labels with no predicted samples. Use `zero_division` parameter to control this behavior.\n",
      "  _warn_prf(average, modifier, msg_start, len(result))\n",
      "C:\\Users\\andersgm\\anaconda3\\envs\\epilepsy\\lib\\site-packages\\sklearn\\metrics\\_classification.py:1245: UndefinedMetricWarning: Precision and F-score are ill-defined and being set to 0.0 in labels with no predicted samples. Use `zero_division` parameter to control this behavior.\n",
      "  _warn_prf(average, modifier, msg_start, len(result))\n",
      "C:\\Users\\andersgm\\anaconda3\\envs\\epilepsy\\lib\\site-packages\\sklearn\\metrics\\_classification.py:1245: UndefinedMetricWarning: Precision and F-score are ill-defined and being set to 0.0 in labels with no predicted samples. Use `zero_division` parameter to control this behavior.\n",
      "  _warn_prf(average, modifier, msg_start, len(result))\n",
      "C:\\Users\\andersgm\\anaconda3\\envs\\epilepsy\\lib\\site-packages\\sklearn\\metrics\\_classification.py:1245: UndefinedMetricWarning: Precision and F-score are ill-defined and being set to 0.0 in labels with no predicted samples. Use `zero_division` parameter to control this behavior.\n",
      "  _warn_prf(average, modifier, msg_start, len(result))\n",
      "C:\\Users\\andersgm\\anaconda3\\envs\\epilepsy\\lib\\site-packages\\sklearn\\metrics\\_classification.py:1245: UndefinedMetricWarning: Precision and F-score are ill-defined and being set to 0.0 in labels with no predicted samples. Use `zero_division` parameter to control this behavior.\n",
      "  _warn_prf(average, modifier, msg_start, len(result))\n",
      "C:\\Users\\andersgm\\anaconda3\\envs\\epilepsy\\lib\\site-packages\\sklearn\\metrics\\_classification.py:1245: UndefinedMetricWarning: Precision and F-score are ill-defined and being set to 0.0 in labels with no predicted samples. Use `zero_division` parameter to control this behavior.\n",
      "  _warn_prf(average, modifier, msg_start, len(result))\n",
      "C:\\Users\\andersgm\\anaconda3\\envs\\epilepsy\\lib\\site-packages\\sklearn\\metrics\\_classification.py:1245: UndefinedMetricWarning: Precision and F-score are ill-defined and being set to 0.0 in labels with no predicted samples. Use `zero_division` parameter to control this behavior.\n",
      "  _warn_prf(average, modifier, msg_start, len(result))\n",
      "C:\\Users\\andersgm\\anaconda3\\envs\\epilepsy\\lib\\site-packages\\sklearn\\metrics\\_classification.py:1245: UndefinedMetricWarning: Precision and F-score are ill-defined and being set to 0.0 in labels with no predicted samples. Use `zero_division` parameter to control this behavior.\n",
      "  _warn_prf(average, modifier, msg_start, len(result))\n",
      "C:\\Users\\andersgm\\anaconda3\\envs\\epilepsy\\lib\\site-packages\\sklearn\\metrics\\_classification.py:1245: UndefinedMetricWarning: Precision and F-score are ill-defined and being set to 0.0 in labels with no predicted samples. Use `zero_division` parameter to control this behavior.\n",
      "  _warn_prf(average, modifier, msg_start, len(result))\n",
      "C:\\Users\\andersgm\\anaconda3\\envs\\epilepsy\\lib\\site-packages\\sklearn\\metrics\\_classification.py:1245: UndefinedMetricWarning: Precision and F-score are ill-defined and being set to 0.0 in labels with no predicted samples. Use `zero_division` parameter to control this behavior.\n",
      "  _warn_prf(average, modifier, msg_start, len(result))\n",
      "C:\\Users\\andersgm\\anaconda3\\envs\\epilepsy\\lib\\site-packages\\sklearn\\metrics\\_classification.py:1245: UndefinedMetricWarning: Precision and F-score are ill-defined and being set to 0.0 in labels with no predicted samples. Use `zero_division` parameter to control this behavior.\n",
      "  _warn_prf(average, modifier, msg_start, len(result))\n",
      "C:\\Users\\andersgm\\anaconda3\\envs\\epilepsy\\lib\\site-packages\\sklearn\\metrics\\_classification.py:1245: UndefinedMetricWarning: Precision and F-score are ill-defined and being set to 0.0 in labels with no predicted samples. Use `zero_division` parameter to control this behavior.\n",
      "  _warn_prf(average, modifier, msg_start, len(result))\n",
      "C:\\Users\\andersgm\\anaconda3\\envs\\epilepsy\\lib\\site-packages\\sklearn\\metrics\\_classification.py:1245: UndefinedMetricWarning: Precision and F-score are ill-defined and being set to 0.0 in labels with no predicted samples. Use `zero_division` parameter to control this behavior.\n",
      "  _warn_prf(average, modifier, msg_start, len(result))\n",
      "C:\\Users\\andersgm\\anaconda3\\envs\\epilepsy\\lib\\site-packages\\sklearn\\metrics\\_classification.py:1245: UndefinedMetricWarning: Precision and F-score are ill-defined and being set to 0.0 in labels with no predicted samples. Use `zero_division` parameter to control this behavior.\n",
      "  _warn_prf(average, modifier, msg_start, len(result))\n",
      "C:\\Users\\andersgm\\anaconda3\\envs\\epilepsy\\lib\\site-packages\\sklearn\\metrics\\_classification.py:1245: UndefinedMetricWarning: Precision and F-score are ill-defined and being set to 0.0 in labels with no predicted samples. Use `zero_division` parameter to control this behavior.\n",
      "  _warn_prf(average, modifier, msg_start, len(result))\n",
      "C:\\Users\\andersgm\\anaconda3\\envs\\epilepsy\\lib\\site-packages\\sklearn\\metrics\\_classification.py:1245: UndefinedMetricWarning: Precision and F-score are ill-defined and being set to 0.0 in labels with no predicted samples. Use `zero_division` parameter to control this behavior.\n",
      "  _warn_prf(average, modifier, msg_start, len(result))\n",
      "C:\\Users\\andersgm\\anaconda3\\envs\\epilepsy\\lib\\site-packages\\sklearn\\metrics\\_classification.py:1245: UndefinedMetricWarning: Precision and F-score are ill-defined and being set to 0.0 in labels with no predicted samples. Use `zero_division` parameter to control this behavior.\n",
      "  _warn_prf(average, modifier, msg_start, len(result))\n",
      "C:\\Users\\andersgm\\anaconda3\\envs\\epilepsy\\lib\\site-packages\\sklearn\\metrics\\_classification.py:1245: UndefinedMetricWarning: Precision and F-score are ill-defined and being set to 0.0 in labels with no predicted samples. Use `zero_division` parameter to control this behavior.\n",
      "  _warn_prf(average, modifier, msg_start, len(result))\n",
      "C:\\Users\\andersgm\\anaconda3\\envs\\epilepsy\\lib\\site-packages\\sklearn\\metrics\\_classification.py:1245: UndefinedMetricWarning: Precision and F-score are ill-defined and being set to 0.0 in labels with no predicted samples. Use `zero_division` parameter to control this behavior.\n",
      "  _warn_prf(average, modifier, msg_start, len(result))\n",
      "C:\\Users\\andersgm\\anaconda3\\envs\\epilepsy\\lib\\site-packages\\sklearn\\metrics\\_classification.py:1245: UndefinedMetricWarning: Precision and F-score are ill-defined and being set to 0.0 in labels with no predicted samples. Use `zero_division` parameter to control this behavior.\n",
      "  _warn_prf(average, modifier, msg_start, len(result))\n",
      "C:\\Users\\andersgm\\anaconda3\\envs\\epilepsy\\lib\\site-packages\\sklearn\\metrics\\_classification.py:1245: UndefinedMetricWarning: Precision and F-score are ill-defined and being set to 0.0 in labels with no predicted samples. Use `zero_division` parameter to control this behavior.\n",
      "  _warn_prf(average, modifier, msg_start, len(result))\n"
     ]
    },
    {
     "name": "stderr",
     "output_type": "stream",
     "text": [
      "C:\\Users\\andersgm\\anaconda3\\envs\\epilepsy\\lib\\site-packages\\sklearn\\metrics\\_classification.py:1245: UndefinedMetricWarning: Precision and F-score are ill-defined and being set to 0.0 in labels with no predicted samples. Use `zero_division` parameter to control this behavior.\n",
      "  _warn_prf(average, modifier, msg_start, len(result))\n",
      "C:\\Users\\andersgm\\anaconda3\\envs\\epilepsy\\lib\\site-packages\\sklearn\\metrics\\_classification.py:1245: UndefinedMetricWarning: Precision and F-score are ill-defined and being set to 0.0 in labels with no predicted samples. Use `zero_division` parameter to control this behavior.\n",
      "  _warn_prf(average, modifier, msg_start, len(result))\n",
      "C:\\Users\\andersgm\\anaconda3\\envs\\epilepsy\\lib\\site-packages\\sklearn\\metrics\\_classification.py:1245: UndefinedMetricWarning: Precision and F-score are ill-defined and being set to 0.0 in labels with no predicted samples. Use `zero_division` parameter to control this behavior.\n",
      "  _warn_prf(average, modifier, msg_start, len(result))\n",
      "C:\\Users\\andersgm\\anaconda3\\envs\\epilepsy\\lib\\site-packages\\sklearn\\metrics\\_classification.py:1245: UndefinedMetricWarning: Precision and F-score are ill-defined and being set to 0.0 in labels with no predicted samples. Use `zero_division` parameter to control this behavior.\n",
      "  _warn_prf(average, modifier, msg_start, len(result))\n",
      "C:\\Users\\andersgm\\anaconda3\\envs\\epilepsy\\lib\\site-packages\\sklearn\\metrics\\_classification.py:1245: UndefinedMetricWarning: Precision and F-score are ill-defined and being set to 0.0 in labels with no predicted samples. Use `zero_division` parameter to control this behavior.\n",
      "  _warn_prf(average, modifier, msg_start, len(result))\n",
      "C:\\Users\\andersgm\\anaconda3\\envs\\epilepsy\\lib\\site-packages\\sklearn\\metrics\\_classification.py:1245: UndefinedMetricWarning: Precision and F-score are ill-defined and being set to 0.0 in labels with no predicted samples. Use `zero_division` parameter to control this behavior.\n",
      "  _warn_prf(average, modifier, msg_start, len(result))\n",
      "C:\\Users\\andersgm\\anaconda3\\envs\\epilepsy\\lib\\site-packages\\sklearn\\metrics\\_classification.py:1245: UndefinedMetricWarning: Precision and F-score are ill-defined and being set to 0.0 in labels with no predicted samples. Use `zero_division` parameter to control this behavior.\n",
      "  _warn_prf(average, modifier, msg_start, len(result))\n",
      "C:\\Users\\andersgm\\anaconda3\\envs\\epilepsy\\lib\\site-packages\\sklearn\\metrics\\_classification.py:1245: UndefinedMetricWarning: Precision and F-score are ill-defined and being set to 0.0 in labels with no predicted samples. Use `zero_division` parameter to control this behavior.\n",
      "  _warn_prf(average, modifier, msg_start, len(result))\n",
      "C:\\Users\\andersgm\\anaconda3\\envs\\epilepsy\\lib\\site-packages\\sklearn\\metrics\\_classification.py:1245: UndefinedMetricWarning: Precision and F-score are ill-defined and being set to 0.0 in labels with no predicted samples. Use `zero_division` parameter to control this behavior.\n",
      "  _warn_prf(average, modifier, msg_start, len(result))\n",
      "C:\\Users\\andersgm\\anaconda3\\envs\\epilepsy\\lib\\site-packages\\sklearn\\metrics\\_classification.py:1245: UndefinedMetricWarning: Precision and F-score are ill-defined and being set to 0.0 in labels with no predicted samples. Use `zero_division` parameter to control this behavior.\n",
      "  _warn_prf(average, modifier, msg_start, len(result))\n",
      "C:\\Users\\andersgm\\anaconda3\\envs\\epilepsy\\lib\\site-packages\\sklearn\\metrics\\_classification.py:1245: UndefinedMetricWarning: Precision and F-score are ill-defined and being set to 0.0 in labels with no predicted samples. Use `zero_division` parameter to control this behavior.\n",
      "  _warn_prf(average, modifier, msg_start, len(result))\n",
      "C:\\Users\\andersgm\\anaconda3\\envs\\epilepsy\\lib\\site-packages\\sklearn\\metrics\\_classification.py:1245: UndefinedMetricWarning: Precision and F-score are ill-defined and being set to 0.0 in labels with no predicted samples. Use `zero_division` parameter to control this behavior.\n",
      "  _warn_prf(average, modifier, msg_start, len(result))\n",
      "C:\\Users\\andersgm\\anaconda3\\envs\\epilepsy\\lib\\site-packages\\sklearn\\metrics\\_classification.py:1245: UndefinedMetricWarning: Precision and F-score are ill-defined and being set to 0.0 in labels with no predicted samples. Use `zero_division` parameter to control this behavior.\n",
      "  _warn_prf(average, modifier, msg_start, len(result))\n",
      "C:\\Users\\andersgm\\anaconda3\\envs\\epilepsy\\lib\\site-packages\\sklearn\\metrics\\_classification.py:1245: UndefinedMetricWarning: Precision and F-score are ill-defined and being set to 0.0 in labels with no predicted samples. Use `zero_division` parameter to control this behavior.\n",
      "  _warn_prf(average, modifier, msg_start, len(result))\n",
      "C:\\Users\\andersgm\\anaconda3\\envs\\epilepsy\\lib\\site-packages\\sklearn\\metrics\\_classification.py:1245: UndefinedMetricWarning: Precision and F-score are ill-defined and being set to 0.0 in labels with no predicted samples. Use `zero_division` parameter to control this behavior.\n",
      "  _warn_prf(average, modifier, msg_start, len(result))\n",
      "C:\\Users\\andersgm\\anaconda3\\envs\\epilepsy\\lib\\site-packages\\sklearn\\metrics\\_classification.py:1245: UndefinedMetricWarning: Precision and F-score are ill-defined and being set to 0.0 in labels with no predicted samples. Use `zero_division` parameter to control this behavior.\n",
      "  _warn_prf(average, modifier, msg_start, len(result))\n",
      "C:\\Users\\andersgm\\anaconda3\\envs\\epilepsy\\lib\\site-packages\\sklearn\\metrics\\_classification.py:1245: UndefinedMetricWarning: Precision and F-score are ill-defined and being set to 0.0 in labels with no predicted samples. Use `zero_division` parameter to control this behavior.\n",
      "  _warn_prf(average, modifier, msg_start, len(result))\n",
      "C:\\Users\\andersgm\\anaconda3\\envs\\epilepsy\\lib\\site-packages\\sklearn\\metrics\\_classification.py:1245: UndefinedMetricWarning: Precision and F-score are ill-defined and being set to 0.0 in labels with no predicted samples. Use `zero_division` parameter to control this behavior.\n",
      "  _warn_prf(average, modifier, msg_start, len(result))\n",
      "C:\\Users\\andersgm\\anaconda3\\envs\\epilepsy\\lib\\site-packages\\sklearn\\metrics\\_classification.py:1245: UndefinedMetricWarning: Precision and F-score are ill-defined and being set to 0.0 in labels with no predicted samples. Use `zero_division` parameter to control this behavior.\n",
      "  _warn_prf(average, modifier, msg_start, len(result))\n",
      "C:\\Users\\andersgm\\anaconda3\\envs\\epilepsy\\lib\\site-packages\\sklearn\\metrics\\_classification.py:1245: UndefinedMetricWarning: Precision and F-score are ill-defined and being set to 0.0 in labels with no predicted samples. Use `zero_division` parameter to control this behavior.\n",
      "  _warn_prf(average, modifier, msg_start, len(result))\n",
      "C:\\Users\\andersgm\\anaconda3\\envs\\epilepsy\\lib\\site-packages\\sklearn\\metrics\\_classification.py:1245: UndefinedMetricWarning: Precision and F-score are ill-defined and being set to 0.0 in labels with no predicted samples. Use `zero_division` parameter to control this behavior.\n",
      "  _warn_prf(average, modifier, msg_start, len(result))\n",
      "C:\\Users\\andersgm\\anaconda3\\envs\\epilepsy\\lib\\site-packages\\sklearn\\metrics\\_classification.py:1245: UndefinedMetricWarning: Precision and F-score are ill-defined and being set to 0.0 in labels with no predicted samples. Use `zero_division` parameter to control this behavior.\n",
      "  _warn_prf(average, modifier, msg_start, len(result))\n",
      "C:\\Users\\andersgm\\anaconda3\\envs\\epilepsy\\lib\\site-packages\\sklearn\\metrics\\_classification.py:1245: UndefinedMetricWarning: Precision and F-score are ill-defined and being set to 0.0 in labels with no predicted samples. Use `zero_division` parameter to control this behavior.\n",
      "  _warn_prf(average, modifier, msg_start, len(result))\n",
      "C:\\Users\\andersgm\\anaconda3\\envs\\epilepsy\\lib\\site-packages\\sklearn\\metrics\\_classification.py:1245: UndefinedMetricWarning: Precision and F-score are ill-defined and being set to 0.0 in labels with no predicted samples. Use `zero_division` parameter to control this behavior.\n",
      "  _warn_prf(average, modifier, msg_start, len(result))\n",
      "C:\\Users\\andersgm\\anaconda3\\envs\\epilepsy\\lib\\site-packages\\sklearn\\metrics\\_classification.py:1245: UndefinedMetricWarning: Precision and F-score are ill-defined and being set to 0.0 in labels with no predicted samples. Use `zero_division` parameter to control this behavior.\n",
      "  _warn_prf(average, modifier, msg_start, len(result))\n",
      "C:\\Users\\andersgm\\anaconda3\\envs\\epilepsy\\lib\\site-packages\\sklearn\\metrics\\_classification.py:1245: UndefinedMetricWarning: Precision and F-score are ill-defined and being set to 0.0 in labels with no predicted samples. Use `zero_division` parameter to control this behavior.\n",
      "  _warn_prf(average, modifier, msg_start, len(result))\n",
      "C:\\Users\\andersgm\\anaconda3\\envs\\epilepsy\\lib\\site-packages\\sklearn\\metrics\\_classification.py:1245: UndefinedMetricWarning: Precision and F-score are ill-defined and being set to 0.0 in labels with no predicted samples. Use `zero_division` parameter to control this behavior.\n",
      "  _warn_prf(average, modifier, msg_start, len(result))\n"
     ]
    },
    {
     "name": "stderr",
     "output_type": "stream",
     "text": [
      "C:\\Users\\andersgm\\anaconda3\\envs\\epilepsy\\lib\\site-packages\\sklearn\\metrics\\_classification.py:1245: UndefinedMetricWarning: Precision and F-score are ill-defined and being set to 0.0 in labels with no predicted samples. Use `zero_division` parameter to control this behavior.\n",
      "  _warn_prf(average, modifier, msg_start, len(result))\n",
      "C:\\Users\\andersgm\\anaconda3\\envs\\epilepsy\\lib\\site-packages\\sklearn\\metrics\\_classification.py:1245: UndefinedMetricWarning: Precision and F-score are ill-defined and being set to 0.0 in labels with no predicted samples. Use `zero_division` parameter to control this behavior.\n",
      "  _warn_prf(average, modifier, msg_start, len(result))\n",
      "C:\\Users\\andersgm\\anaconda3\\envs\\epilepsy\\lib\\site-packages\\sklearn\\metrics\\_classification.py:1245: UndefinedMetricWarning: Precision and F-score are ill-defined and being set to 0.0 in labels with no predicted samples. Use `zero_division` parameter to control this behavior.\n",
      "  _warn_prf(average, modifier, msg_start, len(result))\n",
      "C:\\Users\\andersgm\\anaconda3\\envs\\epilepsy\\lib\\site-packages\\sklearn\\metrics\\_classification.py:1245: UndefinedMetricWarning: Precision and F-score are ill-defined and being set to 0.0 in labels with no predicted samples. Use `zero_division` parameter to control this behavior.\n",
      "  _warn_prf(average, modifier, msg_start, len(result))\n",
      "C:\\Users\\andersgm\\anaconda3\\envs\\epilepsy\\lib\\site-packages\\sklearn\\metrics\\_classification.py:1245: UndefinedMetricWarning: Precision and F-score are ill-defined and being set to 0.0 in labels with no predicted samples. Use `zero_division` parameter to control this behavior.\n",
      "  _warn_prf(average, modifier, msg_start, len(result))\n",
      "C:\\Users\\andersgm\\anaconda3\\envs\\epilepsy\\lib\\site-packages\\sklearn\\metrics\\_classification.py:1245: UndefinedMetricWarning: Precision and F-score are ill-defined and being set to 0.0 in labels with no predicted samples. Use `zero_division` parameter to control this behavior.\n",
      "  _warn_prf(average, modifier, msg_start, len(result))\n",
      "C:\\Users\\andersgm\\anaconda3\\envs\\epilepsy\\lib\\site-packages\\sklearn\\metrics\\_classification.py:1245: UndefinedMetricWarning: Precision and F-score are ill-defined and being set to 0.0 in labels with no predicted samples. Use `zero_division` parameter to control this behavior.\n",
      "  _warn_prf(average, modifier, msg_start, len(result))\n",
      "C:\\Users\\andersgm\\anaconda3\\envs\\epilepsy\\lib\\site-packages\\sklearn\\metrics\\_classification.py:1245: UndefinedMetricWarning: Precision and F-score are ill-defined and being set to 0.0 in labels with no predicted samples. Use `zero_division` parameter to control this behavior.\n",
      "  _warn_prf(average, modifier, msg_start, len(result))\n",
      "C:\\Users\\andersgm\\anaconda3\\envs\\epilepsy\\lib\\site-packages\\sklearn\\metrics\\_classification.py:1245: UndefinedMetricWarning: Precision and F-score are ill-defined and being set to 0.0 in labels with no predicted samples. Use `zero_division` parameter to control this behavior.\n",
      "  _warn_prf(average, modifier, msg_start, len(result))\n",
      "C:\\Users\\andersgm\\anaconda3\\envs\\epilepsy\\lib\\site-packages\\sklearn\\metrics\\_classification.py:1245: UndefinedMetricWarning: Precision and F-score are ill-defined and being set to 0.0 in labels with no predicted samples. Use `zero_division` parameter to control this behavior.\n",
      "  _warn_prf(average, modifier, msg_start, len(result))\n",
      "C:\\Users\\andersgm\\anaconda3\\envs\\epilepsy\\lib\\site-packages\\sklearn\\metrics\\_classification.py:1245: UndefinedMetricWarning: Precision and F-score are ill-defined and being set to 0.0 in labels with no predicted samples. Use `zero_division` parameter to control this behavior.\n",
      "  _warn_prf(average, modifier, msg_start, len(result))\n",
      "C:\\Users\\andersgm\\anaconda3\\envs\\epilepsy\\lib\\site-packages\\sklearn\\metrics\\_classification.py:1245: UndefinedMetricWarning: Precision and F-score are ill-defined and being set to 0.0 in labels with no predicted samples. Use `zero_division` parameter to control this behavior.\n",
      "  _warn_prf(average, modifier, msg_start, len(result))\n",
      "C:\\Users\\andersgm\\anaconda3\\envs\\epilepsy\\lib\\site-packages\\sklearn\\metrics\\_classification.py:1245: UndefinedMetricWarning: Precision and F-score are ill-defined and being set to 0.0 in labels with no predicted samples. Use `zero_division` parameter to control this behavior.\n",
      "  _warn_prf(average, modifier, msg_start, len(result))\n",
      "C:\\Users\\andersgm\\anaconda3\\envs\\epilepsy\\lib\\site-packages\\sklearn\\metrics\\_classification.py:1245: UndefinedMetricWarning: Precision and F-score are ill-defined and being set to 0.0 in labels with no predicted samples. Use `zero_division` parameter to control this behavior.\n",
      "  _warn_prf(average, modifier, msg_start, len(result))\n",
      "C:\\Users\\andersgm\\anaconda3\\envs\\epilepsy\\lib\\site-packages\\sklearn\\metrics\\_classification.py:1245: UndefinedMetricWarning: Precision and F-score are ill-defined and being set to 0.0 in labels with no predicted samples. Use `zero_division` parameter to control this behavior.\n",
      "  _warn_prf(average, modifier, msg_start, len(result))\n",
      "C:\\Users\\andersgm\\anaconda3\\envs\\epilepsy\\lib\\site-packages\\sklearn\\metrics\\_classification.py:1245: UndefinedMetricWarning: Precision and F-score are ill-defined and being set to 0.0 in labels with no predicted samples. Use `zero_division` parameter to control this behavior.\n",
      "  _warn_prf(average, modifier, msg_start, len(result))\n",
      "C:\\Users\\andersgm\\anaconda3\\envs\\epilepsy\\lib\\site-packages\\sklearn\\metrics\\_classification.py:1245: UndefinedMetricWarning: Precision and F-score are ill-defined and being set to 0.0 in labels with no predicted samples. Use `zero_division` parameter to control this behavior.\n",
      "  _warn_prf(average, modifier, msg_start, len(result))\n",
      "C:\\Users\\andersgm\\anaconda3\\envs\\epilepsy\\lib\\site-packages\\sklearn\\metrics\\_classification.py:1245: UndefinedMetricWarning: Precision and F-score are ill-defined and being set to 0.0 in labels with no predicted samples. Use `zero_division` parameter to control this behavior.\n",
      "  _warn_prf(average, modifier, msg_start, len(result))\n",
      "C:\\Users\\andersgm\\anaconda3\\envs\\epilepsy\\lib\\site-packages\\sklearn\\metrics\\_classification.py:1245: UndefinedMetricWarning: Precision and F-score are ill-defined and being set to 0.0 in labels with no predicted samples. Use `zero_division` parameter to control this behavior.\n",
      "  _warn_prf(average, modifier, msg_start, len(result))\n",
      "C:\\Users\\andersgm\\anaconda3\\envs\\epilepsy\\lib\\site-packages\\sklearn\\metrics\\_classification.py:1245: UndefinedMetricWarning: Precision and F-score are ill-defined and being set to 0.0 in labels with no predicted samples. Use `zero_division` parameter to control this behavior.\n",
      "  _warn_prf(average, modifier, msg_start, len(result))\n",
      "C:\\Users\\andersgm\\anaconda3\\envs\\epilepsy\\lib\\site-packages\\sklearn\\metrics\\_classification.py:1245: UndefinedMetricWarning: Precision and F-score are ill-defined and being set to 0.0 in labels with no predicted samples. Use `zero_division` parameter to control this behavior.\n",
      "  _warn_prf(average, modifier, msg_start, len(result))\n",
      "C:\\Users\\andersgm\\anaconda3\\envs\\epilepsy\\lib\\site-packages\\sklearn\\metrics\\_classification.py:1245: UndefinedMetricWarning: Precision and F-score are ill-defined and being set to 0.0 in labels with no predicted samples. Use `zero_division` parameter to control this behavior.\n",
      "  _warn_prf(average, modifier, msg_start, len(result))\n",
      "C:\\Users\\andersgm\\anaconda3\\envs\\epilepsy\\lib\\site-packages\\sklearn\\metrics\\_classification.py:1245: UndefinedMetricWarning: Precision and F-score are ill-defined and being set to 0.0 in labels with no predicted samples. Use `zero_division` parameter to control this behavior.\n",
      "  _warn_prf(average, modifier, msg_start, len(result))\n",
      "C:\\Users\\andersgm\\anaconda3\\envs\\epilepsy\\lib\\site-packages\\sklearn\\metrics\\_classification.py:1245: UndefinedMetricWarning: Precision and F-score are ill-defined and being set to 0.0 in labels with no predicted samples. Use `zero_division` parameter to control this behavior.\n",
      "  _warn_prf(average, modifier, msg_start, len(result))\n",
      "C:\\Users\\andersgm\\anaconda3\\envs\\epilepsy\\lib\\site-packages\\sklearn\\metrics\\_classification.py:1245: UndefinedMetricWarning: Precision and F-score are ill-defined and being set to 0.0 in labels with no predicted samples. Use `zero_division` parameter to control this behavior.\n",
      "  _warn_prf(average, modifier, msg_start, len(result))\n",
      "C:\\Users\\andersgm\\anaconda3\\envs\\epilepsy\\lib\\site-packages\\sklearn\\metrics\\_classification.py:1245: UndefinedMetricWarning: Precision and F-score are ill-defined and being set to 0.0 in labels with no predicted samples. Use `zero_division` parameter to control this behavior.\n",
      "  _warn_prf(average, modifier, msg_start, len(result))\n",
      "C:\\Users\\andersgm\\anaconda3\\envs\\epilepsy\\lib\\site-packages\\sklearn\\metrics\\_classification.py:1245: UndefinedMetricWarning: Precision and F-score are ill-defined and being set to 0.0 in labels with no predicted samples. Use `zero_division` parameter to control this behavior.\n",
      "  _warn_prf(average, modifier, msg_start, len(result))\n"
     ]
    },
    {
     "name": "stderr",
     "output_type": "stream",
     "text": [
      "C:\\Users\\andersgm\\anaconda3\\envs\\epilepsy\\lib\\site-packages\\sklearn\\metrics\\_classification.py:1245: UndefinedMetricWarning: Precision and F-score are ill-defined and being set to 0.0 in labels with no predicted samples. Use `zero_division` parameter to control this behavior.\n",
      "  _warn_prf(average, modifier, msg_start, len(result))\n",
      "C:\\Users\\andersgm\\anaconda3\\envs\\epilepsy\\lib\\site-packages\\sklearn\\metrics\\_classification.py:1245: UndefinedMetricWarning: Precision and F-score are ill-defined and being set to 0.0 in labels with no predicted samples. Use `zero_division` parameter to control this behavior.\n",
      "  _warn_prf(average, modifier, msg_start, len(result))\n",
      "C:\\Users\\andersgm\\anaconda3\\envs\\epilepsy\\lib\\site-packages\\sklearn\\metrics\\_classification.py:1245: UndefinedMetricWarning: Precision and F-score are ill-defined and being set to 0.0 in labels with no predicted samples. Use `zero_division` parameter to control this behavior.\n",
      "  _warn_prf(average, modifier, msg_start, len(result))\n",
      "C:\\Users\\andersgm\\anaconda3\\envs\\epilepsy\\lib\\site-packages\\sklearn\\metrics\\_classification.py:1245: UndefinedMetricWarning: Precision and F-score are ill-defined and being set to 0.0 in labels with no predicted samples. Use `zero_division` parameter to control this behavior.\n",
      "  _warn_prf(average, modifier, msg_start, len(result))\n",
      "C:\\Users\\andersgm\\anaconda3\\envs\\epilepsy\\lib\\site-packages\\sklearn\\metrics\\_classification.py:1245: UndefinedMetricWarning: Precision and F-score are ill-defined and being set to 0.0 in labels with no predicted samples. Use `zero_division` parameter to control this behavior.\n",
      "  _warn_prf(average, modifier, msg_start, len(result))\n",
      "C:\\Users\\andersgm\\anaconda3\\envs\\epilepsy\\lib\\site-packages\\sklearn\\metrics\\_classification.py:1245: UndefinedMetricWarning: Precision and F-score are ill-defined and being set to 0.0 in labels with no predicted samples. Use `zero_division` parameter to control this behavior.\n",
      "  _warn_prf(average, modifier, msg_start, len(result))\n",
      "C:\\Users\\andersgm\\anaconda3\\envs\\epilepsy\\lib\\site-packages\\sklearn\\metrics\\_classification.py:1245: UndefinedMetricWarning: Precision and F-score are ill-defined and being set to 0.0 in labels with no predicted samples. Use `zero_division` parameter to control this behavior.\n",
      "  _warn_prf(average, modifier, msg_start, len(result))\n",
      "C:\\Users\\andersgm\\anaconda3\\envs\\epilepsy\\lib\\site-packages\\sklearn\\metrics\\_classification.py:1245: UndefinedMetricWarning: Precision and F-score are ill-defined and being set to 0.0 in labels with no predicted samples. Use `zero_division` parameter to control this behavior.\n",
      "  _warn_prf(average, modifier, msg_start, len(result))\n",
      "C:\\Users\\andersgm\\anaconda3\\envs\\epilepsy\\lib\\site-packages\\sklearn\\metrics\\_classification.py:1245: UndefinedMetricWarning: Precision and F-score are ill-defined and being set to 0.0 in labels with no predicted samples. Use `zero_division` parameter to control this behavior.\n",
      "  _warn_prf(average, modifier, msg_start, len(result))\n",
      "C:\\Users\\andersgm\\anaconda3\\envs\\epilepsy\\lib\\site-packages\\sklearn\\metrics\\_classification.py:1245: UndefinedMetricWarning: Precision and F-score are ill-defined and being set to 0.0 in labels with no predicted samples. Use `zero_division` parameter to control this behavior.\n",
      "  _warn_prf(average, modifier, msg_start, len(result))\n",
      "C:\\Users\\andersgm\\anaconda3\\envs\\epilepsy\\lib\\site-packages\\sklearn\\metrics\\_classification.py:1245: UndefinedMetricWarning: Precision and F-score are ill-defined and being set to 0.0 in labels with no predicted samples. Use `zero_division` parameter to control this behavior.\n",
      "  _warn_prf(average, modifier, msg_start, len(result))\n",
      "C:\\Users\\andersgm\\anaconda3\\envs\\epilepsy\\lib\\site-packages\\sklearn\\metrics\\_classification.py:1245: UndefinedMetricWarning: Precision and F-score are ill-defined and being set to 0.0 in labels with no predicted samples. Use `zero_division` parameter to control this behavior.\n",
      "  _warn_prf(average, modifier, msg_start, len(result))\n",
      "C:\\Users\\andersgm\\anaconda3\\envs\\epilepsy\\lib\\site-packages\\sklearn\\metrics\\_classification.py:1245: UndefinedMetricWarning: Precision and F-score are ill-defined and being set to 0.0 in labels with no predicted samples. Use `zero_division` parameter to control this behavior.\n",
      "  _warn_prf(average, modifier, msg_start, len(result))\n",
      "C:\\Users\\andersgm\\anaconda3\\envs\\epilepsy\\lib\\site-packages\\sklearn\\metrics\\_classification.py:1245: UndefinedMetricWarning: Precision and F-score are ill-defined and being set to 0.0 in labels with no predicted samples. Use `zero_division` parameter to control this behavior.\n",
      "  _warn_prf(average, modifier, msg_start, len(result))\n",
      "C:\\Users\\andersgm\\anaconda3\\envs\\epilepsy\\lib\\site-packages\\sklearn\\metrics\\_classification.py:1245: UndefinedMetricWarning: Precision and F-score are ill-defined and being set to 0.0 in labels with no predicted samples. Use `zero_division` parameter to control this behavior.\n",
      "  _warn_prf(average, modifier, msg_start, len(result))\n",
      "C:\\Users\\andersgm\\anaconda3\\envs\\epilepsy\\lib\\site-packages\\sklearn\\metrics\\_classification.py:1245: UndefinedMetricWarning: Precision and F-score are ill-defined and being set to 0.0 in labels with no predicted samples. Use `zero_division` parameter to control this behavior.\n",
      "  _warn_prf(average, modifier, msg_start, len(result))\n",
      "C:\\Users\\andersgm\\anaconda3\\envs\\epilepsy\\lib\\site-packages\\sklearn\\metrics\\_classification.py:1245: UndefinedMetricWarning: Precision and F-score are ill-defined and being set to 0.0 in labels with no predicted samples. Use `zero_division` parameter to control this behavior.\n",
      "  _warn_prf(average, modifier, msg_start, len(result))\n",
      "C:\\Users\\andersgm\\anaconda3\\envs\\epilepsy\\lib\\site-packages\\sklearn\\metrics\\_classification.py:1245: UndefinedMetricWarning: Precision and F-score are ill-defined and being set to 0.0 in labels with no predicted samples. Use `zero_division` parameter to control this behavior.\n",
      "  _warn_prf(average, modifier, msg_start, len(result))\n",
      "C:\\Users\\andersgm\\anaconda3\\envs\\epilepsy\\lib\\site-packages\\sklearn\\metrics\\_classification.py:1245: UndefinedMetricWarning: Precision and F-score are ill-defined and being set to 0.0 in labels with no predicted samples. Use `zero_division` parameter to control this behavior.\n",
      "  _warn_prf(average, modifier, msg_start, len(result))\n",
      "C:\\Users\\andersgm\\anaconda3\\envs\\epilepsy\\lib\\site-packages\\sklearn\\metrics\\_classification.py:1245: UndefinedMetricWarning: Precision and F-score are ill-defined and being set to 0.0 in labels with no predicted samples. Use `zero_division` parameter to control this behavior.\n",
      "  _warn_prf(average, modifier, msg_start, len(result))\n",
      "C:\\Users\\andersgm\\anaconda3\\envs\\epilepsy\\lib\\site-packages\\sklearn\\metrics\\_classification.py:1245: UndefinedMetricWarning: Precision and F-score are ill-defined and being set to 0.0 in labels with no predicted samples. Use `zero_division` parameter to control this behavior.\n",
      "  _warn_prf(average, modifier, msg_start, len(result))\n",
      "C:\\Users\\andersgm\\anaconda3\\envs\\epilepsy\\lib\\site-packages\\sklearn\\metrics\\_classification.py:1245: UndefinedMetricWarning: Precision and F-score are ill-defined and being set to 0.0 in labels with no predicted samples. Use `zero_division` parameter to control this behavior.\n",
      "  _warn_prf(average, modifier, msg_start, len(result))\n",
      "C:\\Users\\andersgm\\anaconda3\\envs\\epilepsy\\lib\\site-packages\\sklearn\\metrics\\_classification.py:1245: UndefinedMetricWarning: Precision and F-score are ill-defined and being set to 0.0 in labels with no predicted samples. Use `zero_division` parameter to control this behavior.\n",
      "  _warn_prf(average, modifier, msg_start, len(result))\n",
      "C:\\Users\\andersgm\\anaconda3\\envs\\epilepsy\\lib\\site-packages\\sklearn\\metrics\\_classification.py:1245: UndefinedMetricWarning: Precision and F-score are ill-defined and being set to 0.0 in labels with no predicted samples. Use `zero_division` parameter to control this behavior.\n",
      "  _warn_prf(average, modifier, msg_start, len(result))\n",
      "C:\\Users\\andersgm\\anaconda3\\envs\\epilepsy\\lib\\site-packages\\sklearn\\metrics\\_classification.py:1245: UndefinedMetricWarning: Precision and F-score are ill-defined and being set to 0.0 in labels with no predicted samples. Use `zero_division` parameter to control this behavior.\n",
      "  _warn_prf(average, modifier, msg_start, len(result))\n",
      "C:\\Users\\andersgm\\anaconda3\\envs\\epilepsy\\lib\\site-packages\\sklearn\\metrics\\_classification.py:1245: UndefinedMetricWarning: Precision and F-score are ill-defined and being set to 0.0 in labels with no predicted samples. Use `zero_division` parameter to control this behavior.\n",
      "  _warn_prf(average, modifier, msg_start, len(result))\n",
      "C:\\Users\\andersgm\\anaconda3\\envs\\epilepsy\\lib\\site-packages\\sklearn\\metrics\\_classification.py:1245: UndefinedMetricWarning: Precision and F-score are ill-defined and being set to 0.0 in labels with no predicted samples. Use `zero_division` parameter to control this behavior.\n",
      "  _warn_prf(average, modifier, msg_start, len(result))\n"
     ]
    },
    {
     "name": "stderr",
     "output_type": "stream",
     "text": [
      "C:\\Users\\andersgm\\anaconda3\\envs\\epilepsy\\lib\\site-packages\\sklearn\\metrics\\_classification.py:1245: UndefinedMetricWarning: Precision and F-score are ill-defined and being set to 0.0 in labels with no predicted samples. Use `zero_division` parameter to control this behavior.\n",
      "  _warn_prf(average, modifier, msg_start, len(result))\n",
      "C:\\Users\\andersgm\\anaconda3\\envs\\epilepsy\\lib\\site-packages\\sklearn\\metrics\\_classification.py:1245: UndefinedMetricWarning: Precision and F-score are ill-defined and being set to 0.0 in labels with no predicted samples. Use `zero_division` parameter to control this behavior.\n",
      "  _warn_prf(average, modifier, msg_start, len(result))\n",
      "C:\\Users\\andersgm\\anaconda3\\envs\\epilepsy\\lib\\site-packages\\sklearn\\metrics\\_classification.py:1245: UndefinedMetricWarning: Precision and F-score are ill-defined and being set to 0.0 in labels with no predicted samples. Use `zero_division` parameter to control this behavior.\n",
      "  _warn_prf(average, modifier, msg_start, len(result))\n",
      "C:\\Users\\andersgm\\anaconda3\\envs\\epilepsy\\lib\\site-packages\\sklearn\\metrics\\_classification.py:1245: UndefinedMetricWarning: Precision and F-score are ill-defined and being set to 0.0 in labels with no predicted samples. Use `zero_division` parameter to control this behavior.\n",
      "  _warn_prf(average, modifier, msg_start, len(result))\n",
      "C:\\Users\\andersgm\\anaconda3\\envs\\epilepsy\\lib\\site-packages\\sklearn\\metrics\\_classification.py:1245: UndefinedMetricWarning: Precision and F-score are ill-defined and being set to 0.0 in labels with no predicted samples. Use `zero_division` parameter to control this behavior.\n",
      "  _warn_prf(average, modifier, msg_start, len(result))\n",
      "C:\\Users\\andersgm\\anaconda3\\envs\\epilepsy\\lib\\site-packages\\sklearn\\metrics\\_classification.py:1245: UndefinedMetricWarning: Precision and F-score are ill-defined and being set to 0.0 in labels with no predicted samples. Use `zero_division` parameter to control this behavior.\n",
      "  _warn_prf(average, modifier, msg_start, len(result))\n",
      "C:\\Users\\andersgm\\anaconda3\\envs\\epilepsy\\lib\\site-packages\\sklearn\\metrics\\_classification.py:1245: UndefinedMetricWarning: Precision and F-score are ill-defined and being set to 0.0 in labels with no predicted samples. Use `zero_division` parameter to control this behavior.\n",
      "  _warn_prf(average, modifier, msg_start, len(result))\n",
      "C:\\Users\\andersgm\\anaconda3\\envs\\epilepsy\\lib\\site-packages\\sklearn\\metrics\\_classification.py:1245: UndefinedMetricWarning: Precision and F-score are ill-defined and being set to 0.0 in labels with no predicted samples. Use `zero_division` parameter to control this behavior.\n",
      "  _warn_prf(average, modifier, msg_start, len(result))\n",
      "C:\\Users\\andersgm\\anaconda3\\envs\\epilepsy\\lib\\site-packages\\sklearn\\metrics\\_classification.py:1245: UndefinedMetricWarning: Precision and F-score are ill-defined and being set to 0.0 in labels with no predicted samples. Use `zero_division` parameter to control this behavior.\n",
      "  _warn_prf(average, modifier, msg_start, len(result))\n",
      "C:\\Users\\andersgm\\anaconda3\\envs\\epilepsy\\lib\\site-packages\\sklearn\\metrics\\_classification.py:1245: UndefinedMetricWarning: Precision and F-score are ill-defined and being set to 0.0 in labels with no predicted samples. Use `zero_division` parameter to control this behavior.\n",
      "  _warn_prf(average, modifier, msg_start, len(result))\n",
      "C:\\Users\\andersgm\\anaconda3\\envs\\epilepsy\\lib\\site-packages\\sklearn\\metrics\\_classification.py:1245: UndefinedMetricWarning: Precision and F-score are ill-defined and being set to 0.0 in labels with no predicted samples. Use `zero_division` parameter to control this behavior.\n",
      "  _warn_prf(average, modifier, msg_start, len(result))\n",
      "C:\\Users\\andersgm\\anaconda3\\envs\\epilepsy\\lib\\site-packages\\sklearn\\metrics\\_classification.py:1245: UndefinedMetricWarning: Precision and F-score are ill-defined and being set to 0.0 in labels with no predicted samples. Use `zero_division` parameter to control this behavior.\n",
      "  _warn_prf(average, modifier, msg_start, len(result))\n",
      "C:\\Users\\andersgm\\anaconda3\\envs\\epilepsy\\lib\\site-packages\\sklearn\\metrics\\_classification.py:1245: UndefinedMetricWarning: Precision and F-score are ill-defined and being set to 0.0 in labels with no predicted samples. Use `zero_division` parameter to control this behavior.\n",
      "  _warn_prf(average, modifier, msg_start, len(result))\n",
      "C:\\Users\\andersgm\\anaconda3\\envs\\epilepsy\\lib\\site-packages\\sklearn\\metrics\\_classification.py:1245: UndefinedMetricWarning: Precision and F-score are ill-defined and being set to 0.0 in labels with no predicted samples. Use `zero_division` parameter to control this behavior.\n",
      "  _warn_prf(average, modifier, msg_start, len(result))\n",
      "C:\\Users\\andersgm\\anaconda3\\envs\\epilepsy\\lib\\site-packages\\sklearn\\metrics\\_classification.py:1245: UndefinedMetricWarning: Precision and F-score are ill-defined and being set to 0.0 in labels with no predicted samples. Use `zero_division` parameter to control this behavior.\n",
      "  _warn_prf(average, modifier, msg_start, len(result))\n"
     ]
    }
   ],
   "source": [
    "result_files = []\n",
    "\n",
    "for root, dirs, files in os.walk(r\"C:\\Users\\andersgm\\Documents\\Courses\\02466 Project work F21\\Project\\Final results\\Filtered\"):\n",
    "    for file in files:\n",
    "        if file.endswith(\".npy\"):\n",
    "             result_files.append(root + \"\\\\\" + file)\n",
    "\n",
    "results_filter = pd.DataFrame(columns=['f1', 'f2', 'bacc', 'chew', 'elpp', 'eyem', 'musc', 'shiv', 'null', 'method', 'algorithm', 'fold'])\n",
    "pbar = tqdm(total=5*5*len(result_files))\n",
    "\n",
    "for file in result_files:\n",
    "    model = file.split(\"\\\\\")[-1].split(\"_\")[1]\n",
    "    technique = int(file.split(\"\\\\\")[-1].split(\"_\")[2])\n",
    "    ypred = np.load(file)\n",
    "\n",
    "    for repeat, fold, par_idxs, val_idxs in StratifiedGroupKFold(k=5, n_repeats=5, seed=55784899).split(X, y, groups):\n",
    "        report = classification_report(y[val_idxs], ypred[repeat][val_idxs], output_dict=True, target_names=list(label_dict.keys()))\n",
    "        results_filter = results_filter.append({'f1' : fbeta_score(y[val_idxs], ypred[repeat][val_idxs], beta=1, average=\"weighted\"),\n",
    "                                  'f2' : fbeta_score(y[val_idxs], ypred[repeat][val_idxs], beta=2, average=\"weighted\"),\n",
    "                                  'bacc' : balanced_accuracy_score(y[val_idxs], ypred[repeat][val_idxs]),\n",
    "                                  'chew' : report['chew']['recall'],\n",
    "                                  'elpp' : report['elpp']['recall'],\n",
    "                                  'eyem' : report['eyem']['recall'],\n",
    "                                  'musc' : report['musc']['recall'],\n",
    "                                  'shiv' : report['shiv']['recall'],\n",
    "                                  'null' : report['null']['recall'],\n",
    "                                  'method' : technique,\n",
    "                                  'algorithm' : model,\n",
    "                                  'fold' : repeat*5 + fold}, ignore_index=True)\n",
    "        pbar.update(1)\n",
    "    \n",
    "    "
   ]
  },
  {
   "cell_type": "code",
   "execution_count": 134,
   "id": "growing-actor",
   "metadata": {},
   "outputs": [
    {
     "data": {
      "text/html": [
       "<div>\n",
       "<style scoped>\n",
       "    .dataframe tbody tr th:only-of-type {\n",
       "        vertical-align: middle;\n",
       "    }\n",
       "\n",
       "    .dataframe tbody tr th {\n",
       "        vertical-align: top;\n",
       "    }\n",
       "\n",
       "    .dataframe thead th {\n",
       "        text-align: right;\n",
       "    }\n",
       "</style>\n",
       "<table border=\"1\" class=\"dataframe\">\n",
       "  <thead>\n",
       "    <tr style=\"text-align: right;\">\n",
       "      <th></th>\n",
       "      <th>f1</th>\n",
       "      <th>f2</th>\n",
       "      <th>bacc</th>\n",
       "      <th>chew</th>\n",
       "      <th>elpp</th>\n",
       "      <th>eyem</th>\n",
       "      <th>musc</th>\n",
       "      <th>shiv</th>\n",
       "      <th>null</th>\n",
       "      <th>method</th>\n",
       "      <th>algorithm</th>\n",
       "      <th>fold</th>\n",
       "    </tr>\n",
       "  </thead>\n",
       "  <tbody>\n",
       "    <tr>\n",
       "      <th>0</th>\n",
       "      <td>0.716688</td>\n",
       "      <td>0.645855</td>\n",
       "      <td>0.258197</td>\n",
       "      <td>0.009308</td>\n",
       "      <td>0.081363</td>\n",
       "      <td>0.793079</td>\n",
       "      <td>0.022261</td>\n",
       "      <td>0.000000</td>\n",
       "      <td>0.643173</td>\n",
       "      <td>0</td>\n",
       "      <td>GNB</td>\n",
       "      <td>0</td>\n",
       "    </tr>\n",
       "    <tr>\n",
       "      <th>1</th>\n",
       "      <td>0.733216</td>\n",
       "      <td>0.658228</td>\n",
       "      <td>0.306688</td>\n",
       "      <td>0.449097</td>\n",
       "      <td>0.022189</td>\n",
       "      <td>0.678295</td>\n",
       "      <td>0.023950</td>\n",
       "      <td>0.020242</td>\n",
       "      <td>0.646357</td>\n",
       "      <td>0</td>\n",
       "      <td>GNB</td>\n",
       "      <td>1</td>\n",
       "    </tr>\n",
       "    <tr>\n",
       "      <th>2</th>\n",
       "      <td>0.657556</td>\n",
       "      <td>0.564874</td>\n",
       "      <td>0.342047</td>\n",
       "      <td>0.097308</td>\n",
       "      <td>0.218944</td>\n",
       "      <td>0.722133</td>\n",
       "      <td>0.155142</td>\n",
       "      <td>0.323113</td>\n",
       "      <td>0.535641</td>\n",
       "      <td>0</td>\n",
       "      <td>GNB</td>\n",
       "      <td>2</td>\n",
       "    </tr>\n",
       "    <tr>\n",
       "      <th>3</th>\n",
       "      <td>0.693368</td>\n",
       "      <td>0.609346</td>\n",
       "      <td>0.423645</td>\n",
       "      <td>0.062255</td>\n",
       "      <td>0.087182</td>\n",
       "      <td>0.792415</td>\n",
       "      <td>0.067089</td>\n",
       "      <td>0.945992</td>\n",
       "      <td>0.586940</td>\n",
       "      <td>0</td>\n",
       "      <td>GNB</td>\n",
       "      <td>3</td>\n",
       "    </tr>\n",
       "    <tr>\n",
       "      <th>4</th>\n",
       "      <td>0.654683</td>\n",
       "      <td>0.564465</td>\n",
       "      <td>0.267713</td>\n",
       "      <td>0.053391</td>\n",
       "      <td>0.154091</td>\n",
       "      <td>0.800266</td>\n",
       "      <td>0.058575</td>\n",
       "      <td>0.000000</td>\n",
       "      <td>0.539954</td>\n",
       "      <td>0</td>\n",
       "      <td>GNB</td>\n",
       "      <td>4</td>\n",
       "    </tr>\n",
       "  </tbody>\n",
       "</table>\n",
       "</div>"
      ],
      "text/plain": [
       "         f1        f2      bacc      chew      elpp      eyem      musc  \\\n",
       "0  0.716688  0.645855  0.258197  0.009308  0.081363  0.793079  0.022261   \n",
       "1  0.733216  0.658228  0.306688  0.449097  0.022189  0.678295  0.023950   \n",
       "2  0.657556  0.564874  0.342047  0.097308  0.218944  0.722133  0.155142   \n",
       "3  0.693368  0.609346  0.423645  0.062255  0.087182  0.792415  0.067089   \n",
       "4  0.654683  0.564465  0.267713  0.053391  0.154091  0.800266  0.058575   \n",
       "\n",
       "       shiv      null method algorithm fold  \n",
       "0  0.000000  0.643173      0       GNB    0  \n",
       "1  0.020242  0.646357      0       GNB    1  \n",
       "2  0.323113  0.535641      0       GNB    2  \n",
       "3  0.945992  0.586940      0       GNB    3  \n",
       "4  0.000000  0.539954      0       GNB    4  "
      ]
     },
     "execution_count": 134,
     "metadata": {},
     "output_type": "execute_result"
    }
   ],
   "source": [
    "results_filter.head()"
   ]
  },
  {
   "cell_type": "code",
   "execution_count": 135,
   "id": "genuine-archives",
   "metadata": {},
   "outputs": [],
   "source": [
    "results_filter.to_csv(\"metric_results_filter.csv\")"
   ]
  },
  {
   "cell_type": "code",
   "execution_count": 136,
   "id": "original-negotiation",
   "metadata": {
    "scrolled": true
   },
   "outputs": [
    {
     "data": {
      "image/png": "[encoded data removed]",
      "text/plain": [
       "<Figure size 1080x288 with 3 Axes>"
      ]
     },
     "metadata": {
      "needs_background": "light"
     },
     "output_type": "display_data"
    }
   ],
   "source": [
    "fig, ax = plt.subplots(nrows=1, ncols=3, figsize=(15,4))\n",
    "\n",
    "for j, metric in enumerate(['f1', 'f2', 'bacc']):\n",
    "\n",
    "    bars = np.empty((6, 3))\n",
    "    confs = np.empty((6, 3))\n",
    "\n",
    "    for i, algorithm in enumerate(['LDA', 'GNB', 'MLP']):\n",
    "        for method in range(6):\n",
    "            bars[method, i] = np.mean(results_filter[(results['method'] == method) & (results['algorithm'] == algorithm)][metric])\n",
    "            confs[method, i] = mean_conf(results_filter[(results['method'] == method) & (results['algorithm'] == algorithm)][metric])\n",
    "\n",
    "    barWidth = 0.12\n",
    "    colors = [\"#b9bdf0\", \"#8991f0\", \"#5965ef\", \"#6ee4b2\", \"#3fdc99\", \"#0ed280\"]\n",
    "    techniques = [\"Random undersample\", \"Random under- \\& oversample\", \"Random undersample \\& SMOTE\", \"NearMiss\", \"NearMiss \\& Random oversample\", \"NearMiss \\& SMOTE\"]\n",
    "\n",
    "    bars = bars[[0, 2, 4, 1, 3, 5]]\n",
    "    confs = confs[[0, 2, 4, 1, 3, 5]]\n",
    "    patterns = [\"-\" ,\"/\", \"*\", \"-\" ,\"/\", \"*\"]\n",
    "\n",
    "\n",
    "    for i in range(6):\n",
    "        r = np.arange(3) + barWidth*i + 0.02*i\n",
    "        ax[j].bar(r, bars[i], width = barWidth, color = colors[i],\n",
    "                yerr=confs[i], capsize=7, label=techniques[i], hatch=patterns[i])\n",
    "    ax[j].set_xticks(np.arange(3)+0.28)\n",
    "    ax[j].set_xticklabels(['LDA', 'GNB', 'MLP'])\n",
    "    #plt.ylabel('height')\n",
    "    \n",
    "ax[0].title.set_text(r\"\\huge{$F_1$-score}\")\n",
    "ax[1].title.set_text(r\"\\huge{$F_2$-score}\")\n",
    "ax[2].title.set_text(r\"\\huge{Balanced accuracy score}\")\n",
    "ax[0].legend(ncol=3, bbox_to_anchor=(3.44, -0.10))\n",
    "# Show graphic\n",
    "plt.subplots_adjust(left=None, bottom=None, right=None, top=0.8, wspace=None, hspace=None)\n",
    "plt.suptitle(r\"\\textbf{Comparison of sampling methods across models (w/ filter)}\")\n",
    "plt.savefig(save_dir + \"comparisons_across_models_with_filter.png\", dpi=200, bbox_inches = 'tight')\n",
    "plt.show()"
   ]
  },
  {
   "cell_type": "code",
   "execution_count": 166,
   "id": "cathedral-robertson",
   "metadata": {},
   "outputs": [
    {
     "name": "stdout",
     "output_type": "stream",
     "text": [
      "$81 \\pm 1$\t$77 \\pm 1$\t$34 \\pm 1$\t$30 \\pm 11$\t$13 \\pm 3$\t$60 \\pm 4$\t$25 \\pm 4$\t$1 \\pm 1$\t$78 \\pm 2$\t\n",
      "$59 \\pm 2$\t$50 \\pm 2$\t$33 \\pm 2$\t$28 \\pm 9$\t$19 \\pm 5$\t$77 \\pm 3$\t$27 \\pm 4$\t$0 \\pm 0$\t$47 \\pm 3$\t\n",
      "$88 \\pm 1$\t$87 \\pm 1$\t$29 \\pm 1$\t$22 \\pm 9$\t$11 \\pm 4$\t$36 \\pm 3$\t$12 \\pm 3$\t$1 \\pm 2$\t$91 \\pm 1$\t\n",
      "$79 \\pm 1$\t$74 \\pm 1$\t$29 \\pm 1$\t$16 \\pm 8$\t$18 \\pm 5$\t$54 \\pm 3$\t$13 \\pm 3$\t$0 \\pm 0$\t$74 \\pm 2$\t\n",
      "$89 \\pm 1$\t$89 \\pm 1$\t$29 \\pm 1$\t$24 \\pm 11$\t$12 \\pm 4$\t$30 \\pm 3$\t$10 \\pm 3$\t$5 \\pm 6$\t$93 \\pm 1$\t\n",
      "$75 \\pm 1$\t$69 \\pm 1$\t$31 \\pm 1$\t$22 \\pm 10$\t$23 \\pm 5$\t$54 \\pm 3$\t$14 \\pm 2$\t$3 \\pm 4$\t$69 \\pm 2$\t\n"
     ]
    }
   ],
   "source": [
    "algorithm = \"MLP\"\n",
    "\n",
    "for method in range(6):\n",
    "    result = results_filter[(results_filter[\"method\"] == method) & (results_filter[\"algorithm\"] == algorithm)]\n",
    "    print(\"${:.0f} \\pm {:.0f}$\".format(np.mean(result['f1'])*100, mean_conf(result['f1'])*100), end='\\t')\n",
    "    print(\"${:.0f} \\pm {:.0f}$\".format(np.mean(result['f2'])*100, mean_conf(result['f1'])*100), end='\\t')\n",
    "    print(\"${:.0f} \\pm {:.0f}$\".format(np.mean(result['bacc'])*100, mean_conf(result['f1'])*100), end='\\t')\n",
    "    for label in label_dict.keys():\n",
    "        print(\"${:.0f} \\pm {:.0f}$\".format(np.mean(result[label])*100, mean_conf(result[label])*100), end='\\t')\n",
    "    print()"
   ]
  },
  {
   "cell_type": "markdown",
   "id": "lucky-campus",
   "metadata": {},
   "source": [
    "# Statistical comparison"
   ]
  },
  {
   "cell_type": "code",
   "execution_count": 241,
   "id": "other-change",
   "metadata": {},
   "outputs": [],
   "source": [
    "import statsmodels.stats.multitest"
   ]
  },
  {
   "cell_type": "markdown",
   "id": "imported-rating",
   "metadata": {},
   "source": [
    "## Prefilter"
   ]
  },
  {
   "cell_type": "code",
   "execution_count": 256,
   "id": "popular-insulation",
   "metadata": {},
   "outputs": [],
   "source": [
    "pvalues = []\n",
    "metric = 'f2'\n",
    "\n",
    "for algorithm in ['LDA', 'GNB', 'MLP']:\n",
    "    s24 = stats.wilcoxon(results[((results['method'] == 2) & (results['algorithm'] ==  algorithm))][metric].values,\n",
    "                   results[((results['method'] == 4) & (results['algorithm'] == algorithm))][metric].values)\n",
    "    \n",
    "    s02 = stats.wilcoxon(results[((results['method'] == 0) & (results['algorithm'] ==  algorithm))][metric].values,\n",
    "                   results[((results['method'] == 2) & (results['algorithm'] == algorithm))][metric].values)\n",
    "    \n",
    "    s04 = stats.wilcoxon(results[((results['method'] == 0) & (results['algorithm'] ==  algorithm))][metric].values,\n",
    "                   results[((results['method'] == 4) & (results['algorithm'] == algorithm))][metric].values)\n",
    "    \n",
    "    pvalues.append(s24.pvalue)\n",
    "    pvalues.append(s02.pvalue)\n",
    "    pvalues.append(s04.pvalue)\n",
    "    \n",
    "pvalues = np.asarray(pvalues)"
   ]
  },
  {
   "cell_type": "code",
   "execution_count": 257,
   "id": "micro-musician",
   "metadata": {},
   "outputs": [],
   "source": [
    "pvalues_corrected = statsmodels.stats.multitest.multipletests(pvalues)[1]"
   ]
  },
  {
   "cell_type": "code",
   "execution_count": 260,
   "id": "everyday-laundry",
   "metadata": {},
   "outputs": [
    {
     "name": "stdout",
     "output_type": "stream",
     "text": [
      "4 < 2: $0.93$ $7.54e-05$\n",
      "0 < 2: $-13.12$ $5.36e-07$\n",
      "0 < 4: $-12.19$ $5.36e-07$\n",
      "4 < 2: $13.46$ $1.62e-03$\n",
      "0 < 2: $0.88$ $1.91e-01$\n",
      "4 < 0: $14.34$ $9.87e-04$\n",
      "2 < 4: $-2.38$ $4.81e-04$\n",
      "0 < 2: $-5.92$ $5.36e-07$\n",
      "0 < 4: $-8.29$ $5.36e-07$\n"
     ]
    }
   ],
   "source": [
    "for i, algorithm in enumerate(['LDA', 'GNB', 'MLP']):\n",
    "    d24 = np.mean(results[((results['method'] == 2) & (results['algorithm'] ==  algorithm))][metric].values -\n",
    "                   results[((results['method'] == 4) & (results['algorithm'] == algorithm))][metric].values)\n",
    "    if d24 < 0:\n",
    "        print(\"2 < 4: ${:.2f}$ ${:.2e}$\".format(d24*100, pvalues_corrected[3*i + 0]))\n",
    "    else:\n",
    "        print(\"4 < 2: ${:.2f}$ ${:.2e}$\".format(d24*100, pvalues_corrected[3*i + 0]))\n",
    "        \n",
    "    d02 = np.mean(results[((results['method'] == 0) & (results['algorithm'] ==  algorithm))][metric].values -\n",
    "                   results[((results['method'] == 2) & (results['algorithm'] == algorithm))][metric].values)\n",
    "    if d02:\n",
    "        print(\"0 < 2: ${:.2f}$ ${:.2e}$\".format(d02*100, pvalues_corrected[3*i + 1]))\n",
    "    else:\n",
    "        print(\"2 < 0: ${:.2f}$ ${:.2e}$\".format(d02*100, pvalues_corrected[3*i + 1]))\n",
    "        \n",
    "    d04 = np.mean(results[((results['method'] == 0) & (results['algorithm'] ==  algorithm))][metric].values -\n",
    "                   results[((results['method'] == 4) & (results['algorithm'] == algorithm))][metric].values)\n",
    "    if d04 < 0:\n",
    "        print(\"0 < 4: ${:.2f}$ ${:.2e}$\".format(d04*100, pvalues_corrected[3*i + 2]))\n",
    "    else:\n",
    "        print(\"4 < 0: ${:.2f}$ ${:.2e}$\".format(d04*100, pvalues_corrected[3*i + 2]))"
   ]
  },
  {
   "cell_type": "code",
   "execution_count": 228,
   "id": "standard-dakota",
   "metadata": {},
   "outputs": [
    {
     "data": {
      "text/plain": [
       "array([5.03649102e-05, 5.36441675e-07, 5.36441675e-07, 7.52664984e-04,\n",
       "       1.90814257e-01, 4.11923659e-04, 7.49222010e-04, 5.36441675e-07,\n",
       "       5.36441675e-07])"
      ]
     },
     "execution_count": 228,
     "metadata": {},
     "output_type": "execute_result"
    }
   ],
   "source": [
    "statsmodels.stats.multitest.multipletests(pvalues)[1]"
   ]
  },
  {
   "cell_type": "code",
   "execution_count": 139,
   "id": "mediterranean-glenn",
   "metadata": {},
   "outputs": [
    {
     "data": {
      "text/html": [
       "<div>\n",
       "<style scoped>\n",
       "    .dataframe tbody tr th:only-of-type {\n",
       "        vertical-align: middle;\n",
       "    }\n",
       "\n",
       "    .dataframe tbody tr th {\n",
       "        vertical-align: top;\n",
       "    }\n",
       "\n",
       "    .dataframe thead th {\n",
       "        text-align: right;\n",
       "    }\n",
       "</style>\n",
       "<table border=\"1\" class=\"dataframe\">\n",
       "  <thead>\n",
       "    <tr style=\"text-align: right;\">\n",
       "      <th></th>\n",
       "      <th>f1</th>\n",
       "      <th>f2</th>\n",
       "      <th>bacc</th>\n",
       "      <th>chew</th>\n",
       "      <th>elpp</th>\n",
       "      <th>eyem</th>\n",
       "      <th>musc</th>\n",
       "      <th>shiv</th>\n",
       "      <th>null</th>\n",
       "      <th>method</th>\n",
       "      <th>algorithm</th>\n",
       "      <th>fold</th>\n",
       "    </tr>\n",
       "  </thead>\n",
       "  <tbody>\n",
       "    <tr>\n",
       "      <th>0</th>\n",
       "      <td>0.716688</td>\n",
       "      <td>0.645855</td>\n",
       "      <td>0.258197</td>\n",
       "      <td>0.009308</td>\n",
       "      <td>0.081363</td>\n",
       "      <td>0.793079</td>\n",
       "      <td>0.022261</td>\n",
       "      <td>0.000000</td>\n",
       "      <td>0.643173</td>\n",
       "      <td>0</td>\n",
       "      <td>GNB</td>\n",
       "      <td>0</td>\n",
       "    </tr>\n",
       "    <tr>\n",
       "      <th>1</th>\n",
       "      <td>0.733216</td>\n",
       "      <td>0.658228</td>\n",
       "      <td>0.306688</td>\n",
       "      <td>0.449097</td>\n",
       "      <td>0.022189</td>\n",
       "      <td>0.678295</td>\n",
       "      <td>0.023950</td>\n",
       "      <td>0.020242</td>\n",
       "      <td>0.646357</td>\n",
       "      <td>0</td>\n",
       "      <td>GNB</td>\n",
       "      <td>1</td>\n",
       "    </tr>\n",
       "    <tr>\n",
       "      <th>2</th>\n",
       "      <td>0.657556</td>\n",
       "      <td>0.564874</td>\n",
       "      <td>0.342047</td>\n",
       "      <td>0.097308</td>\n",
       "      <td>0.218944</td>\n",
       "      <td>0.722133</td>\n",
       "      <td>0.155142</td>\n",
       "      <td>0.323113</td>\n",
       "      <td>0.535641</td>\n",
       "      <td>0</td>\n",
       "      <td>GNB</td>\n",
       "      <td>2</td>\n",
       "    </tr>\n",
       "    <tr>\n",
       "      <th>3</th>\n",
       "      <td>0.693368</td>\n",
       "      <td>0.609346</td>\n",
       "      <td>0.423645</td>\n",
       "      <td>0.062255</td>\n",
       "      <td>0.087182</td>\n",
       "      <td>0.792415</td>\n",
       "      <td>0.067089</td>\n",
       "      <td>0.945992</td>\n",
       "      <td>0.586940</td>\n",
       "      <td>0</td>\n",
       "      <td>GNB</td>\n",
       "      <td>3</td>\n",
       "    </tr>\n",
       "    <tr>\n",
       "      <th>4</th>\n",
       "      <td>0.654683</td>\n",
       "      <td>0.564465</td>\n",
       "      <td>0.267713</td>\n",
       "      <td>0.053391</td>\n",
       "      <td>0.154091</td>\n",
       "      <td>0.800266</td>\n",
       "      <td>0.058575</td>\n",
       "      <td>0.000000</td>\n",
       "      <td>0.539954</td>\n",
       "      <td>0</td>\n",
       "      <td>GNB</td>\n",
       "      <td>4</td>\n",
       "    </tr>\n",
       "    <tr>\n",
       "      <th>...</th>\n",
       "      <td>...</td>\n",
       "      <td>...</td>\n",
       "      <td>...</td>\n",
       "      <td>...</td>\n",
       "      <td>...</td>\n",
       "      <td>...</td>\n",
       "      <td>...</td>\n",
       "      <td>...</td>\n",
       "      <td>...</td>\n",
       "      <td>...</td>\n",
       "      <td>...</td>\n",
       "      <td>...</td>\n",
       "    </tr>\n",
       "    <tr>\n",
       "      <th>445</th>\n",
       "      <td>0.770165</td>\n",
       "      <td>0.721557</td>\n",
       "      <td>0.260470</td>\n",
       "      <td>0.000000</td>\n",
       "      <td>0.331093</td>\n",
       "      <td>0.469755</td>\n",
       "      <td>0.026941</td>\n",
       "      <td>0.000000</td>\n",
       "      <td>0.735033</td>\n",
       "      <td>5</td>\n",
       "      <td>MLP</td>\n",
       "      <td>20</td>\n",
       "    </tr>\n",
       "    <tr>\n",
       "      <th>446</th>\n",
       "      <td>0.758040</td>\n",
       "      <td>0.690454</td>\n",
       "      <td>0.348103</td>\n",
       "      <td>0.247111</td>\n",
       "      <td>0.451487</td>\n",
       "      <td>0.546707</td>\n",
       "      <td>0.167013</td>\n",
       "      <td>0.000000</td>\n",
       "      <td>0.676298</td>\n",
       "      <td>5</td>\n",
       "      <td>MLP</td>\n",
       "      <td>21</td>\n",
       "    </tr>\n",
       "    <tr>\n",
       "      <th>447</th>\n",
       "      <td>0.716430</td>\n",
       "      <td>0.643992</td>\n",
       "      <td>0.364466</td>\n",
       "      <td>0.636612</td>\n",
       "      <td>0.093356</td>\n",
       "      <td>0.611796</td>\n",
       "      <td>0.215657</td>\n",
       "      <td>0.000000</td>\n",
       "      <td>0.629376</td>\n",
       "      <td>5</td>\n",
       "      <td>MLP</td>\n",
       "      <td>22</td>\n",
       "    </tr>\n",
       "    <tr>\n",
       "      <th>448</th>\n",
       "      <td>0.790302</td>\n",
       "      <td>0.736135</td>\n",
       "      <td>0.280233</td>\n",
       "      <td>0.260970</td>\n",
       "      <td>0.117783</td>\n",
       "      <td>0.527738</td>\n",
       "      <td>0.039916</td>\n",
       "      <td>0.000000</td>\n",
       "      <td>0.734989</td>\n",
       "      <td>5</td>\n",
       "      <td>MLP</td>\n",
       "      <td>23</td>\n",
       "    </tr>\n",
       "    <tr>\n",
       "      <th>449</th>\n",
       "      <td>0.770517</td>\n",
       "      <td>0.712890</td>\n",
       "      <td>0.347065</td>\n",
       "      <td>0.117878</td>\n",
       "      <td>0.335543</td>\n",
       "      <td>0.499695</td>\n",
       "      <td>0.077978</td>\n",
       "      <td>0.342387</td>\n",
       "      <td>0.708907</td>\n",
       "      <td>5</td>\n",
       "      <td>MLP</td>\n",
       "      <td>24</td>\n",
       "    </tr>\n",
       "  </tbody>\n",
       "</table>\n",
       "<p>450 rows × 12 columns</p>\n",
       "</div>"
      ],
      "text/plain": [
       "           f1        f2      bacc      chew      elpp      eyem      musc  \\\n",
       "0    0.716688  0.645855  0.258197  0.009308  0.081363  0.793079  0.022261   \n",
       "1    0.733216  0.658228  0.306688  0.449097  0.022189  0.678295  0.023950   \n",
       "2    0.657556  0.564874  0.342047  0.097308  0.218944  0.722133  0.155142   \n",
       "3    0.693368  0.609346  0.423645  0.062255  0.087182  0.792415  0.067089   \n",
       "4    0.654683  0.564465  0.267713  0.053391  0.154091  0.800266  0.058575   \n",
       "..        ...       ...       ...       ...       ...       ...       ...   \n",
       "445  0.770165  0.721557  0.260470  0.000000  0.331093  0.469755  0.026941   \n",
       "446  0.758040  0.690454  0.348103  0.247111  0.451487  0.546707  0.167013   \n",
       "447  0.716430  0.643992  0.364466  0.636612  0.093356  0.611796  0.215657   \n",
       "448  0.790302  0.736135  0.280233  0.260970  0.117783  0.527738  0.039916   \n",
       "449  0.770517  0.712890  0.347065  0.117878  0.335543  0.499695  0.077978   \n",
       "\n",
       "         shiv      null method algorithm fold  \n",
       "0    0.000000  0.643173      0       GNB    0  \n",
       "1    0.020242  0.646357      0       GNB    1  \n",
       "2    0.323113  0.535641      0       GNB    2  \n",
       "3    0.945992  0.586940      0       GNB    3  \n",
       "4    0.000000  0.539954      0       GNB    4  \n",
       "..        ...       ...    ...       ...  ...  \n",
       "445  0.000000  0.735033      5       MLP   20  \n",
       "446  0.000000  0.676298      5       MLP   21  \n",
       "447  0.000000  0.629376      5       MLP   22  \n",
       "448  0.000000  0.734989      5       MLP   23  \n",
       "449  0.342387  0.708907      5       MLP   24  \n",
       "\n",
       "[450 rows x 12 columns]"
      ]
     },
     "execution_count": 139,
     "metadata": {},
     "output_type": "execute_result"
    }
   ],
   "source": [
    "results_filter"
   ]
  },
  {
   "cell_type": "markdown",
   "id": "invisible-constitution",
   "metadata": {},
   "source": [
    "# Postfilter"
   ]
  },
  {
   "cell_type": "code",
   "execution_count": 249,
   "id": "included-default",
   "metadata": {},
   "outputs": [],
   "source": [
    "pvalues = []\n",
    "metric = 'f2'\n",
    "\n",
    "for algorithm in ['LDA', 'GNB', 'MLP']:\n",
    "    s24 = stats.wilcoxon(results_filter[((results_filter['method'] == 2) & (results_filter['algorithm'] ==  algorithm))][metric].values,\n",
    "                   results_filter[((results_filter['method'] == 4) & (results_filter['algorithm'] == algorithm))][metric].values)\n",
    "    \n",
    "    s02 = stats.wilcoxon(results_filter[((results_filter['method'] == 0) & (results_filter['algorithm'] ==  algorithm))][metric].values,\n",
    "                   results_filter[((results_filter['method'] == 2) & (results_filter['algorithm'] == algorithm))][metric].values)\n",
    "    \n",
    "    s04 = stats.wilcoxon(results_filter[((results_filter['method'] == 0) & (results_filter['algorithm'] ==  algorithm))][metric].values,\n",
    "                   results_filter[((results_filter['method'] == 4) & (results_filter['algorithm'] == algorithm))][metric].values)\n",
    "    \n",
    "    pvalues.append(s24.pvalue)\n",
    "    pvalues.append(s02.pvalue)\n",
    "    pvalues.append(s04.pvalue)\n",
    "    \n",
    "pvalues = np.asarray(pvalues)"
   ]
  },
  {
   "cell_type": "markdown",
   "id": "apparent-client",
   "metadata": {},
   "source": [
    "pvalues_corrected = statsmodels.stats.multitest.multipletests(pvalues)[1]"
   ]
  },
  {
   "cell_type": "code",
   "execution_count": 250,
   "id": "collectible-classics",
   "metadata": {},
   "outputs": [
    {
     "name": "stdout",
     "output_type": "stream",
     "text": [
      "2 < 4: 7.539760161867637e-05\n",
      "0 < 2: 5.364416750808232e-07\n",
      "0 < 4: 5.364416750808232e-07\n",
      "4 < 2: 0.001615586490160581\n",
      "0 < 2: 0.19081425666809082\n",
      "4 < 0: 0.000986906891554007\n",
      "2 < 4: 0.0004808035602023031\n",
      "0 < 2: 5.364416750808232e-07\n",
      "0 < 4: 5.364416750808232e-07\n"
     ]
    }
   ],
   "source": [
    "for i, algorithm in enumerate(['LDA', 'GNB', 'MLP']):\n",
    "    if np.mean(results_filter[((results_filter['method'] == 2) & (results_filter['algorithm'] ==  algorithm))][metric].values -\n",
    "                   results_filter[((results_filter['method'] == 4) & (results_filter['algorithm'] == algorithm))][metric].values) < 0:\n",
    "        print(\"2 < 4:\", pvalues_corrected[3*i + 0])\n",
    "    else:\n",
    "        print(\"4 < 2:\", pvalues_corrected[3*i + 0])\n",
    "        \n",
    "    if np.mean(results_filter[((results_filter['method'] == 0) & (results_filter['algorithm'] ==  algorithm))][metric].values -\n",
    "                   results_filter[((results_filter['method'] == 2) & (results_filter['algorithm'] == algorithm))][metric].values) < 0:\n",
    "        print(\"0 < 2:\", pvalues_corrected[3*i + 1])\n",
    "    else:\n",
    "        print(\"2 < 0:\", pvalues_corrected[3*i + 1])\n",
    "        \n",
    "    if np.mean(results_filter[((results_filter['method'] == 0) & (results_filter['algorithm'] ==  algorithm))][metric].values -\n",
    "                   results_filter[((results_filter['method'] == 4) & (results_filter['algorithm'] == algorithm))][metric].values) < 0:\n",
    "        print(\"0 < 4:\", pvalues_corrected[3*i + 2])\n",
    "    else:\n",
    "        print(\"4 < 0:\", pvalues_corrected[3*i + 2])"
   ]
  },
  {
   "cell_type": "markdown",
   "id": "connected-passenger",
   "metadata": {},
   "source": [
    "# Filter plots"
   ]
  },
  {
   "cell_type": "code",
   "execution_count": 383,
   "id": "mature-absorption",
   "metadata": {},
   "outputs": [],
   "source": [
    "def clean2(a):\n",
    "    a = deepcopy(a)\n",
    "    for n in range(2, 5):\n",
    "        for i in range(n+1, len(a)-n*2-1):\n",
    "            if np.all(a[i-n-1:i] == a[i-n-1]) and np.all(a[i-n-1] == a[i+n:i+2*n+1]):\n",
    "                a[i:i+n] = a[i-n-1]\n",
    "\n",
    "    for n in range(4, 14):\n",
    "        mask = np.zeros(len(a))\n",
    "        for i in range(len(a)-n):\n",
    "            if np.all(a[i:i+n] == a[i]):\n",
    "                mask[i:i+n] = True\n",
    "\n",
    "        for i in range(len(a)):\n",
    "            if not mask[i]:\n",
    "                a[i] = 5\n",
    "            \n",
    "    return a"
   ]
  },
  {
   "cell_type": "code",
   "execution_count": 323,
   "id": "pursuant-translator",
   "metadata": {},
   "outputs": [],
   "source": [
    "label_dict = {'chew': 0, 'elpp': 1, 'eyem': 2, 'musc': 3, 'shiv': 4, 'null': 5}\n",
    "color_dict = {0: \"#f5cf40\", 1: \"#e63f47\", 2: \"#0ed280\", 3: \"#fc7323\", 4: \"#79218f\", 5: \"#828bf2\"} \n",
    "names = list(label_dict.keys())"
   ]
  },
  {
   "cell_type": "code",
   "execution_count": 324,
   "id": "spread-twist",
   "metadata": {},
   "outputs": [],
   "source": [
    "hex_to_rgb = lambda s: [int(s[1:3], 16), int(s[3:5], 16), int(s[5:7], 16)] \n",
    "def plot_artifacts(ax, y, dataframe):\n",
    "    image = []\n",
    "    for label in y:\n",
    "        image.append(hex_to_rgb(color_dict[label]))\n",
    "    image = np.array(image)\n",
    "    image = np.expand_dims(image, 0)\n",
    "    image = np.tile(np.repeat(image, 2, axis=1), (1, 1, 1))\n",
    "    ax.set_yticks([])\n",
    "    ax.imshow(image, interpolation='none', extent=(0, len(y)/4, 0, len(y)/4*(1/15)))"
   ]
  },
  {
   "cell_type": "code",
   "execution_count": 325,
   "id": "blond-ground",
   "metadata": {},
   "outputs": [],
   "source": [
    "df = pd.read_pickle(\"dataframe_float32.pkl\")"
   ]
  },
  {
   "cell_type": "code",
   "execution_count": 537,
   "id": "interpreted-rotation",
   "metadata": {},
   "outputs": [],
   "source": [
    "ypred = np.load('C:\\\\Users\\\\andersgm\\\\Documents\\\\Courses\\\\02466 Project work F21\\\\Project\\\\Final results\\\\Raw\\\\predictions_LDA_4_5_5_5_55784899_08-06-21_01-03-16.npy')[0]\n",
    "yfiltered = np.load('C:\\\\Users\\\\andersgm\\\\Documents\\\\Courses\\\\02466 Project work F21\\\\Project\\\\Final results\\\\Filtered\\\\predictions_LDA_4_5_5_5_55784899_08-06-21_01-03-16_filtered.npy')[0]"
   ]
  },
  {
   "cell_type": "code",
   "execution_count": 384,
   "id": "decimal-marks",
   "metadata": {},
   "outputs": [],
   "source": [
    "cherry_picked_patients = [\"00000254_s005_t000\", \"00009320_s001_t000\", \"00010024_s001_t000\", \"00009335_s002_t000\", \"00009485_s001_t000\", \"00008476_s001_t000\", \"00005740_s003_t000\", \"00003367_s003_t001\", \"00008723_s001_t000\"]\n",
    "p_index = 0"
   ]
  },
  {
   "cell_type": "code",
   "execution_count": 408,
   "id": "needed-equality",
   "metadata": {
    "scrolled": false
   },
   "outputs": [
    {
     "data": {
      "image/png": "[encoded data removed]",
      "text/plain": [
       "<Figure size 864x216 with 3 Axes>"
      ]
     },
     "metadata": {
      "needs_background": "light"
     },
     "output_type": "display_data"
    }
   ],
   "source": [
    "#patient_name = np.random.choice( np.unique(df[\"Name\"]))\n",
    "#patient_name = '00009362_s001_t001'\n",
    "patient_name = cherry_picked_patients[p_index]\n",
    "p_index += 1\n",
    "patient = deepcopy(df[df[\"Name\"] == patient_name])\n",
    "patient = patient.sort_values(by=\"Start\", ascending=True, key=lambda col: col.values).reset_index(drop=True)\n",
    "\n",
    "prediction = ypred[patient[\"index\"].values]\n",
    "\n",
    "fig, ax = plt.subplots(nrows=3, ncols=1, figsize=(12,3), sharex=True)\n",
    "\n",
    "plot_artifacts(ax[0], ytrue[patient[\"index\"].values], patient)\n",
    "ax[0].set_ylabel(\"Original:\", rotation=0, labelpad=41.0)\n",
    "plot_artifacts(ax[1], ypred[patient[\"index\"].values], patient)\n",
    "ax[1].set_ylabel(\"Predictions:\", rotation=0, labelpad=52.0)\n",
    "plot_artifacts(ax[2], clean2(ypred[patient[\"index\"].values]), patient)\n",
    "ax[2].set_ylabel(r\"Postfiltering:\", rotation=0, labelpad=53.0)\n",
    "\n",
    "#ax[0].title.set_text(\"{\\\\huge %s\" % (patient_name.replace(\"_\", \"\\\\_\")))\n",
    "\n",
    "ax[2].set_xlabel(\"Seconds\")    \n",
    "plt.subplots_adjust(left=0.0,\n",
    "                    bottom=0.0, \n",
    "                    right=0.9, \n",
    "                    top=0.87, \n",
    "                    wspace=0.4, \n",
    "                    hspace=0.0)\n",
    "handles = []\n",
    "for i in range(6):\n",
    "    handles.append(mpatches.Patch(color=color_dict[i], label=names[i]))\n",
    "\n",
    "ax[0].legend(handles=handles, ncol=1, bbox_to_anchor=(1.14, 1.16), labelspacing=0.95) \n",
    "\n",
    "plt.suptitle(r\"\\textbf{Session: %s}\" % patient_name.replace(\"_\", \"\\\\_\"), size=21)\n",
    "plt.savefig(save_dir + \"session_{}.png\".format(patient_name), dpi=200, bbox_inches = 'tight')\n",
    "plt.show()"
   ]
  },
  {
   "cell_type": "code",
   "execution_count": 412,
   "id": "intellectual-slovenia",
   "metadata": {},
   "outputs": [
    {
     "data": {
      "text/plain": [
       "0.8516053184694593"
      ]
     },
     "execution_count": 412,
     "metadata": {},
     "output_type": "execute_result"
    }
   ],
   "source": [
    "fbeta_score(ytrue[patient[\"index\"].values], clean2(ypred[patient[\"index\"].values]), beta=2, average=\"weighted\")"
   ]
  },
  {
   "cell_type": "code",
   "execution_count": 413,
   "id": "comparative-definition",
   "metadata": {},
   "outputs": [
    {
     "name": "stderr",
     "output_type": "stream",
     "text": [
      "C:\\Users\\andersgm\\anaconda3\\envs\\epilepsy\\lib\\site-packages\\sklearn\\metrics\\_classification.py:1850: UserWarning: y_pred contains classes not in y_true\n",
      "  warnings.warn('y_pred contains classes not in y_true')\n"
     ]
    },
    {
     "data": {
      "text/plain": [
       "0.5025492554680252"
      ]
     },
     "execution_count": 413,
     "metadata": {},
     "output_type": "execute_result"
    }
   ],
   "source": [
    "balanced_accuracy_score(ytrue[patient[\"index\"].values], clean2(ypred[patient[\"index\"].values]))"
   ]
  },
  {
   "cell_type": "markdown",
   "id": "appreciated-mercury",
   "metadata": {},
   "source": [
    "# Compare with v2.0.0"
   ]
  },
  {
   "cell_type": "code",
   "execution_count": 514,
   "id": "independent-timothy",
   "metadata": {},
   "outputs": [],
   "source": [
    "dfv2 = pd.read_pickle(\"dataframe_float32_new_v2.pkl\")"
   ]
  },
  {
   "cell_type": "code",
   "execution_count": 551,
   "id": "humanitarian-mitchell",
   "metadata": {},
   "outputs": [],
   "source": [
    "patient_name = '00007078_s001_t000'"
   ]
  },
  {
   "cell_type": "code",
   "execution_count": 553,
   "id": "suburban-genre",
   "metadata": {},
   "outputs": [
    {
     "data": {
      "image/png": "[encoded data removed]",
      "text/plain": [
       "<Figure size 864x288 with 4 Axes>"
      ]
     },
     "metadata": {
      "needs_background": "light"
     },
     "output_type": "display_data"
    }
   ],
   "source": [
    "#patient_name = '00002348_s014_t008'\n",
    "\n",
    "#patient_name = cherry_picked_patients[p_index]\n",
    "#p_index += 1\n",
    "#patient_name = np.random.choice( np.unique(df[\"Name\"]))\n",
    "patient = deepcopy(df[df[\"Name\"] == patient_name])\n",
    "patient = patient.sort_values(by=\"Start\", ascending=True, key=lambda col: col.values).reset_index(drop=True)\n",
    "\n",
    "patient2 = deepcopy(dfv2[dfv2[\"Name\"] == patient_name])\n",
    "patient2 = patient2.sort_values(by=\"Start\", ascending=True, key=lambda col: col.values).reset_index(drop=True)\n",
    "\n",
    "fig, ax = plt.subplots(nrows=4, ncols=1, figsize=(12,4), sharex=True)\n",
    "\n",
    "plot_artifacts(ax[0], ytrue[patient[\"index\"].values], patient)\n",
    "ax[0].set_ylabel(\"Original:\", rotation=0, labelpad=41.0)\n",
    "plot_artifacts(ax[1], ypred[patient[\"index\"].values], patient)\n",
    "ax[1].set_ylabel(\"Predictions:\", rotation=0, labelpad=52.0)\n",
    "plot_artifacts(ax[2], clean2(ypred[patient[\"index\"].values]), patient)\n",
    "ax[2].set_ylabel(r\"Postfiltering:\", rotation=0, labelpad=53.0)\n",
    "plot_artifacts(ax[3], patient2[\"Multiclass label v2\"], patient)\n",
    "ax[3].set_ylabel(r\"v2.0.0:\", rotation=0, labelpad=30.0)\n",
    "\n",
    "#ax[0].title.set_text(\"{\\\\huge %s\" % (patient_name.replace(\"_\", \"\\\\_\")))\n",
    "\n",
    "ax[3].set_xlabel(\"Seconds\")    \n",
    "plt.subplots_adjust(left=0.0,\n",
    "                    bottom=0.0, \n",
    "                    right=0.9, \n",
    "                    top=0.87, \n",
    "                    wspace=0.4, \n",
    "                    hspace=0.0)\n",
    "handles = []\n",
    "for i in range(6):\n",
    "    handles.append(mpatches.Patch(color=color_dict[i], label=names[i]))\n",
    "\n",
    "ax[0].legend(handles=handles, ncol=1, bbox_to_anchor=(1.14, 1.16), labelspacing=1.7) \n",
    "\n",
    "plt.suptitle(r\"\\textbf{Session: %s}\" % patient_name.replace(\"_\", \"\\\\_\"), size=21)\n",
    "plt.savefig(save_dir + \"session_{}_v2.png\".format(patient_name), dpi=200, bbox_inches = 'tight')\n",
    "plt.show()"
   ]
  },
  {
   "cell_type": "code",
   "execution_count": 560,
   "id": "logical-finger",
   "metadata": {},
   "outputs": [
    {
     "name": "stderr",
     "output_type": "stream",
     "text": [
      "C:\\Users\\andersgm\\anaconda3\\envs\\epilepsy\\lib\\site-packages\\sklearn\\metrics\\_classification.py:1850: UserWarning: y_pred contains classes not in y_true\n",
      "  warnings.warn('y_pred contains classes not in y_true')\n"
     ]
    },
    {
     "data": {
      "text/plain": [
       "0.3446088423964992"
      ]
     },
     "execution_count": 560,
     "metadata": {},
     "output_type": "execute_result"
    }
   ],
   "source": [
    "balanced_accuracy_score(patient2[\"Multiclass label v2\"], clean2(ypred[patient[\"index\"].values]))"
   ]
  },
  {
   "cell_type": "code",
   "execution_count": 559,
   "id": "sweet-mention",
   "metadata": {},
   "outputs": [
    {
     "name": "stderr",
     "output_type": "stream",
     "text": [
      "C:\\Users\\andersgm\\anaconda3\\envs\\epilepsy\\lib\\site-packages\\sklearn\\metrics\\_classification.py:1850: UserWarning: y_pred contains classes not in y_true\n",
      "  warnings.warn('y_pred contains classes not in y_true')\n"
     ]
    },
    {
     "data": {
      "text/plain": [
       "0.41342752213468936"
      ]
     },
     "execution_count": 559,
     "metadata": {},
     "output_type": "execute_result"
    }
   ],
   "source": [
    "balanced_accuracy_score(ytrue[patient[\"index\"].values], clean2(ypred[patient[\"index\"].values]))"
   ]
  },
  {
   "cell_type": "code",
   "execution_count": 556,
   "id": "regional-berkeley",
   "metadata": {},
   "outputs": [
    {
     "data": {
      "text/plain": [
       "0.402316631978493"
      ]
     },
     "execution_count": 556,
     "metadata": {},
     "output_type": "execute_result"
    }
   ],
   "source": [
    "fbeta_score(patient2[\"Multiclass label v2\"], ypred[patient[\"index\"].values], beta=1, average='weighted')"
   ]
  },
  {
   "cell_type": "code",
   "execution_count": 554,
   "id": "sonic-government",
   "metadata": {},
   "outputs": [
    {
     "data": {
      "text/plain": [
       "0.7466376188237479"
      ]
     },
     "execution_count": 554,
     "metadata": {},
     "output_type": "execute_result"
    }
   ],
   "source": [
    "fbeta_score(ytrue[patient[\"index\"].values], clean2(ypred[patient[\"index\"].values]), beta=1, average='weighted')"
   ]
  },
  {
   "cell_type": "code",
   "execution_count": 555,
   "id": "electric-wings",
   "metadata": {},
   "outputs": [
    {
     "data": {
      "text/plain": [
       "0.3958199794994356"
      ]
     },
     "execution_count": 555,
     "metadata": {},
     "output_type": "execute_result"
    }
   ],
   "source": [
    "fbeta_score(patient2[\"Multiclass label v2\"], clean2(ypred[patient[\"index\"].values]), beta=1, average='weighted')"
   ]
  },
  {
   "cell_type": "code",
   "execution_count": 550,
   "id": "unable-rabbit",
   "metadata": {},
   "outputs": [
    {
     "data": {
      "text/plain": [
       "'00007078_s001_t000'"
      ]
     },
     "execution_count": 550,
     "metadata": {},
     "output_type": "execute_result"
    }
   ],
   "source": [
    "patient_name"
   ]
  },
  {
   "cell_type": "code",
   "execution_count": null,
   "id": "frequent-scout",
   "metadata": {},
   "outputs": [],
   "source": []
  },
  {
   "cell_type": "code",
   "execution_count": 339,
   "id": "entire-divide",
   "metadata": {},
   "outputs": [
    {
     "data": {
      "text/html": [
       "<div>\n",
       "<style scoped>\n",
       "    .dataframe tbody tr th:only-of-type {\n",
       "        vertical-align: middle;\n",
       "    }\n",
       "\n",
       "    .dataframe tbody tr th {\n",
       "        vertical-align: top;\n",
       "    }\n",
       "\n",
       "    .dataframe thead th {\n",
       "        text-align: right;\n",
       "    }\n",
       "</style>\n",
       "<table border=\"1\" class=\"dataframe\">\n",
       "  <thead>\n",
       "    <tr style=\"text-align: right;\">\n",
       "      <th></th>\n",
       "      <th>index</th>\n",
       "      <th>Name</th>\n",
       "      <th>Start</th>\n",
       "      <th>End</th>\n",
       "      <th>Labels</th>\n",
       "      <th>Window</th>\n",
       "      <th>Multiclass label</th>\n",
       "      <th>Session group</th>\n",
       "      <th>Patient group</th>\n",
       "      <th>Multiclass label v2</th>\n",
       "    </tr>\n",
       "  </thead>\n",
       "  <tbody>\n",
       "    <tr>\n",
       "      <th>107952</th>\n",
       "      <td>107952</td>\n",
       "      <td>00002348_s014_t008</td>\n",
       "      <td>0.00</td>\n",
       "      <td>1.00</td>\n",
       "      <td>[null]</td>\n",
       "      <td>[[0.29404157, 1.156163, 1.3178558, -0.06833511...</td>\n",
       "      <td>5</td>\n",
       "      <td>31</td>\n",
       "      <td>17</td>\n",
       "      <td>5</td>\n",
       "    </tr>\n",
       "    <tr>\n",
       "      <th>107953</th>\n",
       "      <td>107953</td>\n",
       "      <td>00002348_s014_t008</td>\n",
       "      <td>0.25</td>\n",
       "      <td>1.25</td>\n",
       "      <td>[null]</td>\n",
       "      <td>[[1.3079119, 0.16858682, 0.9286362, 0.7610758,...</td>\n",
       "      <td>5</td>\n",
       "      <td>31</td>\n",
       "      <td>17</td>\n",
       "      <td>5</td>\n",
       "    </tr>\n",
       "    <tr>\n",
       "      <th>107954</th>\n",
       "      <td>107954</td>\n",
       "      <td>00002348_s014_t008</td>\n",
       "      <td>0.50</td>\n",
       "      <td>1.50</td>\n",
       "      <td>[null]</td>\n",
       "      <td>[[0.5531869, -0.37649807, 0.8204341, 0.25315, ...</td>\n",
       "      <td>5</td>\n",
       "      <td>31</td>\n",
       "      <td>17</td>\n",
       "      <td>5</td>\n",
       "    </tr>\n",
       "    <tr>\n",
       "      <th>107955</th>\n",
       "      <td>107955</td>\n",
       "      <td>00002348_s014_t008</td>\n",
       "      <td>0.75</td>\n",
       "      <td>1.75</td>\n",
       "      <td>[null]</td>\n",
       "      <td>[[-0.87464076, 0.25594842, 0.5045968, 0.777981...</td>\n",
       "      <td>5</td>\n",
       "      <td>31</td>\n",
       "      <td>17</td>\n",
       "      <td>5</td>\n",
       "    </tr>\n",
       "    <tr>\n",
       "      <th>107956</th>\n",
       "      <td>107956</td>\n",
       "      <td>00002348_s014_t008</td>\n",
       "      <td>1.00</td>\n",
       "      <td>2.00</td>\n",
       "      <td>[null]</td>\n",
       "      <td>[[0.09673949, -0.35241073, 0.87030274, -0.1378...</td>\n",
       "      <td>5</td>\n",
       "      <td>31</td>\n",
       "      <td>17</td>\n",
       "      <td>5</td>\n",
       "    </tr>\n",
       "    <tr>\n",
       "      <th>...</th>\n",
       "      <td>...</td>\n",
       "      <td>...</td>\n",
       "      <td>...</td>\n",
       "      <td>...</td>\n",
       "      <td>...</td>\n",
       "      <td>...</td>\n",
       "      <td>...</td>\n",
       "      <td>...</td>\n",
       "      <td>...</td>\n",
       "      <td>...</td>\n",
       "    </tr>\n",
       "    <tr>\n",
       "      <th>112988</th>\n",
       "      <td>112988</td>\n",
       "      <td>00002348_s014_t008</td>\n",
       "      <td>998.75</td>\n",
       "      <td>999.75</td>\n",
       "      <td>[null]</td>\n",
       "      <td>[[0.1282383, -0.21968661, -0.62705415, -0.2760...</td>\n",
       "      <td>5</td>\n",
       "      <td>31</td>\n",
       "      <td>17</td>\n",
       "      <td>3</td>\n",
       "    </tr>\n",
       "    <tr>\n",
       "      <th>112989</th>\n",
       "      <td>112989</td>\n",
       "      <td>00002348_s014_t008</td>\n",
       "      <td>999.00</td>\n",
       "      <td>1000.00</td>\n",
       "      <td>[null]</td>\n",
       "      <td>[[0.45949912, -0.5734527, -0.314824, -0.406377...</td>\n",
       "      <td>5</td>\n",
       "      <td>31</td>\n",
       "      <td>17</td>\n",
       "      <td>3</td>\n",
       "    </tr>\n",
       "    <tr>\n",
       "      <th>112990</th>\n",
       "      <td>112990</td>\n",
       "      <td>00002348_s014_t008</td>\n",
       "      <td>999.25</td>\n",
       "      <td>1000.25</td>\n",
       "      <td>[null]</td>\n",
       "      <td>[[-0.42479828, 0.070886225, -0.21513507, -0.37...</td>\n",
       "      <td>5</td>\n",
       "      <td>31</td>\n",
       "      <td>17</td>\n",
       "      <td>3</td>\n",
       "    </tr>\n",
       "    <tr>\n",
       "      <th>112991</th>\n",
       "      <td>112991</td>\n",
       "      <td>00002348_s014_t008</td>\n",
       "      <td>999.50</td>\n",
       "      <td>1000.50</td>\n",
       "      <td>[null]</td>\n",
       "      <td>[[-0.49257106, -0.63827354, -0.27921182, -0.34...</td>\n",
       "      <td>5</td>\n",
       "      <td>31</td>\n",
       "      <td>17</td>\n",
       "      <td>3</td>\n",
       "    </tr>\n",
       "    <tr>\n",
       "      <th>112992</th>\n",
       "      <td>112992</td>\n",
       "      <td>00002348_s014_t008</td>\n",
       "      <td>999.75</td>\n",
       "      <td>1000.75</td>\n",
       "      <td>[null]</td>\n",
       "      <td>[[0.17219824, -0.13285789, -0.31862333, -0.396...</td>\n",
       "      <td>5</td>\n",
       "      <td>31</td>\n",
       "      <td>17</td>\n",
       "      <td>3</td>\n",
       "    </tr>\n",
       "  </tbody>\n",
       "</table>\n",
       "<p>5041 rows × 10 columns</p>\n",
       "</div>"
      ],
      "text/plain": [
       "         index                Name   Start      End  Labels  \\\n",
       "107952  107952  00002348_s014_t008    0.00     1.00  [null]   \n",
       "107953  107953  00002348_s014_t008    0.25     1.25  [null]   \n",
       "107954  107954  00002348_s014_t008    0.50     1.50  [null]   \n",
       "107955  107955  00002348_s014_t008    0.75     1.75  [null]   \n",
       "107956  107956  00002348_s014_t008    1.00     2.00  [null]   \n",
       "...        ...                 ...     ...      ...     ...   \n",
       "112988  112988  00002348_s014_t008  998.75   999.75  [null]   \n",
       "112989  112989  00002348_s014_t008  999.00  1000.00  [null]   \n",
       "112990  112990  00002348_s014_t008  999.25  1000.25  [null]   \n",
       "112991  112991  00002348_s014_t008  999.50  1000.50  [null]   \n",
       "112992  112992  00002348_s014_t008  999.75  1000.75  [null]   \n",
       "\n",
       "                                                   Window  Multiclass label  \\\n",
       "107952  [[0.29404157, 1.156163, 1.3178558, -0.06833511...                 5   \n",
       "107953  [[1.3079119, 0.16858682, 0.9286362, 0.7610758,...                 5   \n",
       "107954  [[0.5531869, -0.37649807, 0.8204341, 0.25315, ...                 5   \n",
       "107955  [[-0.87464076, 0.25594842, 0.5045968, 0.777981...                 5   \n",
       "107956  [[0.09673949, -0.35241073, 0.87030274, -0.1378...                 5   \n",
       "...                                                   ...               ...   \n",
       "112988  [[0.1282383, -0.21968661, -0.62705415, -0.2760...                 5   \n",
       "112989  [[0.45949912, -0.5734527, -0.314824, -0.406377...                 5   \n",
       "112990  [[-0.42479828, 0.070886225, -0.21513507, -0.37...                 5   \n",
       "112991  [[-0.49257106, -0.63827354, -0.27921182, -0.34...                 5   \n",
       "112992  [[0.17219824, -0.13285789, -0.31862333, -0.396...                 5   \n",
       "\n",
       "        Session group  Patient group  Multiclass label v2  \n",
       "107952             31             17                    5  \n",
       "107953             31             17                    5  \n",
       "107954             31             17                    5  \n",
       "107955             31             17                    5  \n",
       "107956             31             17                    5  \n",
       "...               ...            ...                  ...  \n",
       "112988             31             17                    3  \n",
       "112989             31             17                    3  \n",
       "112990             31             17                    3  \n",
       "112991             31             17                    3  \n",
       "112992             31             17                    3  \n",
       "\n",
       "[5041 rows x 10 columns]"
      ]
     },
     "execution_count": 339,
     "metadata": {},
     "output_type": "execute_result"
    }
   ],
   "source": [
    "dfv2[dfv2['Name'] == '00002348_s014_t008']"
   ]
  },
  {
   "cell_type": "markdown",
   "id": "indirect-beijing",
   "metadata": {},
   "source": [
    "# Metrics"
   ]
  },
  {
   "cell_type": "code",
   "execution_count": 8,
   "id": "piano-separation",
   "metadata": {},
   "outputs": [],
   "source": [
    "ytrue = np.load(\"multiclass_y_new.npy\")"
   ]
  },
  {
   "cell_type": "code",
   "execution_count": 485,
   "id": "comprehensive-strip",
   "metadata": {},
   "outputs": [
    {
     "data": {
      "text/plain": [
       "'C:\\\\Users\\\\andersgm\\\\Documents\\\\Courses\\\\02466 Project work F21\\\\Project\\\\Final results\\\\Raw\\\\predictions_LDA_4_5_5_5_55784899_08-06-21_01-03-16.npy'"
      ]
     },
     "execution_count": 485,
     "metadata": {},
     "output_type": "execute_result"
    }
   ],
   "source": [
    "result_files[10]"
   ]
  },
  {
   "cell_type": "code",
   "execution_count": 6,
   "id": "documentary-conditions",
   "metadata": {},
   "outputs": [],
   "source": [
    "file = 'C:\\\\Users\\\\andersgm\\\\Documents\\\\Courses\\\\02466 Project work F21\\\\Project\\\\Final results\\\\Raw\\\\predictions_LDA_4_5_5_5_55784899_08-06-21_01-03-16.npy'"
   ]
  },
  {
   "cell_type": "code",
   "execution_count": 493,
   "id": "oriented-negotiation",
   "metadata": {},
   "outputs": [],
   "source": [
    "file = 'C:\\\\Users\\\\andersgm\\\\Documents\\\\Courses\\\\02466 Project work F21\\\\Project\\\\Final results\\\\Filtered\\\\predictions_LDA_4_5_5_5_55784899_08-06-21_01-03-16_filtered.npy'"
   ]
  },
  {
   "cell_type": "code",
   "execution_count": 7,
   "id": "electric-auditor",
   "metadata": {},
   "outputs": [],
   "source": [
    "ypred = np.load(file)[0]"
   ]
  },
  {
   "cell_type": "code",
   "execution_count": 44,
   "id": "corrected-yellow",
   "metadata": {},
   "outputs": [
    {
     "data": {
      "image/png": "[encoded data removed]",
      "text/plain": [
       "<Figure size 504x504 with 2 Axes>"
      ]
     },
     "metadata": {
      "needs_background": "light"
     },
     "output_type": "display_data"
    }
   ],
   "source": [
    "fig, ax = plt.subplots(figsize=(7,7))\n",
    "\n",
    "m = confusion_matrix(ytrue, ypred, normalize='true')\n",
    "\n",
    "im = ax.imshow(m, vmin=0, vmax=0.7)\n",
    "\n",
    "divider = make_axes_locatable(ax)\n",
    "cax = divider.append_axes(\"right\", size=\"5%\", pad=0.05)\n",
    "fig.colorbar(im, cax=cax) \n",
    "# We want to show all ticks...\n",
    "ax.set_xticks(np.arange(6))\n",
    "ax.set_yticks(np.arange(6))\n",
    "# ... and label them with the respective list entries\n",
    "ax.set_xticklabels(list(label_dict.keys()), size=18)\n",
    "ax.set_yticklabels(list(label_dict.keys()), size=18)\n",
    "\n",
    "# Rotate the tick labels and set their alignment.\n",
    "plt.setp(ax.get_xticklabels(), rotation=45, ha=\"right\",\n",
    "         rotation_mode=\"anchor\")\n",
    "\n",
    "# Loop over data dimensions and create text annotations.\n",
    "for i in range(6):\n",
    "    for j in range(6):\n",
    "        text = ax.text(j, i, \"{:.2f}%\".format(m[i, j]*100),\n",
    "                       ha=\"center\", va=\"center\", color=\"w\")\n",
    "\n",
    "#ax.set_title(\"Harvest of local farmers (in tons/year)\")\n",
    "ax.set_xlabel(\"Predicted\", size=24)\n",
    "ax.set_ylabel(\"True\", size=24)\n",
    "fig.tight_layout()\n",
    "plt.suptitle(r\"\\textbf{Confusion matrix}\")\n",
    "plt.savefig(save_dir + \"confussion_matrix.png\", dpi=200, bbox_inches = 'tight')\n",
    "plt.show()"
   ]
  },
  {
   "cell_type": "code",
   "execution_count": 12,
   "id": "academic-mandate",
   "metadata": {},
   "outputs": [],
   "source": [
    "from copy import deepcopy"
   ]
  },
  {
   "cell_type": "code",
   "execution_count": 13,
   "id": "static-framing",
   "metadata": {},
   "outputs": [],
   "source": [
    "ytrue1 = deepcopy(ytrue)\n",
    "ypred1 = deepcopy(ypred)"
   ]
  },
  {
   "cell_type": "code",
   "execution_count": 14,
   "id": "behind-vitamin",
   "metadata": {},
   "outputs": [],
   "source": [
    "ytrue1[np.isin(ytrue1, [0,3,4])] = 0\n",
    "ypred1[np.isin(ypred1, [0,3,4])] = 0"
   ]
  },
  {
   "cell_type": "code",
   "execution_count": 45,
   "id": "static-terrorism",
   "metadata": {},
   "outputs": [
    {
     "data": {
      "image/png": "[encoded data removed]",
      "text/plain": [
       "<Figure size 504x504 with 2 Axes>"
      ]
     },
     "metadata": {
      "needs_background": "light"
     },
     "output_type": "display_data"
    }
   ],
   "source": [
    "fig, ax = plt.subplots(figsize=(7,7))\n",
    "\n",
    "m = confusion_matrix(ytrue1, ypred1, normalize='true')\n",
    "\n",
    "im = ax.imshow(m, vmin=0, vmax=0.7)\n",
    "\n",
    "divider = make_axes_locatable(ax)\n",
    "cax = divider.append_axes(\"right\", size=\"5%\", pad=0.05)\n",
    "fig.colorbar(im, cax=cax)\n",
    "\n",
    "# We want to show all ticks...\n",
    "ax.set_xticks(np.arange(4))\n",
    "ax.set_yticks(np.arange(4))\n",
    "# ... and label them with the respective list entries\n",
    "ax.set_xticklabels(['musc', 'elpp', 'eyem', 'null'], size=18)\n",
    "ax.set_yticklabels(['musc', 'elpp', 'eyem', 'null'], size=18)\n",
    "\n",
    "# Rotate the tick labels and set their alignment.\n",
    "plt.setp(ax.get_xticklabels(), rotation=45, ha=\"right\",\n",
    "         rotation_mode=\"anchor\")\n",
    "\n",
    "# Loop over data dimensions and create text annotations.\n",
    "for i in range(4):\n",
    "    for j in range(4):\n",
    "        text = ax.text(j, i, \"{:.2f}%\".format(m[i, j]*100),\n",
    "                       ha=\"center\", va=\"center\", color=\"w\")\n",
    "\n",
    "#ax.set_title(\"Harvest of local farmers (in tons/year)\")\n",
    "ax.set_xlabel(\"Predicted\", size=24)\n",
    "ax.set_ylabel(\"True\", size=24)\n",
    "fig.tight_layout()\n",
    "plt.suptitle(r\"\\textbf{Confusion matrix with artifacts collapsed}\")\n",
    "plt.savefig(save_dir + \"confussion_matrix_collapsed.png\", dpi=200, bbox_inches = 'tight')\n",
    "plt.show()"
   ]
  },
  {
   "cell_type": "code",
   "execution_count": 474,
   "id": "multiple-happening",
   "metadata": {},
   "outputs": [
    {
     "data": {
      "text/plain": [
       "0.4950889639006151"
      ]
     },
     "execution_count": 474,
     "metadata": {},
     "output_type": "execute_result"
    }
   ],
   "source": [
    "balanced_accuracy_score(ytrue1, ypred1)"
   ]
  },
  {
   "cell_type": "code",
   "execution_count": 475,
   "id": "antique-spencer",
   "metadata": {},
   "outputs": [
    {
     "data": {
      "text/plain": [
       "0.37907267363541264"
      ]
     },
     "execution_count": 475,
     "metadata": {},
     "output_type": "execute_result"
    }
   ],
   "source": [
    "balanced_accuracy_score(ytrue, ypred)"
   ]
  },
  {
   "cell_type": "code",
   "execution_count": 473,
   "id": "innovative-plain",
   "metadata": {},
   "outputs": [
    {
     "data": {
      "text/plain": [
       "0.5603292381991456"
      ]
     },
     "execution_count": 473,
     "metadata": {},
     "output_type": "execute_result"
    }
   ],
   "source": [
    "f1_score(ytrue1, ypred1, average='weighted')"
   ]
  },
  {
   "cell_type": "code",
   "execution_count": 463,
   "id": "sharing-first",
   "metadata": {},
   "outputs": [
    {
     "data": {
      "text/plain": [
       "0.5587457563402912"
      ]
     },
     "execution_count": 463,
     "metadata": {},
     "output_type": "execute_result"
    }
   ],
   "source": [
    "f1_score(ytrue, ypred, average='weighted')"
   ]
  },
  {
   "cell_type": "code",
   "execution_count": 449,
   "id": "raised-relation",
   "metadata": {
    "scrolled": true
   },
   "outputs": [
    {
     "data": {
      "text/plain": [
       "0.100446812167039"
      ]
     },
     "execution_count": 449,
     "metadata": {},
     "output_type": "execute_result"
    }
   ],
   "source": [
    "np.mean(ypred[ytrue == 0] == 5)"
   ]
  },
  {
   "cell_type": "code",
   "execution_count": 443,
   "id": "awful-thousand",
   "metadata": {},
   "outputs": [
    {
     "data": {
      "text/plain": [
       "0.19923383484197843"
      ]
     },
     "execution_count": 443,
     "metadata": {},
     "output_type": "execute_result"
    }
   ],
   "source": [
    "np.mean(ypred[ytrue == 2] == 5 )"
   ]
  },
  {
   "cell_type": "code",
   "execution_count": null,
   "id": "instructional-password",
   "metadata": {},
   "outputs": [],
   "source": [
    "TP = np.sum(ypred[ytrue != 5] != 5)"
   ]
  },
  {
   "cell_type": "code",
   "execution_count": 151,
   "id": "comfortable-brooklyn",
   "metadata": {},
   "outputs": [],
   "source": [
    "TP = np.sum(ytrue[ytrue != 5] == ypred[ytrue != 5])"
   ]
  },
  {
   "cell_type": "code",
   "execution_count": 153,
   "id": "potential-heavy",
   "metadata": {
    "scrolled": true
   },
   "outputs": [],
   "source": [
    "FP = np.sum(ypred[ytrue == 5] != 5)"
   ]
  },
  {
   "cell_type": "code",
   "execution_count": 154,
   "id": "innovative-template",
   "metadata": {},
   "outputs": [],
   "source": [
    "FN = np.sum(ypred[ytrue != 5] == 5)"
   ]
  },
  {
   "cell_type": "code",
   "execution_count": 155,
   "id": "external-degree",
   "metadata": {},
   "outputs": [],
   "source": [
    "p = TP / (TP + FP)"
   ]
  },
  {
   "cell_type": "code",
   "execution_count": 156,
   "id": "passing-celebration",
   "metadata": {},
   "outputs": [],
   "source": [
    "r = TP / (TP + FN)"
   ]
  },
  {
   "cell_type": "code",
   "execution_count": 1,
   "id": "postal-speaker",
   "metadata": {},
   "outputs": [],
   "source": [
    "beta = 2"
   ]
  },
  {
   "cell_type": "code",
   "execution_count": 159,
   "id": "documented-vatican",
   "metadata": {
    "scrolled": true
   },
   "outputs": [
    {
     "data": {
      "text/plain": [
       "0.31606537590395095"
      ]
     },
     "execution_count": 159,
     "metadata": {},
     "output_type": "execute_result"
    }
   ],
   "source": [
    "((1 + beta**2) * p * r) / (beta**2 * p + r)"
   ]
  },
  {
   "cell_type": "code",
   "execution_count": 121,
   "id": "presidential-assets",
   "metadata": {},
   "outputs": [
    {
     "data": {
      "text/plain": [
       "0.6174025192026655"
      ]
     },
     "execution_count": 121,
     "metadata": {},
     "output_type": "execute_result"
    }
   ],
   "source": [
    "fbeta_score(ytrue, ypred, beta=1, average='weighted')"
   ]
  },
  {
   "cell_type": "code",
   "execution_count": 122,
   "id": "minor-knife",
   "metadata": {},
   "outputs": [
    {
     "data": {
      "text/plain": [
       "0.4871876126972922"
      ]
     },
     "execution_count": 122,
     "metadata": {},
     "output_type": "execute_result"
    }
   ],
   "source": [
    "np.mean(ypred[ytrue == 5] == 5)"
   ]
  },
  {
   "cell_type": "code",
   "execution_count": 160,
   "id": "extreme-volleyball",
   "metadata": {},
   "outputs": [
    {
     "data": {
      "text/plain": [
       "0.8143614260017142"
      ]
     },
     "execution_count": 160,
     "metadata": {},
     "output_type": "execute_result"
    }
   ],
   "source": [
    "np.mean(ypred[ytrue != 5] != 5)"
   ]
  },
  {
   "cell_type": "code",
   "execution_count": 162,
   "id": "portuguese-choice",
   "metadata": {},
   "outputs": [],
   "source": [
    "path = 'C:\\\\Users\\\\andersgm\\\\Documents\\\\Courses\\\\02466 Project work F21\\\\Project\\\\Final results\\\\Filtered\\\\predictions_LDA_4_5_5_5_55784899_08-06-21_01-03-16_filtered.npy'\n",
    "ypred = np.load(path)[0]"
   ]
  },
  {
   "cell_type": "code",
   "execution_count": 169,
   "id": "antique-healthcare",
   "metadata": {
    "scrolled": true
   },
   "outputs": [
    {
     "data": {
      "text/plain": [
       "28582"
      ]
     },
     "execution_count": 169,
     "metadata": {},
     "output_type": "execute_result"
    }
   ],
   "source": [
    "np.sum(ypred[ytrue != 5] != 5)"
   ]
  },
  {
   "cell_type": "code",
   "execution_count": 181,
   "id": "attended-feelings",
   "metadata": {},
   "outputs": [
    {
     "name": "stdout",
     "output_type": "stream",
     "text": [
      "21529\n"
     ]
    }
   ],
   "source": [
    "TP = np.sum(ytrue[ytrue != 5] == ypred[ytrue != 5])\n",
    "print(TP)"
   ]
  },
  {
   "cell_type": "code",
   "execution_count": 182,
   "id": "exciting-karaoke",
   "metadata": {},
   "outputs": [
    {
     "name": "stdout",
     "output_type": "stream",
     "text": [
      "193008\n"
     ]
    }
   ],
   "source": [
    "FP = np.sum(ypred[ytrue == 5] != 5)\n",
    "print(FP)"
   ]
  },
  {
   "cell_type": "code",
   "execution_count": 183,
   "id": "random-example",
   "metadata": {},
   "outputs": [
    {
     "name": "stdout",
     "output_type": "stream",
     "text": [
      "54251\n"
     ]
    }
   ],
   "source": [
    "FN = np.sum(ypred[ytrue != 5] == 5)\n",
    "print(FN)"
   ]
  },
  {
   "cell_type": "code",
   "execution_count": 184,
   "id": "resident-charter",
   "metadata": {},
   "outputs": [],
   "source": [
    "p = TP / (TP + FP)"
   ]
  },
  {
   "cell_type": "code",
   "execution_count": 185,
   "id": "precise-lighter",
   "metadata": {},
   "outputs": [],
   "source": [
    "r = TP / (TP + FN)"
   ]
  },
  {
   "cell_type": "code",
   "execution_count": 186,
   "id": "verbal-convention",
   "metadata": {},
   "outputs": [
    {
     "data": {
      "text/plain": [
       "0.14831373980855408"
      ]
     },
     "execution_count": 186,
     "metadata": {},
     "output_type": "execute_result"
    }
   ],
   "source": [
    "2 * ((p * r) / (p + r))"
   ]
  },
  {
   "cell_type": "code",
   "execution_count": 187,
   "id": "worth-portal",
   "metadata": {},
   "outputs": [
    {
     "data": {
      "text/plain": [
       "0.20794657466237296"
      ]
     },
     "execution_count": 187,
     "metadata": {},
     "output_type": "execute_result"
    }
   ],
   "source": [
    "((1 + beta**2) * p * r) / (beta**2 * p + r)"
   ]
  },
  {
   "cell_type": "code",
   "execution_count": 189,
   "id": "adapted-marble",
   "metadata": {},
   "outputs": [
    {
     "data": {
      "text/plain": [
       "1.0"
      ]
     },
     "execution_count": 189,
     "metadata": {},
     "output_type": "execute_result"
    }
   ],
   "source": [
    "fbeta_score(ytrue, ytrue, beta=1, average='weighted')"
   ]
  },
  {
   "cell_type": "code",
   "execution_count": 314,
   "id": "single-basis",
   "metadata": {},
   "outputs": [],
   "source": [
    "y = np.load(\"multiclass_y_new.npy\")\n",
    "a = 0.5\n",
    "y[np.random.choice(np.where(y == 5)[0], int(a*np.sum(y == 5)), replace=False)] = np.random.choice([0,1,2,3,4], int(a*np.sum(y == 5)))"
   ]
  },
  {
   "cell_type": "code",
   "execution_count": 302,
   "id": "victorian-jacob",
   "metadata": {},
   "outputs": [],
   "source": [
    "y = np.load(\"multiclass_y_new.npy\")\n",
    "a = 0.5\n",
    "y[np.random.choice(np.where(y != 5)[0], int(a*np.sum(y != 5)), replace=False)] = 5"
   ]
  },
  {
   "cell_type": "code",
   "execution_count": 315,
   "id": "advanced-scene",
   "metadata": {},
   "outputs": [
    {
     "data": {
      "text/plain": [
       "0.3945301123256894"
      ]
     },
     "execution_count": 315,
     "metadata": {},
     "output_type": "execute_result"
    }
   ],
   "source": [
    "fbeta_score(ytrue, y, beta=2, average='macro')"
   ]
  },
  {
   "cell_type": "code",
   "execution_count": 321,
   "id": "coastal-madison",
   "metadata": {},
   "outputs": [
    {
     "data": {
      "text/plain": [
       "0.00676948276684431"
      ]
     },
     "execution_count": 321,
     "metadata": {},
     "output_type": "execute_result"
    }
   ],
   "source": [
    "fbeta_score(ytrue, np.zeros(ytrue.shape), beta=2, average='macro')"
   ]
  }
 ],
 "metadata": {
  "kernelspec": {
   "display_name": "epilepsy",
   "language": "python",
   "name": "epilepsy"
  },
  "language_info": {
   "codemirror_mode": {
    "name": "ipython",
    "version": 3
   },
   "file_extension": ".py",
   "mimetype": "text/x-python",
   "name": "python",
   "nbconvert_exporter": "python",
   "pygments_lexer": "ipython3",
   "version": "3.8.5"
  }
 },
 "nbformat": 4,
 "nbformat_minor": 5
}
