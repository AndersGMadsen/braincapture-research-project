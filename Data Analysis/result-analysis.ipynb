{
 "cells": [
  {
   "cell_type": "code",
   "execution_count": 5,
   "id": "instructional-access",
   "metadata": {},
   "outputs": [],
   "source": [
    "%config Completer.use_jedi = False\n",
    "import os, mne\n",
    "import numpy as np\n",
    "import pandas as pd\n",
    "from matplotlib import pyplot as plt\n",
    "import matplotlib.patches as mpatches\n",
    "from matplotlib import gridspec\n",
    "import seaborn as sns\n",
    "from datetime import datetime\n",
    "from tqdm.notebook import tqdm\n",
    "import json\n",
    "from scipy import stats\n",
    "from copy import deepcopy\n",
    "\n",
    "plt.rc('text', usetex=True) \n",
    "\n",
    "font = {'family' : 'serif',\n",
    "        'size'   : '20',\n",
    "        'serif' : ['Computer Modern'],\n",
    "        'sans-serif' : ['Computer Modern']}  \n",
    "\n",
    "plt.rc('font', **font)\n",
    "plt.rc('axes', titlesize=28, labelsize=20)\n",
    "plt.rc('xtick', labelsize=16)\n",
    "plt.rc('ytick', labelsize=16)\n",
    "plt.rc('legend', fontsize=16)  \n",
    "\n",
    "save_dir = 'C:/Users/andersgm/Documents/Courses/02466 Project work F21/Project/Plots/'\n",
    "\n",
    "#sns.set_style(\"whitegrid\")"
   ]
  },
  {
   "cell_type": "code",
   "execution_count": 6,
   "id": "false-punishment",
   "metadata": {},
   "outputs": [],
   "source": [
    "label_dict = {'chew': 0, 'elpp': 1, 'eyem': 2, 'musc': 3, 'shiv': 4, 'null': 5}\n",
    "color_dict = {0: \"#f5cf40\", 1: \"#e63f47\", 2: \"#0ed280\", 3: \"#fc7323\", 4: \"#79218f\", 5: \"#828bf2\"} \n",
    "names = list(label_dict.keys())"
   ]
  },
  {
   "cell_type": "code",
   "execution_count": 7,
   "id": "collaborative-string",
   "metadata": {},
   "outputs": [],
   "source": [
    "df = pd.read_pickle(\"dataframe_float32.pkl\")\n",
    "ypreds = np.load(\"predictions_LDA_4_5_5_5_55784899_08-06-21_01-03-16.npy\")"
   ]
  },
  {
   "cell_type": "code",
   "execution_count": 8,
   "id": "eastern-wrapping",
   "metadata": {},
   "outputs": [],
   "source": [
    "ypred = stats.mode(ypreds, axis=0).mode[0]"
   ]
  },
  {
   "cell_type": "code",
   "execution_count": 9,
   "id": "experienced-ideal",
   "metadata": {},
   "outputs": [],
   "source": [
    "def clean(a):\n",
    "    a = deepcopy(a)\n",
    "    \n",
    "    for n in range(1, 2):\n",
    "        for i in range(n+1, len(a)-n*2-1):\n",
    "            if np.all(a[i-n-1:i] == a[i-n-1]) and np.all(a[i-n-1] == a[i+n:i+2*n+1]):\n",
    "                a[i:i+n] = a[i-n-1]\n",
    "            \n",
    "    for n in range(4, 7):\n",
    "        mask = np.zeros(len(a))\n",
    "        for i in range(len(a)-n):\n",
    "            if np.all(a[i:i+n] == a[i]):\n",
    "                mask[i:i+n] = True\n",
    "                \n",
    "        for i in range(len(a)):\n",
    "            if not mask[i]:\n",
    "                a[i] = 5\n",
    "                \n",
    "    for n in range(4, 7):\n",
    "        mask = np.zeros(len(a))\n",
    "        for i in range(len(a)-n):\n",
    "            if np.all(a[i:i+n] == a[i]):\n",
    "                mask[i:i+n] = True\n",
    "                \n",
    "        for i in range(len(a)):\n",
    "            if not mask[i]:\n",
    "                a[i] = 5   \n",
    "                \n",
    "    return a\n",
    "\n",
    "def clean2(a):\n",
    "    a = deepcopy(a)\n",
    "    for n in range(2, 5):\n",
    "        for i in range(n+1, len(a)-n*2-1):\n",
    "            if np.all(a[i-n-1:i] == a[i-n-1]) and np.all(a[i-n-1] == a[i+n:i+2*n+1]):\n",
    "                a[i:i+n] = a[i-n-1]\n",
    "\n",
    "    for n in range(4, 20):\n",
    "        mask = np.zeros(len(a))\n",
    "        for i in range(len(a)-n):\n",
    "            if np.all(a[i:i+n] == a[i]):\n",
    "                mask[i:i+n] = True\n",
    "\n",
    "        for i in range(len(a)):\n",
    "            if not mask[i]:\n",
    "                a[i] = 5\n",
    "            \n",
    "    return a\n",
    "\n",
    "\n",
    "hex_to_rgb = lambda s: [int(s[1:3], 16), int(s[3:5], 16), int(s[5:7], 16)] \n",
    "def plot_artifacts(ax, y, dataframe):\n",
    "    image = []\n",
    "    for label in y:\n",
    "        image.append(hex_to_rgb(color_dict[label]))\n",
    "    image = np.array(image)\n",
    "    image = np.expand_dims(image, 0)\n",
    "    image = np.tile(np.repeat(image, 2, axis=1), (1, 1, 1))\n",
    "    ax.set_yticks([])\n",
    "    ax.imshow(image, interpolation='none', extent=(0, len(y)/4, 0, len(y)/4*(1/10)))"
   ]
  },
  {
   "cell_type": "code",
   "execution_count": 6,
   "id": "gothic-thousand",
   "metadata": {},
   "outputs": [],
   "source": [
    "cherry_picked_patients = [\"00000254_s005_t000\", \"00009320_s001_t000\", \"00010024_s001_t000\", \"00009335_s002_t000\", \"00009485_s001_t000\", \"00008476_s001_t000\", \"00005740_s003_t000\", \"00003367_s003_t001\", \"00008723_s001_t000\"]\n",
    "p_index = 0"
   ]
  },
  {
   "cell_type": "code",
   "execution_count": 9,
   "id": "wanted-kuwait",
   "metadata": {},
   "outputs": [
    {
     "name": "stderr",
     "output_type": "stream",
     "text": [
      "findfont: Font family ['serif'] not found. Falling back to DejaVu Sans.\n"
     ]
    },
    {
     "data": {
      "image/png": "[encoded data removed]",
      "text/plain": [
       "<Figure size 864x576 with 4 Axes>"
      ]
     },
     "metadata": {
      "needs_background": "light"
     },
     "output_type": "display_data"
    }
   ],
   "source": [
    "patient_name = np.random.choice( np.unique(df[\"Name\"]))\n",
    "\n",
    "#patient_name = cherry_picked_patients[p_index]\n",
    "p_index += 1\n",
    "patient = deepcopy(df[df[\"Name\"] == patient_name])\n",
    "patient = patient.sort_values(by=\"Start\", ascending=True, key=lambda col: col.values).reset_index(drop=True)\n",
    "\n",
    "prediction = ypred[patient[\"index\"].values]\n",
    "\n",
    "fig, ax = plt.subplots(nrows=4, ncols=1, figsize=(12,8), sharex=True)\n",
    "\n",
    "plot_artifacts(ax[0], patient[\"Multiclass label\"], patient)\n",
    "ax[0].set_ylabel(\"Original\")\n",
    "plot_artifacts(ax[1], prediction, patient)\n",
    "ax[1].set_ylabel(\"Predictions\")\n",
    "plot_artifacts(ax[2], clean(prediction), patient)\n",
    "ax[2].set_ylabel(r\"Filter \\#1\")\n",
    "plot_artifacts(ax[3], clean2(prediction), patient)\n",
    "ax[3].set_ylabel(r\"Filter \\#2\")\n",
    "\n",
    "\n",
    "ax[0].title.set_text(\"{\\\\huge %s\" % (patient_name.replace(\"_\", \"\\\\_\")))\n",
    "\n",
    "ax[3].set_xlabel(\"Seconds\")    \n",
    "plt.subplots_adjust(left=0.0,\n",
    "                    bottom=0.0, \n",
    "                    right=1.0, \n",
    "                    top=0.80, \n",
    "                    wspace=0.4, \n",
    "                    hspace=0.55)\n",
    "handles = []\n",
    "for i in range(6):\n",
    "    handles.append(mpatches.Patch(color=color_dict[i], label=names[i]))\n",
    "\n",
    "ax[0].legend(handles=handles, ncol=6, bbox_to_anchor=(0.87, 1.8)) \n",
    "\n",
    "plt.suptitle(r\"\\textbf{Examples of recording sessions}\")\n",
    "plt.show()"
   ]
  },
  {
   "cell_type": "code",
   "execution_count": null,
   "id": "massive-hawaii",
   "metadata": {},
   "outputs": [],
   "source": [
    "def plot_artifacts(ax, y, dataframe):\n",
    "    image = []\n",
    "    for label in y:\n",
    "        image.append(hex_to_rgb(color_dict[label]))\n",
    "    image = np.array(image)\n",
    "    image = np.expand_dims(image, 0)\n",
    "    image = np.tile(np.repeat(image, 2, axis=1), (1, 1, 1))\n",
    "    ax.set_yticks([])\n",
    "    ax.imshow(image, interpolation='none', extent=(0, len(y)/4, 0, len(y)/4*(1/3.5)))\n",
    "\n",
    "fig, ax = plt.subplots(nrows=3, ncols=1, figsize=(8,8), sharex=True)\n",
    "\n",
    "plot_artifacts(ax[0], patient[\"Multiclass label\"], patient)\n",
    "ax[0].set_ylabel(\"Original\", size=26)\n",
    "plot_artifacts(ax[1], prediction, patient)\n",
    "ax[1].set_ylabel(\"Predictions\", size=26)\n",
    "plot_artifacts(ax[2], filtered_prediction, patient)\n",
    "ax[2].set_ylabel(r\"Postfiltering\", size=26)\n",
    "\n",
    "\n",
    "ax[0].title.set_text(\"{\\\\Huge %s\" % (patient_name.replace(\"_\", \"\\\\_\")))\n",
    "\n",
    "ax[2].set_xlabel(\"Seconds\")    \n",
    "plt.subplots_adjust(left=0.0,\n",
    "                    bottom=0.0, \n",
    "                    right=1.0, \n",
    "                    top=1.0, \n",
    "                    wspace=0.4, \n",
    "                    hspace=0.1)\n",
    "handles = []\n",
    "for i in range(6):\n",
    "    handles.append(mpatches.Patch(color=color_dict[i], label=names[i]))\n",
    "\n",
    "plt.savefig(save_dir + \"figure1_postfiltering.png\", dpi=250, bbox_inches = 'tight')\n",
    "plt.show()"
   ]
  },
  {
   "cell_type": "code",
   "execution_count": 29,
   "id": "central-circus",
   "metadata": {},
   "outputs": [
    {
     "data": {
      "text/plain": [
       "'00005740_s003_t000'"
      ]
     },
     "execution_count": 29,
     "metadata": {},
     "output_type": "execute_result"
    }
   ],
   "source": [
    "patient_name"
   ]
  },
  {
   "cell_type": "code",
   "execution_count": 37,
   "id": "individual-bulletin",
   "metadata": {},
   "outputs": [
    {
     "data": {
      "image/png": "[encoded data removed]",
      "text/plain": [
       "<Figure size 720x432 with 2 Axes>"
      ]
     },
     "metadata": {
      "needs_background": "light"
     },
     "output_type": "display_data"
    }
   ],
   "source": [
    "#patient_name = \"00005740_s003_t000\"\n",
    "#p_index += 1\n",
    "patient = deepcopy(df[df[\"Name\"] == patient_name])\n",
    "patient = patient.sort_values(by=\"Start\", ascending=True, key=lambda col: col.values).reset_index(drop=True)\n",
    "\n",
    "fig, ax = plt.subplots(1, 1, sharey=True, sharex=True, figsize=(10,6))\n",
    "fig.tight_layout()\n",
    "\n",
    "x =  patient[\"Window\"][1580]\n",
    "\n",
    "im = ax.imshow(x, cmap=\"magma\")\n",
    "im.set_clim(-2, 2)\n",
    "\n",
    "cbar_ax = fig.add_axes([0.95, 0.09, 0.03, 0.77])\n",
    "fig.colorbar(im, cax=cbar_ax)\n",
    "\n",
    "plt.subplots_adjust(left=None, bottom=None, right=0.93, top=0.85, wspace=None, hspace=.3)\n",
    "plt.show()"
   ]
  },
  {
   "cell_type": "code",
   "execution_count": null,
   "id": "czech-intro",
   "metadata": {},
   "outputs": [],
   "source": []
  },
  {
   "cell_type": "code",
   "execution_count": null,
   "id": "controversial-mills",
   "metadata": {},
   "outputs": [],
   "source": []
  },
  {
   "cell_type": "markdown",
   "id": "choice-field",
   "metadata": {},
   "source": [
    "# Raw results"
   ]
  },
  {
   "cell_type": "code",
   "execution_count": 10,
   "id": "forty-bones",
   "metadata": {},
   "outputs": [],
   "source": [
    "from sklearn.metrics import *"
   ]
  },
  {
   "cell_type": "code",
   "execution_count": 11,
   "id": "christian-cycling",
   "metadata": {},
   "outputs": [],
   "source": [
    "result_files = []\n",
    "\n",
    "for root, dirs, files in os.walk(r\"C:\\Users\\andersgm\\Documents\\Courses\\02466 Project work F21\\Project\\Final results\\Raw\"):\n",
    "    for file in files:\n",
    "        if file.endswith(\".npy\"):\n",
    "             result_files.append(root + \"\\\\\" + file)"
   ]
  },
  {
   "cell_type": "code",
   "execution_count": 65,
   "id": "smart-royal",
   "metadata": {},
   "outputs": [],
   "source": [
    "ytrue = np.load(\"multiclass_y_new.npy\")"
   ]
  },
  {
   "cell_type": "code",
   "execution_count": null,
   "id": "practical-representation",
   "metadata": {},
   "outputs": [],
   "source": [
    "current = 0"
   ]
  },
  {
   "cell_type": "code",
   "execution_count": 58,
   "id": "level-stockholm",
   "metadata": {},
   "outputs": [],
   "source": [
    "ypred = np.load(result_files[0])\n",
    "title = result_files[0].split(\"\\\\\")[-1].split(\"_\")\n",
    "title = name[1] + \" \" + name[2]"
   ]
  },
  {
   "cell_type": "code",
   "execution_count": 71,
   "id": "guilty-alloy",
   "metadata": {},
   "outputs": [],
   "source": [
    "ypred1 = stats.mode(ypred, axis=0).mode[0]"
   ]
  },
  {
   "cell_type": "code",
   "execution_count": 86,
   "id": "about-vitamin",
   "metadata": {},
   "outputs": [
    {
     "data": {
      "text/plain": [
       "0.311251420994206"
      ]
     },
     "execution_count": 86,
     "metadata": {},
     "output_type": "execute_result"
    }
   ],
   "source": [
    "fbeta_score(ytrue, ypred1, beta=2, average=\"weighted\")"
   ]
  },
  {
   "cell_type": "code",
   "execution_count": 82,
   "id": "editorial-highway",
   "metadata": {},
   "outputs": [
    {
     "name": "stdout",
     "output_type": "stream",
     "text": [
      "              precision    recall  f1-score   support\n",
      "\n",
      "        chew       0.05      0.30      0.08     58190\n",
      "        elpp       0.03      0.22      0.05     59855\n",
      "        eyem       0.04      0.83      0.09    161845\n",
      "        musc       0.02      0.18      0.04    103400\n",
      "        shiv       0.02      0.25      0.04     30875\n",
      "        null       0.98      0.29      0.44   6516350\n",
      "\n",
      "    accuracy                           0.30   6930515\n",
      "   macro avg       0.19      0.34      0.12   6930515\n",
      "weighted avg       0.93      0.30      0.42   6930515\n",
      "\n"
     ]
    }
   ],
   "source": [
    "print(classification_report(np.tile(ytrue, 5), ypred.flatten(), target_names=list(label_dict.keys())))"
   ]
  },
  {
   "cell_type": "code",
   "execution_count": 81,
   "id": "returning-illinois",
   "metadata": {},
   "outputs": [
    {
     "name": "stdout",
     "output_type": "stream",
     "text": [
      "              precision    recall  f1-score   support\n",
      "\n",
      "        chew       0.04      0.23      0.07     11638\n",
      "        elpp       0.03      0.23      0.05     11971\n",
      "        eyem       0.04      0.83      0.08     32369\n",
      "        musc       0.02      0.19      0.04     20680\n",
      "        shiv       0.02      0.26      0.04      6175\n",
      "        null       0.98      0.28      0.43   1303270\n",
      "\n",
      "    accuracy                           0.29   1386103\n",
      "   macro avg       0.19      0.34      0.12   1386103\n",
      "weighted avg       0.93      0.29      0.41   1386103\n",
      "\n"
     ]
    }
   ],
   "source": [
    "print(classification_report(ytrue, ypred1, target_names=list(label_dict.keys())))"
   ]
  },
  {
   "cell_type": "code",
   "execution_count": 78,
   "id": "sonic-fundamental",
   "metadata": {},
   "outputs": [
    {
     "data": {
      "text/plain": [
       "array([5, 0, 0, ..., 3, 3, 3], dtype=int64)"
      ]
     },
     "execution_count": 78,
     "metadata": {},
     "output_type": "execute_result"
    }
   ],
   "source": [
    "ypred1"
   ]
  },
  {
   "cell_type": "markdown",
   "id": "continuous-mathematics",
   "metadata": {},
   "source": [
    "# Filtering results"
   ]
  },
  {
   "cell_type": "code",
   "execution_count": 12,
   "id": "biological-lawrence",
   "metadata": {},
   "outputs": [],
   "source": [
    "def filtering(y, df):\n",
    "    yfiltered = np.empty(len(y))\n",
    "    for session_name in tqdm(np.unique(df[\"Name\"])):\n",
    "        idxs = df[df[\"Name\"] == session_name].sort_values(by=\"Start\", ascending=True, key=lambda col: col.values)[\"index\"].values\n",
    "        yfiltered[idxs] = clean2(y[idxs])\n",
    "    return yfiltered"
   ]
  },
  {
   "cell_type": "code",
   "execution_count": 21,
   "id": "structural-mexico",
   "metadata": {},
   "outputs": [
    {
     "data": {
      "application/vnd.jupyter.widget-view+json": {
       "model_id": "51d0dc3799124d42974112354cd1e28f",
       "version_major": 2,
       "version_minor": 0
      },
      "text/plain": [
       "  0%|          | 0/4 [00:00<?, ?it/s]"
      ]
     },
     "metadata": {},
     "output_type": "display_data"
    },
    {
     "data": {
      "application/vnd.jupyter.widget-view+json": {
       "model_id": "4a6c7a22d4a64396aaf44fdb3d9f4344",
       "version_major": 2,
       "version_minor": 0
      },
      "text/plain": [
       "  0%|          | 0/5 [00:00<?, ?it/s]"
      ]
     },
     "metadata": {},
     "output_type": "display_data"
    },
    {
     "data": {
      "application/vnd.jupyter.widget-view+json": {
       "model_id": "d3c14180614e4f1c969002239e33e801",
       "version_major": 2,
       "version_minor": 0
      },
      "text/plain": [
       "  0%|          | 0/302 [00:00<?, ?it/s]"
      ]
     },
     "metadata": {},
     "output_type": "display_data"
    },
    {
     "data": {
      "application/vnd.jupyter.widget-view+json": {
       "model_id": "c5786d6ecfe9443b82aab82cee5af5d3",
       "version_major": 2,
       "version_minor": 0
      },
      "text/plain": [
       "  0%|          | 0/302 [00:00<?, ?it/s]"
      ]
     },
     "metadata": {},
     "output_type": "display_data"
    },
    {
     "data": {
      "application/vnd.jupyter.widget-view+json": {
       "model_id": "bf9036799f4747c7b7ed2b9e71b8d7e5",
       "version_major": 2,
       "version_minor": 0
      },
      "text/plain": [
       "  0%|          | 0/302 [00:00<?, ?it/s]"
      ]
     },
     "metadata": {},
     "output_type": "display_data"
    },
    {
     "data": {
      "application/vnd.jupyter.widget-view+json": {
       "model_id": "e99f1b6d0eff42a9ac22079541950f32",
       "version_major": 2,
       "version_minor": 0
      },
      "text/plain": [
       "  0%|          | 0/302 [00:00<?, ?it/s]"
      ]
     },
     "metadata": {},
     "output_type": "display_data"
    },
    {
     "data": {
      "application/vnd.jupyter.widget-view+json": {
       "model_id": "900a1a634f424160b7f79ed2515ae1db",
       "version_major": 2,
       "version_minor": 0
      },
      "text/plain": [
       "  0%|          | 0/302 [00:00<?, ?it/s]"
      ]
     },
     "metadata": {},
     "output_type": "display_data"
    },
    {
     "data": {
      "application/vnd.jupyter.widget-view+json": {
       "model_id": "2ad89ccc09264157bc7d9cb9d5ebf02b",
       "version_major": 2,
       "version_minor": 0
      },
      "text/plain": [
       "  0%|          | 0/5 [00:00<?, ?it/s]"
      ]
     },
     "metadata": {},
     "output_type": "display_data"
    },
    {
     "data": {
      "application/vnd.jupyter.widget-view+json": {
       "model_id": "af12741aad8c4c41a0f644e808c7720b",
       "version_major": 2,
       "version_minor": 0
      },
      "text/plain": [
       "  0%|          | 0/302 [00:00<?, ?it/s]"
      ]
     },
     "metadata": {},
     "output_type": "display_data"
    },
    {
     "data": {
      "application/vnd.jupyter.widget-view+json": {
       "model_id": "44e30c2f09f0432f8833aa4d6e2b41c9",
       "version_major": 2,
       "version_minor": 0
      },
      "text/plain": [
       "  0%|          | 0/302 [00:00<?, ?it/s]"
      ]
     },
     "metadata": {},
     "output_type": "display_data"
    },
    {
     "data": {
      "application/vnd.jupyter.widget-view+json": {
       "model_id": "ba9b12ed8e4244a492ff21109d8eb881",
       "version_major": 2,
       "version_minor": 0
      },
      "text/plain": [
       "  0%|          | 0/302 [00:00<?, ?it/s]"
      ]
     },
     "metadata": {},
     "output_type": "display_data"
    },
    {
     "data": {
      "application/vnd.jupyter.widget-view+json": {
       "model_id": "dd46d0b38e284cd5b453027bcd7cfa67",
       "version_major": 2,
       "version_minor": 0
      },
      "text/plain": [
       "  0%|          | 0/302 [00:00<?, ?it/s]"
      ]
     },
     "metadata": {},
     "output_type": "display_data"
    },
    {
     "data": {
      "application/vnd.jupyter.widget-view+json": {
       "model_id": "ac5ea808c7e94ded8344db34a353daea",
       "version_major": 2,
       "version_minor": 0
      },
      "text/plain": [
       "  0%|          | 0/302 [00:00<?, ?it/s]"
      ]
     },
     "metadata": {},
     "output_type": "display_data"
    },
    {
     "data": {
      "application/vnd.jupyter.widget-view+json": {
       "model_id": "ced6d7a652c34e4dbd3a180597d2190b",
       "version_major": 2,
       "version_minor": 0
      },
      "text/plain": [
       "  0%|          | 0/5 [00:00<?, ?it/s]"
      ]
     },
     "metadata": {},
     "output_type": "display_data"
    },
    {
     "data": {
      "application/vnd.jupyter.widget-view+json": {
       "model_id": "1cf4be672d4b4b2bba58a2800614bf5c",
       "version_major": 2,
       "version_minor": 0
      },
      "text/plain": [
       "  0%|          | 0/302 [00:00<?, ?it/s]"
      ]
     },
     "metadata": {},
     "output_type": "display_data"
    },
    {
     "data": {
      "application/vnd.jupyter.widget-view+json": {
       "model_id": "033eaf8aa4ec46f4b50f17c6e79e2452",
       "version_major": 2,
       "version_minor": 0
      },
      "text/plain": [
       "  0%|          | 0/302 [00:00<?, ?it/s]"
      ]
     },
     "metadata": {},
     "output_type": "display_data"
    },
    {
     "data": {
      "application/vnd.jupyter.widget-view+json": {
       "model_id": "cb62112289fd4f489bc8d4c56f8ed2b4",
       "version_major": 2,
       "version_minor": 0
      },
      "text/plain": [
       "  0%|          | 0/302 [00:00<?, ?it/s]"
      ]
     },
     "metadata": {},
     "output_type": "display_data"
    },
    {
     "data": {
      "application/vnd.jupyter.widget-view+json": {
       "model_id": "ec99c0c587874eb3b81074c883e05eca",
       "version_major": 2,
       "version_minor": 0
      },
      "text/plain": [
       "  0%|          | 0/302 [00:00<?, ?it/s]"
      ]
     },
     "metadata": {},
     "output_type": "display_data"
    },
    {
     "data": {
      "application/vnd.jupyter.widget-view+json": {
       "model_id": "3a97e93709ad4dffb99b84e248bc2c3b",
       "version_major": 2,
       "version_minor": 0
      },
      "text/plain": [
       "  0%|          | 0/302 [00:00<?, ?it/s]"
      ]
     },
     "metadata": {},
     "output_type": "display_data"
    },
    {
     "data": {
      "application/vnd.jupyter.widget-view+json": {
       "model_id": "6d73ff2c54254df6b2019c4657a0e4ba",
       "version_major": 2,
       "version_minor": 0
      },
      "text/plain": [
       "  0%|          | 0/5 [00:00<?, ?it/s]"
      ]
     },
     "metadata": {},
     "output_type": "display_data"
    },
    {
     "data": {
      "application/vnd.jupyter.widget-view+json": {
       "model_id": "25bebf74a9d0433995a3e415b2dfa907",
       "version_major": 2,
       "version_minor": 0
      },
      "text/plain": [
       "  0%|          | 0/302 [00:00<?, ?it/s]"
      ]
     },
     "metadata": {},
     "output_type": "display_data"
    },
    {
     "data": {
      "application/vnd.jupyter.widget-view+json": {
       "model_id": "3796b6887ffa4fe4948fb7abb22a5ecb",
       "version_major": 2,
       "version_minor": 0
      },
      "text/plain": [
       "  0%|          | 0/302 [00:00<?, ?it/s]"
      ]
     },
     "metadata": {},
     "output_type": "display_data"
    },
    {
     "data": {
      "application/vnd.jupyter.widget-view+json": {
       "model_id": "d9f4791e4ecd4b909d53a9db05fb2061",
       "version_major": 2,
       "version_minor": 0
      },
      "text/plain": [
       "  0%|          | 0/302 [00:00<?, ?it/s]"
      ]
     },
     "metadata": {},
     "output_type": "display_data"
    },
    {
     "data": {
      "application/vnd.jupyter.widget-view+json": {
       "model_id": "20d11920256441dca9443210385e75c2",
       "version_major": 2,
       "version_minor": 0
      },
      "text/plain": [
       "  0%|          | 0/302 [00:00<?, ?it/s]"
      ]
     },
     "metadata": {},
     "output_type": "display_data"
    },
    {
     "data": {
      "application/vnd.jupyter.widget-view+json": {
       "model_id": "04b67ce348f845c8bf06644aa6fc8cb8",
       "version_major": 2,
       "version_minor": 0
      },
      "text/plain": [
       "  0%|          | 0/302 [00:00<?, ?it/s]"
      ]
     },
     "metadata": {},
     "output_type": "display_data"
    }
   ],
   "source": [
    "for file in tqdm(result_files[-4:]):\n",
    "    out_name = file.replace(\"Raw\", \"Filtered\").replace(\".npy\", \"_filtered.npy\")\n",
    "    ypred = np.load(file)\n",
    "    for i in tqdm(range(5)):\n",
    "        ypred[i] = filtering(ypred[i], df)\n",
    "    np.save(out_name, ypred)"
   ]
  },
  {
   "cell_type": "code",
   "execution_count": null,
   "id": "detected-coverage",
   "metadata": {},
   "outputs": [],
   "source": []
  }
 ],
 "metadata": {
  "kernelspec": {
   "display_name": "epilepsy",
   "language": "python",
   "name": "epilepsy"
  },
  "language_info": {
   "codemirror_mode": {
    "name": "ipython",
    "version": 3
   },
   "file_extension": ".py",
   "mimetype": "text/x-python",
   "name": "python",
   "nbconvert_exporter": "python",
   "pygments_lexer": "ipython3",
   "version": "3.8.5"
  }
 },
 "nbformat": 4,
 "nbformat_minor": 5
}
